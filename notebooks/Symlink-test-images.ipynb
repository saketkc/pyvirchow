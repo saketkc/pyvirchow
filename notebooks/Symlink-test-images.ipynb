{
 "cells": [
  {
   "cell_type": "code",
   "execution_count": 6,
   "metadata": {},
   "outputs": [
    {
     "name": "stdout",
     "output_type": "stream",
     "text": [
      "Populating the interactive namespace from numpy and matplotlib\n"
     ]
    }
   ],
   "source": [
    "%pylab inline\n",
    "import pandas as pd\n",
    "import os\n",
    "import sys\n",
    "import glob\n",
    "import ntpath\n",
    "\n",
    "def path_leaf(path):\n",
    "    head, tail = ntpath.split(path)\n",
    "    return tail or ntpath.basename(head)"
   ]
  },
  {
   "cell_type": "code",
   "execution_count": 9,
   "metadata": {},
   "outputs": [],
   "source": [
    "df = pd.read_csv('../../../histopath_data/CAMELYON16/testing/reference.csv',\n",
    "                 names=['filename', 'condition', 'cancer_type', 'cancer_size'])\n",
    "df\n",
    "\n",
    "train_tumor_dir = '../../../histopath_data/CAMELYON16/training/tumor/'\n",
    "train_normal_dir = '../../../histopath_data/CAMELYON16/training/normal/'\n",
    "\n",
    "train_tumor_files = [path_leaf(x).replace('.tif', '') for x in glob.glob('{}*.tif'.format(train_tumor_dir))]\n",
    "train_normal_files = [path_leaf(x).replace('.tif', '') for x in glob.glob('{}*.tif'.format(train_normal_dir))]"
   ]
  },
  {
   "cell_type": "code",
   "execution_count": 10,
   "metadata": {},
   "outputs": [],
   "source": [
    "np.random.seed(42)\n",
    "numpy.random.shuffle(train_tumor_files)\n",
    "total_tumor_files = len(train_tumor_files)\n",
    "total_normal_files = len(train_normal_files)\n",
    "\n",
    "training_tumor_files, validation_tumor_files = train_tumor_files[:int(0.8*total_tumor_files)], train_tumor_files[int(0.8*total_tumor_files):]"
   ]
  },
  {
   "cell_type": "code",
   "execution_count": 11,
   "metadata": {},
   "outputs": [],
   "source": [
    "np.random.seed(42)\n",
    "numpy.random.shuffle(train_normal_files)\n",
    "total_normal_files = len(train_normal_files)\n",
    "total_normal_files = len(train_normal_files)\n",
    "\n",
    "training_normal_files, validation_normal_files = train_normal_files[:int(0.8*total_normal_files)], train_normal_files[int(0.8*total_normal_files):]"
   ]
  },
  {
   "cell_type": "code",
   "execution_count": 19,
   "metadata": {},
   "outputs": [],
   "source": [
    "destination_dir_training = '/Z/personal-folders/interns/saket/tf-datasets/camelyon16/training/'\n",
    "destination_dir_validation = '/Z/personal-folders/interns/saket/tf-datasets/camelyon16/validation/'\n",
    "\n",
    "root_dir_tumor = '/Z/personal-folders/interns/saket/histopath_data/CAMELYON16/training/extracted_tumor_patches/level_5/'\n",
    "root_dir_normal = '/Z/personal-folders/interns/saket/histopath_data/CAMELYON16/training/extracted_normal_patches/level_5/'\n",
    "\n",
    "for file in glob.glob(root_dir_tumor+'*.png'):\n",
    "    filename = path_leaf(file)\n",
    "    splitted = filename.split('_')\n",
    "    sfilename = splitted[0] + '_' + splitted[1]\n",
    "    if sfilename in training_tumor_files:\n",
    "        os.symlink(file, os.path.join(destination_dir_training, 'tumor', filename))\n",
    "    elif sfilename in validation_tumor_files:\n",
    "        os.symlink(file, os.path.join(destination_dir_validation, 'tumor', filename))\n",
    "    else:\n",
    "        raise RuntimeError('Mot a valid source: {}'.format(file))\n",
    "    \n",
    "for file in glob.glob(root_dir_normal+'*.png'):\n",
    "    filename = path_leaf(file)\n",
    "    splitted = filename.split('_')\n",
    "    sfilename = splitted[0] + '_' + splitted[1]\n",
    "    \n",
    "    if sfilename in training_normal_files:\n",
    "        os.symlink(file, os.path.join(destination_dir_training, 'normal', filename))\n",
    "    elif sfilename in validation_normal_files:\n",
    "        os.symlink(file, os.path.join(destination_dir_validation, 'normal', filename))\n",
    "    else:\n",
    "        raise RuntimeError('Mot a valid source: {}'.format(file))\n"
   ]
  },
  {
   "cell_type": "code",
   "execution_count": 16,
   "metadata": {},
   "outputs": [
    {
     "data": {
      "text/plain": [
       "'level_5'"
      ]
     },
     "execution_count": 16,
     "metadata": {},
     "output_type": "execute_result"
    }
   ],
   "source": [
    "filename"
   ]
  },
  {
   "cell_type": "code",
   "execution_count": 17,
   "metadata": {},
   "outputs": [
    {
     "data": {
      "text/plain": [
       "'/Z/personal-folders/interns/saket/histopath_data/CAMELYON16/training/extracted_tumor_patches/level_5'"
      ]
     },
     "execution_count": 17,
     "metadata": {},
     "output_type": "execute_result"
    }
   ],
   "source": [
    "file"
   ]
  },
  {
   "cell_type": "code",
   "execution_count": null,
   "metadata": {},
   "outputs": [],
   "source": []
  }
 ],
 "metadata": {
  "kernelspec": {
   "display_name": "Python [default]",
   "language": "python",
   "name": "python3"
  },
  "language_info": {
   "codemirror_mode": {
    "name": "ipython",
    "version": 3
   },
   "file_extension": ".py",
   "mimetype": "text/x-python",
   "name": "python",
   "nbconvert_exporter": "python",
   "pygments_lexer": "ipython3",
   "version": "3.5.5"
  }
 },
 "nbformat": 4,
 "nbformat_minor": 2
}
