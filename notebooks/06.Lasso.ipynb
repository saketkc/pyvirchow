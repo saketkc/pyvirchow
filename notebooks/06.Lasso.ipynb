{
 "cells": [
  {
   "cell_type": "code",
   "execution_count": 1,
   "metadata": {},
   "outputs": [
    {
     "name": "stdout",
     "output_type": "stream",
     "text": [
      "Populating the interactive namespace from numpy and matplotlib\n"
     ]
    }
   ],
   "source": [
    "%pylab inline\n",
    "%load_ext autoreload\n",
    "%autoreload 2\n",
    "import warnings\n",
    "warnings.filterwarnings('ignore')\n",
    "warnings.simplefilter('ignore')\n",
    "import os\n",
    "import glob\n",
    "from tqdm import tqdm, tqdm_notebook\n",
    "import pandas as pd\n",
    "import fitsne\n",
    "from sklearn.model_selection import cross_val_score\n",
    "\n",
    "from ipywidgets import interact, interactive, fixed, interact_manual\n",
    "import ipywidgets as widgets\n",
    "\n",
    "from skimage.color import rgb2gray\n",
    "\n",
    "from pywsi.io import WSIReader\n",
    "from pywsi.io.operations import read_as_rgb\n",
    "\n",
    "from pywsi.segmentation import poisson_deconvolve, perform_binary_cut, max_clustering\n",
    "from pywsi.segmentation import collapse_labels, collapse_small_area, laplace_of_gaussian\n",
    "from pywsi.segmentation import gmm_thresholding, label_nuclei, extract_features, summarize_region_properties\n",
    "\n",
    "from pywsi.normalization import MacenkoNormalization\n",
    "from pywsi.normalization import ReinhardNormalization\n",
    "from pywsi.normalization import VahadaneNormalization\n",
    "from pywsi.normalization import XuNormalization\n",
    "\n",
    "from sklearn.decomposition import PCA, FastICA\n",
    "from skimage.color import rgb2gray\n",
    "from skimage.io import imread\n",
    "from sklearn.discriminant_analysis import LinearDiscriminantAnalysis\n",
    "from sklearn.manifold import TSNE\n",
    "import umap\n",
    "import seaborn as sns\n",
    "sns.set_style('whitegrid')\n",
    "sns.set_context('paper', font_scale=2)\n",
    "\n",
    "from sklearn.model_selection import train_test_split\n",
    "from sklearn import metrics\n",
    "from sklearn.datasets import load_wine\n",
    "from sklearn.pipeline import make_pipeline\n",
    "\n",
    "from sklearn.preprocessing import StandardScaler\n",
    "from sklearn import linear_model\n",
    "from sklearn.metrics import r2_score\n",
    "from sklearn.linear_model import ElasticNet\n",
    "from tpot import TPOTClassifier\n",
    "import pickle\n",
    "from multiprocessing import Pool\n",
    "\n",
    "scaler = StandardScaler()"
   ]
  },
  {
   "cell_type": "code",
   "execution_count": 2,
   "metadata": {},
   "outputs": [],
   "source": [
    "normal_patches_dir = '/Z/personal-folders/interns/saket/histopath_data/CAMELYON16_patches/normal_patches_test/level_0/'\n",
    "tumor_patches_dir = '/Z/personal-folders/interns/saket/histopath_data/CAMELYON16_patches/tumor_patches_test/level_0/'\n",
    "segmented_tsv_dir = '/Z/personal-folders/interns/saket/histopath_data/CAMELYON16_patches/normal_patches_test_segmented/level_0/'"
   ]
  },
  {
   "cell_type": "code",
   "execution_count": 2,
   "metadata": {},
   "outputs": [],
   "source": [
    "np.random.seed(42)\n",
    "list_of_tumor_files = list(glob.glob('{}*.png'.format(tumor_patches_dir)))\n",
    "list_of_normal_files = list(glob.glob('{}*.png'.format(normal_patches_dir)))\n",
    "\n",
    "#list_of_tumor_files = list(np.random.choice(list_of_tumor_files, 20000))\n",
    "#list_of_normal_files = list(np.random.choice(list_of_normal_files, 20000))"
   ]
  },
  {
   "cell_type": "code",
   "execution_count": null,
   "metadata": {},
   "outputs": [],
   "source": [
    "def draw_nuclei(patch, local_max_search_radius=3, min_radius=5, max_radius=15, min_nucleus_area=100):\n",
    "    patch = read_as_rgb(patch)\n",
    "    label_nuclei(patch,\n",
    "                 local_max_search_radius=local_max_search_radius, \n",
    "                 min_radius=min_radius,\n",
    "                 max_radius=max_radius, \n",
    "                 min_nucleus_area=min_nucleus_area)\n",
    "    "
   ]
  },
  {
   "cell_type": "code",
   "execution_count": null,
   "metadata": {},
   "outputs": [],
   "source": [
    "interact(draw_nuclei, patch=list_of_tumor_files+list_of_normal_files)\n"
   ]
  },
  {
   "cell_type": "code",
   "execution_count": null,
   "metadata": {},
   "outputs": [],
   "source": [
    "patch = read_as_rgb(list_of_tumor_files[0])"
   ]
  },
  {
   "cell_type": "code",
   "execution_count": null,
   "metadata": {},
   "outputs": [],
   "source": [
    "region_properties, fg_mask = label_nuclei(patch)"
   ]
  },
  {
   "cell_type": "code",
   "execution_count": null,
   "metadata": {},
   "outputs": [],
   "source": [
    "features_df = []\n",
    "labels = []\n",
    "def process_sample(sample):\n",
    "    patch = read_as_rgb(sample)\n",
    "    region_properties, _ = label_nuclei(patch, draw=False) \n",
    "    summary = summarize_region_properties(region_properties, \n",
    "                                          patch)\n",
    "    return summary\n",
    "#for sample in tqdm_notebook(list_of_normal_files):\n",
    "\n",
    "with tqdm_notebook(total=len(list_of_tumor_files)) as pbar:\n",
    "    with Pool(processes=32) as p:\n",
    "        for i, summary in enumerate(p.imap_unordered(process_sample, list_of_tumor_files)):\n",
    "            pbar.update()\n",
    "            if summary is None:\n",
    "                print('Nothing found for {}'.format(sample))\n",
    "                continue\n",
    "            else:\n",
    "                labels.append('tumor')\n",
    "    features_df.append(summary)\n",
    "    \n",
    "pickle.dump(features_df, open('normal.pickle', 'wb'))"
   ]
  },
  {
   "cell_type": "code",
   "execution_count": null,
   "metadata": {},
   "outputs": [],
   "source": [
    "with tqdm_notebook(total=len(list_of_normal_files)) as pbar:\n",
    "    with Pool(processes=32) as p:\n",
    "        for i, summary in enumerate(p.imap_unordered(process_sample, list_of_tumor_files)):\n",
    "            pbar.update()\n",
    "            if summary is None:\n",
    "                print('Nothing found for {}'.format(sample))\n",
    "                continue\n",
    "            else:\n",
    "                labels.append('normal')\n",
    "    features_df.append(summary)\n",
    "pickle.dump(features_df, open('tumor.pickle', 'wb'))"
   ]
  },
  {
   "cell_type": "code",
   "execution_count": null,
   "metadata": {},
   "outputs": [],
   "source": []
  },
  {
   "cell_type": "code",
   "execution_count": null,
   "metadata": {},
   "outputs": [],
   "source": [
    "#tfile = '/Z/personal-folders/interns/saket/histopath_data/CAMELYON16_patches/normal_patches_test/level_0/tumor_048_33856_186816_256.png'\n",
    "y = np.array([1  if label=='normal' else 0 for label in labels])"
   ]
  },
  {
   "cell_type": "code",
   "execution_count": null,
   "metadata": {},
   "outputs": [],
   "source": [
    "f = pd.DataFrame(features_df)\n",
    "X = f.values"
   ]
  },
  {
   "cell_type": "code",
   "execution_count": null,
   "metadata": {},
   "outputs": [],
   "source": [
    "X_scaled = scaler.fit(X).transform(X)"
   ]
  },
  {
   "cell_type": "code",
   "execution_count": null,
   "metadata": {},
   "outputs": [],
   "source": [
    "X_scaled.shape"
   ]
  },
  {
   "cell_type": "markdown",
   "metadata": {},
   "source": [
    "# PCA\n",
    "\n",
    "We start of with doing PCA/tSNE on the features.\n"
   ]
  },
  {
   "cell_type": "markdown",
   "metadata": {},
   "source": [
    "# UMAP"
   ]
  },
  {
   "cell_type": "code",
   "execution_count": null,
   "metadata": {},
   "outputs": [],
   "source": [
    "\n",
    "embedding = umap.UMAP(n_neighbors=20,\n",
    "                      min_dist=0.3,\n",
    "                      metric='correlation').fit_transform(X_scaled)\n",
    "fig = plt.figure(figsize=(10, 10))\n",
    "\n",
    "for color, i, target_name in zip(colors, [0, 1], label_matrix):\n",
    "    plt.scatter(embedding[y == i, 0], embedding[y == i, 1], color=color, alpha=.8, lw=lw,\n",
    "                label=target_name)\n",
    "fig.tight_layout()\n",
    "plt.title('UMAP')"
   ]
  },
  {
   "cell_type": "code",
   "execution_count": null,
   "metadata": {},
   "outputs": [],
   "source": [
    "Y = fitsne.FItSNE(X_scaled.copy(order='C'))# max_iter=500)"
   ]
  },
  {
   "cell_type": "code",
   "execution_count": null,
   "metadata": {},
   "outputs": [],
   "source": [
    "std_clf = make_pipeline(StandardScaler(), PCA(n_components=2))\n",
    "std_clf.fit(X)\n",
    "\n"
   ]
  },
  {
   "cell_type": "raw",
   "metadata": {},
   "source": [
    "\"\"\"\n",
    "pca = PCA(n_components=2)\n",
    "X_r = pca.fit(X_scaled).transform(X_scaled)\n",
    "\n",
    "\n",
    "# Percentage of variance explained for each components\n",
    "print('explained variance ratio (first two components): %s'\n",
    "      % str(pca.explained_variance_ratio_))\n",
    "\n",
    "fig = plt.figure(figsize=(10, 10))\n",
    "colors = ['navy', 'darkorange']\n",
    "lw = 0.2\n",
    "label_matrix = ['normal', 'tumor']\n",
    "for color, i, target_name in zip(colors, [0, 1], label_matrix):\n",
    "    plt.scatter(X_r[y == i, 0], X_r[y == i, 1], color=color, alpha=.4, lw=lw,\n",
    "                label=target_name)\n",
    "plt.legend(loc='best', shadow=False, scatterpoints=1)\n",
    "plt.title('PCA ')\n",
    "\"\"\""
   ]
  },
  {
   "cell_type": "code",
   "execution_count": null,
   "metadata": {},
   "outputs": [],
   "source": [
    "colors = ['navy', 'darkorange']\n",
    "lw = 0.2\n",
    "label_matrix = ['normal', 'tumor']\n",
    "\n",
    "fig = plt.figure(figsize=(10, 10))\n",
    "for color, i, target_name in zip(colors, [0, 1], label_matrix):\n",
    "    plt.scatter(Y[y == i, 0], Y[y == i, 1], color=color, alpha=.8, lw=lw,\n",
    "                label=target_name)\n",
    "plt.legend(loc='best', shadow=False, scatterpoints=1)\n",
    "\n",
    "fig.tight_layout()\n",
    "plt.title('FIt-SNE')"
   ]
  },
  {
   "cell_type": "markdown",
   "metadata": {},
   "source": [
    "# Random Forest"
   ]
  },
  {
   "cell_type": "code",
   "execution_count": null,
   "metadata": {},
   "outputs": [],
   "source": [
    "RANDOM_STATE = 42\n",
    "\n",
    "X_train, X_test, y_train, y_test = train_test_split(X_scaled, y,\n",
    "                                                    test_size=0.30,\n",
    "                                                    random_state=RANDOM_STATE)\n",
    "rf = RandomForestClassifier(n_estimators=40)\n",
    "print(clf.feature_importances_)"
   ]
  },
  {
   "cell_type": "markdown",
   "metadata": {},
   "source": [
    "# LASSO"
   ]
  },
  {
   "cell_type": "code",
   "execution_count": null,
   "metadata": {},
   "outputs": [],
   "source": [
    "lasso = linear_model.Lasso(alpha = 0.1)\n",
    "lasso.fit(X_train, y_train)"
   ]
  },
  {
   "cell_type": "code",
   "execution_count": null,
   "metadata": {},
   "outputs": [],
   "source": [
    "y_pred_lasso = lasso.predict(X_test)\n",
    "r2_score_lasso = r2_score(y_test, y_pred_lasso)"
   ]
  },
  {
   "cell_type": "code",
   "execution_count": null,
   "metadata": {},
   "outputs": [],
   "source": [
    "r2_score_lasso"
   ]
  },
  {
   "cell_type": "code",
   "execution_count": null,
   "metadata": {},
   "outputs": [],
   "source": [
    "alpha = 0.001\n",
    "enet = ElasticNet(alpha=alpha, l1_ratio=0.7)\n",
    "\n",
    "y_pred_enet = enet.fit(X_train, y_train).predict(X_test)\n",
    "r2_score_enet = r2_score(y_test, y_pred_enet)\n",
    "r2_score_enet"
   ]
  },
  {
   "cell_type": "code",
   "execution_count": null,
   "metadata": {},
   "outputs": [],
   "source": [
    "pipeline_optimizer = TPOTClassifier(generations=5, population_size=20, cv=5,\n",
    "                                    random_state=42, verbosity=2)\n",
    "pipeline_optimizer.fit(X_train, y_train)\n"
   ]
  },
  {
   "cell_type": "code",
   "execution_count": null,
   "metadata": {},
   "outputs": [],
   "source": [
    "print(pipeline_optimizer.score(X_test, y_test))\n"
   ]
  },
  {
   "cell_type": "code",
   "execution_count": 17,
   "metadata": {},
   "outputs": [],
   "source": [
    "df = pd.DataFrame()\n",
    "for f in list_of_normal_files:\n",
    "    uid = f.replace('.png', '.tsv').replace(os.path.dirname(f), '').replace('/', '')\n",
    "    temp_df = pd.read_table(os.path.join(segmented_tsv_dir, uid))\n",
    "    df = pd.concat([df, temp_df])\n",
    "    break\n"
   ]
  },
  {
   "cell_type": "code",
   "execution_count": 11,
   "metadata": {},
   "outputs": [
    {
     "data": {
      "text/plain": [
       "'/Z/personal-folders/interns/saket/histopath_data/CAMELYON16_patches/normal_patches_test_segmented/level_0/'"
      ]
     },
     "execution_count": 11,
     "metadata": {},
     "output_type": "execute_result"
    }
   ],
   "source": [
    "segmented_tsv_dir"
   ]
  },
  {
   "cell_type": "code",
   "execution_count": 18,
   "metadata": {},
   "outputs": [
    {
     "data": {
      "text/html": [
       "<div>\n",
       "<style scoped>\n",
       "    .dataframe tbody tr th:only-of-type {\n",
       "        vertical-align: middle;\n",
       "    }\n",
       "\n",
       "    .dataframe tbody tr th {\n",
       "        vertical-align: top;\n",
       "    }\n",
       "\n",
       "    .dataframe thead th {\n",
       "        text-align: right;\n",
       "    }\n",
       "</style>\n",
       "<table border=\"1\" class=\"dataframe\">\n",
       "  <thead>\n",
       "    <tr style=\"text-align: right;\">\n",
       "      <th></th>\n",
       "      <th>area</th>\n",
       "      <th>bbox_area</th>\n",
       "      <th>compactness</th>\n",
       "      <th>convex_area</th>\n",
       "      <th>eccentricity</th>\n",
       "      <th>equivalent_diameter</th>\n",
       "      <th>extent</th>\n",
       "      <th>fractal_dimension</th>\n",
       "      <th>inertia_tensor_eigvals_1</th>\n",
       "      <th>inertia_tensor_eigvals_2</th>\n",
       "      <th>...</th>\n",
       "      <th>moments_hu_6</th>\n",
       "      <th>moments_hu_7</th>\n",
       "      <th>nuclei</th>\n",
       "      <th>nuclei_intensity_over_entire_image</th>\n",
       "      <th>orientation</th>\n",
       "      <th>perimeter</th>\n",
       "      <th>solidity</th>\n",
       "      <th>texture</th>\n",
       "      <th>total_nuclei_area</th>\n",
       "      <th>total_nuclei_area_ratio</th>\n",
       "    </tr>\n",
       "  </thead>\n",
       "  <tbody>\n",
       "    <tr>\n",
       "      <th>0</th>\n",
       "      <td>195.971831</td>\n",
       "      <td>346.746479</td>\n",
       "      <td>26.083501</td>\n",
       "      <td>249.605634</td>\n",
       "      <td>0.63141</td>\n",
       "      <td>15.552323</td>\n",
       "      <td>0.578918</td>\n",
       "      <td>0.82986</td>\n",
       "      <td>24.369564</td>\n",
       "      <td>13.537401</td>\n",
       "      <td>...</td>\n",
       "      <td>0.000004</td>\n",
       "      <td>-4.112912e-08</td>\n",
       "      <td>71</td>\n",
       "      <td>0.427526</td>\n",
       "      <td>0.326445</td>\n",
       "      <td>69.960757</td>\n",
       "      <td>0.789925</td>\n",
       "      <td>0.009722</td>\n",
       "      <td>13914.0</td>\n",
       "      <td>0.212311</td>\n",
       "    </tr>\n",
       "  </tbody>\n",
       "</table>\n",
       "<p>1 rows × 46 columns</p>\n",
       "</div>"
      ],
      "text/plain": [
       "         area   bbox_area  compactness  convex_area  eccentricity  \\\n",
       "0  195.971831  346.746479    26.083501   249.605634       0.63141   \n",
       "\n",
       "   equivalent_diameter    extent  fractal_dimension  inertia_tensor_eigvals_1  \\\n",
       "0            15.552323  0.578918            0.82986                 24.369564   \n",
       "\n",
       "   inertia_tensor_eigvals_2           ...             moments_hu_6  \\\n",
       "0                 13.537401           ...                 0.000004   \n",
       "\n",
       "   moments_hu_7  nuclei  nuclei_intensity_over_entire_image  orientation  \\\n",
       "0 -4.112912e-08      71                            0.427526     0.326445   \n",
       "\n",
       "   perimeter  solidity   texture  total_nuclei_area  total_nuclei_area_ratio  \n",
       "0  69.960757  0.789925  0.009722            13914.0                 0.212311  \n",
       "\n",
       "[1 rows x 46 columns]"
      ]
     },
     "execution_count": 18,
     "metadata": {},
     "output_type": "execute_result"
    }
   ],
   "source": [
    "df"
   ]
  },
  {
   "cell_type": "markdown",
   "metadata": {},
   "source": [
    "# Load df from files"
   ]
  },
  {
   "cell_type": "code",
   "execution_count": 4,
   "metadata": {},
   "outputs": [],
   "source": [
    "import pandas as pd\n",
    "normal_segmented_tsv_dir = '/Z/personal-folders/interns/saket/histopath_data/CAMELYON16_patches/normal_patches_test_segmented/level_0/'\n",
    "tumor_segmented_tsv_dir = '/Z/personal-folders/interns/saket/histopath_data/CAMELYON16_patches/tumor_patches_test_segmented/level_0/'"
   ]
  },
  {
   "cell_type": "code",
   "execution_count": 7,
   "metadata": {},
   "outputs": [
    {
     "data": {
      "application/vnd.jupyter.widget-view+json": {
       "model_id": "b2ff66ec3fbe4617b53c1faeb616f79b",
       "version_major": 2,
       "version_minor": 0
      },
      "text/plain": [
       "HBox(children=(IntProgress(value=0, max=200000), HTML(value='')))"
      ]
     },
     "metadata": {},
     "output_type": "display_data"
    },
    {
     "name": "stdout",
     "output_type": "stream",
     "text": [
      "\n"
     ]
    },
    {
     "data": {
      "application/vnd.jupyter.widget-view+json": {
       "model_id": "fe146b0cdc514458bcf4aeae7d080179",
       "version_major": 2,
       "version_minor": 0
      },
      "text/plain": [
       "HBox(children=(IntProgress(value=0, max=94100), HTML(value='')))"
      ]
     },
     "metadata": {},
     "output_type": "display_data"
    },
    {
     "ename": "EmptyDataError",
     "evalue": "No columns to parse from file",
     "output_type": "error",
     "traceback": [
      "\u001b[0;31m---------------------------------------------------------------------------\u001b[0m",
      "\u001b[0;31mEmptyDataError\u001b[0m                            Traceback (most recent call last)",
      "\u001b[0;32m<ipython-input-7-e8af13bf80e2>\u001b[0m in \u001b[0;36m<module>\u001b[0;34m()\u001b[0m\n\u001b[1;32m      6\u001b[0m \u001b[0;34m\u001b[0m\u001b[0m\n\u001b[1;32m      7\u001b[0m \u001b[0;32mfor\u001b[0m \u001b[0mf\u001b[0m \u001b[0;32min\u001b[0m \u001b[0mtqdm_notebook\u001b[0m\u001b[0;34m(\u001b[0m\u001b[0mglob\u001b[0m\u001b[0;34m.\u001b[0m\u001b[0mglob\u001b[0m\u001b[0;34m(\u001b[0m\u001b[0mtumor_segmented_tsv_dir\u001b[0m\u001b[0;34m+\u001b[0m\u001b[0;34m'/*.tsv'\u001b[0m\u001b[0;34m)\u001b[0m\u001b[0;34m)\u001b[0m\u001b[0;34m:\u001b[0m\u001b[0;34m\u001b[0m\u001b[0m\n\u001b[0;32m----> 8\u001b[0;31m     \u001b[0mdf\u001b[0m \u001b[0;34m=\u001b[0m \u001b[0mpd\u001b[0m\u001b[0;34m.\u001b[0m\u001b[0mconcat\u001b[0m\u001b[0;34m(\u001b[0m\u001b[0;34m(\u001b[0m\u001b[0mdf\u001b[0m\u001b[0;34m,\u001b[0m \u001b[0mpd\u001b[0m\u001b[0;34m.\u001b[0m\u001b[0mread_table\u001b[0m\u001b[0;34m(\u001b[0m\u001b[0mf\u001b[0m\u001b[0;34m)\u001b[0m\u001b[0;34m)\u001b[0m\u001b[0;34m)\u001b[0m\u001b[0;34m\u001b[0m\u001b[0m\n\u001b[0m\u001b[1;32m      9\u001b[0m     \u001b[0my\u001b[0m\u001b[0;34m.\u001b[0m\u001b[0mappend\u001b[0m\u001b[0;34m(\u001b[0m\u001b[0;36m1\u001b[0m\u001b[0;34m)\u001b[0m\u001b[0;34m\u001b[0m\u001b[0m\n\u001b[1;32m     10\u001b[0m \u001b[0;34m\u001b[0m\u001b[0m\n",
      "\u001b[0;32m~/anaconda3/lib/python3.5/site-packages/pandas/io/parsers.py\u001b[0m in \u001b[0;36mparser_f\u001b[0;34m(filepath_or_buffer, sep, delimiter, header, names, index_col, usecols, squeeze, prefix, mangle_dupe_cols, dtype, engine, converters, true_values, false_values, skipinitialspace, skiprows, nrows, na_values, keep_default_na, na_filter, verbose, skip_blank_lines, parse_dates, infer_datetime_format, keep_date_col, date_parser, dayfirst, iterator, chunksize, compression, thousands, decimal, lineterminator, quotechar, quoting, escapechar, comment, encoding, dialect, tupleize_cols, error_bad_lines, warn_bad_lines, skipfooter, doublequote, delim_whitespace, low_memory, memory_map, float_precision)\u001b[0m\n\u001b[1;32m    676\u001b[0m                     skip_blank_lines=skip_blank_lines)\n\u001b[1;32m    677\u001b[0m \u001b[0;34m\u001b[0m\u001b[0m\n\u001b[0;32m--> 678\u001b[0;31m         \u001b[0;32mreturn\u001b[0m \u001b[0m_read\u001b[0m\u001b[0;34m(\u001b[0m\u001b[0mfilepath_or_buffer\u001b[0m\u001b[0;34m,\u001b[0m \u001b[0mkwds\u001b[0m\u001b[0;34m)\u001b[0m\u001b[0;34m\u001b[0m\u001b[0m\n\u001b[0m\u001b[1;32m    679\u001b[0m \u001b[0;34m\u001b[0m\u001b[0m\n\u001b[1;32m    680\u001b[0m     \u001b[0mparser_f\u001b[0m\u001b[0;34m.\u001b[0m\u001b[0m__name__\u001b[0m \u001b[0;34m=\u001b[0m \u001b[0mname\u001b[0m\u001b[0;34m\u001b[0m\u001b[0m\n",
      "\u001b[0;32m~/anaconda3/lib/python3.5/site-packages/pandas/io/parsers.py\u001b[0m in \u001b[0;36m_read\u001b[0;34m(filepath_or_buffer, kwds)\u001b[0m\n\u001b[1;32m    438\u001b[0m \u001b[0;34m\u001b[0m\u001b[0m\n\u001b[1;32m    439\u001b[0m     \u001b[0;31m# Create the parser.\u001b[0m\u001b[0;34m\u001b[0m\u001b[0;34m\u001b[0m\u001b[0m\n\u001b[0;32m--> 440\u001b[0;31m     \u001b[0mparser\u001b[0m \u001b[0;34m=\u001b[0m \u001b[0mTextFileReader\u001b[0m\u001b[0;34m(\u001b[0m\u001b[0mfilepath_or_buffer\u001b[0m\u001b[0;34m,\u001b[0m \u001b[0;34m**\u001b[0m\u001b[0mkwds\u001b[0m\u001b[0;34m)\u001b[0m\u001b[0;34m\u001b[0m\u001b[0m\n\u001b[0m\u001b[1;32m    441\u001b[0m \u001b[0;34m\u001b[0m\u001b[0m\n\u001b[1;32m    442\u001b[0m     \u001b[0;32mif\u001b[0m \u001b[0mchunksize\u001b[0m \u001b[0;32mor\u001b[0m \u001b[0miterator\u001b[0m\u001b[0;34m:\u001b[0m\u001b[0;34m\u001b[0m\u001b[0m\n",
      "\u001b[0;32m~/anaconda3/lib/python3.5/site-packages/pandas/io/parsers.py\u001b[0m in \u001b[0;36m__init__\u001b[0;34m(self, f, engine, **kwds)\u001b[0m\n\u001b[1;32m    785\u001b[0m             \u001b[0mself\u001b[0m\u001b[0;34m.\u001b[0m\u001b[0moptions\u001b[0m\u001b[0;34m[\u001b[0m\u001b[0;34m'has_index_names'\u001b[0m\u001b[0;34m]\u001b[0m \u001b[0;34m=\u001b[0m \u001b[0mkwds\u001b[0m\u001b[0;34m[\u001b[0m\u001b[0;34m'has_index_names'\u001b[0m\u001b[0;34m]\u001b[0m\u001b[0;34m\u001b[0m\u001b[0m\n\u001b[1;32m    786\u001b[0m \u001b[0;34m\u001b[0m\u001b[0m\n\u001b[0;32m--> 787\u001b[0;31m         \u001b[0mself\u001b[0m\u001b[0;34m.\u001b[0m\u001b[0m_make_engine\u001b[0m\u001b[0;34m(\u001b[0m\u001b[0mself\u001b[0m\u001b[0;34m.\u001b[0m\u001b[0mengine\u001b[0m\u001b[0;34m)\u001b[0m\u001b[0;34m\u001b[0m\u001b[0m\n\u001b[0m\u001b[1;32m    788\u001b[0m \u001b[0;34m\u001b[0m\u001b[0m\n\u001b[1;32m    789\u001b[0m     \u001b[0;32mdef\u001b[0m \u001b[0mclose\u001b[0m\u001b[0;34m(\u001b[0m\u001b[0mself\u001b[0m\u001b[0;34m)\u001b[0m\u001b[0;34m:\u001b[0m\u001b[0;34m\u001b[0m\u001b[0m\n",
      "\u001b[0;32m~/anaconda3/lib/python3.5/site-packages/pandas/io/parsers.py\u001b[0m in \u001b[0;36m_make_engine\u001b[0;34m(self, engine)\u001b[0m\n\u001b[1;32m   1012\u001b[0m     \u001b[0;32mdef\u001b[0m \u001b[0m_make_engine\u001b[0m\u001b[0;34m(\u001b[0m\u001b[0mself\u001b[0m\u001b[0;34m,\u001b[0m \u001b[0mengine\u001b[0m\u001b[0;34m=\u001b[0m\u001b[0;34m'c'\u001b[0m\u001b[0;34m)\u001b[0m\u001b[0;34m:\u001b[0m\u001b[0;34m\u001b[0m\u001b[0m\n\u001b[1;32m   1013\u001b[0m         \u001b[0;32mif\u001b[0m \u001b[0mengine\u001b[0m \u001b[0;34m==\u001b[0m \u001b[0;34m'c'\u001b[0m\u001b[0;34m:\u001b[0m\u001b[0;34m\u001b[0m\u001b[0m\n\u001b[0;32m-> 1014\u001b[0;31m             \u001b[0mself\u001b[0m\u001b[0;34m.\u001b[0m\u001b[0m_engine\u001b[0m \u001b[0;34m=\u001b[0m \u001b[0mCParserWrapper\u001b[0m\u001b[0;34m(\u001b[0m\u001b[0mself\u001b[0m\u001b[0;34m.\u001b[0m\u001b[0mf\u001b[0m\u001b[0;34m,\u001b[0m \u001b[0;34m**\u001b[0m\u001b[0mself\u001b[0m\u001b[0;34m.\u001b[0m\u001b[0moptions\u001b[0m\u001b[0;34m)\u001b[0m\u001b[0;34m\u001b[0m\u001b[0m\n\u001b[0m\u001b[1;32m   1015\u001b[0m         \u001b[0;32melse\u001b[0m\u001b[0;34m:\u001b[0m\u001b[0;34m\u001b[0m\u001b[0m\n\u001b[1;32m   1016\u001b[0m             \u001b[0;32mif\u001b[0m \u001b[0mengine\u001b[0m \u001b[0;34m==\u001b[0m \u001b[0;34m'python'\u001b[0m\u001b[0;34m:\u001b[0m\u001b[0;34m\u001b[0m\u001b[0m\n",
      "\u001b[0;32m~/anaconda3/lib/python3.5/site-packages/pandas/io/parsers.py\u001b[0m in \u001b[0;36m__init__\u001b[0;34m(self, src, **kwds)\u001b[0m\n\u001b[1;32m   1706\u001b[0m         \u001b[0mkwds\u001b[0m\u001b[0;34m[\u001b[0m\u001b[0;34m'usecols'\u001b[0m\u001b[0;34m]\u001b[0m \u001b[0;34m=\u001b[0m \u001b[0mself\u001b[0m\u001b[0;34m.\u001b[0m\u001b[0musecols\u001b[0m\u001b[0;34m\u001b[0m\u001b[0m\n\u001b[1;32m   1707\u001b[0m \u001b[0;34m\u001b[0m\u001b[0m\n\u001b[0;32m-> 1708\u001b[0;31m         \u001b[0mself\u001b[0m\u001b[0;34m.\u001b[0m\u001b[0m_reader\u001b[0m \u001b[0;34m=\u001b[0m \u001b[0mparsers\u001b[0m\u001b[0;34m.\u001b[0m\u001b[0mTextReader\u001b[0m\u001b[0;34m(\u001b[0m\u001b[0msrc\u001b[0m\u001b[0;34m,\u001b[0m \u001b[0;34m**\u001b[0m\u001b[0mkwds\u001b[0m\u001b[0;34m)\u001b[0m\u001b[0;34m\u001b[0m\u001b[0m\n\u001b[0m\u001b[1;32m   1709\u001b[0m \u001b[0;34m\u001b[0m\u001b[0m\n\u001b[1;32m   1710\u001b[0m         \u001b[0mpassed_names\u001b[0m \u001b[0;34m=\u001b[0m \u001b[0mself\u001b[0m\u001b[0;34m.\u001b[0m\u001b[0mnames\u001b[0m \u001b[0;32mis\u001b[0m \u001b[0;32mNone\u001b[0m\u001b[0;34m\u001b[0m\u001b[0m\n",
      "\u001b[0;32mpandas/_libs/parsers.pyx\u001b[0m in \u001b[0;36mpandas._libs.parsers.TextReader.__cinit__\u001b[0;34m()\u001b[0m\n",
      "\u001b[0;31mEmptyDataError\u001b[0m: No columns to parse from file"
     ]
    }
   ],
   "source": [
    "df = pd.DataFrame()\n",
    "y = []\n",
    "for f in tqdm_notebook(glob.glob(normal_segmented_tsv_dir+'/*.tsv')):\n",
    "    df = pd.concat((df, pd.read_table(f)))\n",
    "    y.append(0)\n",
    "\n",
    "for f in tqdm_notebook(glob.glob(tumor_segmented_tsv_dir+'/*.tsv')):\n",
    "    df = pd.concat((df, pd.read_table(f)))\n",
    "    y.append(1)\n",
    "    \n",
    "    "
   ]
  },
  {
   "cell_type": "code",
   "execution_count": null,
   "metadata": {},
   "outputs": [],
   "source": [
    "len(df_with_label.index) - len(y)"
   ]
  },
  {
   "cell_type": "code",
   "execution_count": 37,
   "metadata": {},
   "outputs": [
    {
     "data": {
      "text/plain": [
       "293952"
      ]
     },
     "execution_count": 37,
     "metadata": {},
     "output_type": "execute_result"
    }
   ],
   "source": [
    "len(df_with_label.index)"
   ]
  },
  {
   "cell_type": "code",
   "execution_count": null,
   "metadata": {},
   "outputs": [],
   "source": [
    "y = np.array(y)\n",
    "len(y[y==0])"
   ]
  },
  {
   "cell_type": "code",
   "execution_count": 72,
   "metadata": {},
   "outputs": [],
   "source": [
    "label = [0 for x in range(len(glob.glob(normal_segmented_tsv_dir+'/*.tsv')))]\n",
    "label += [1 for x in range(len(df.index)-len(label))]\n"
   ]
  },
  {
   "cell_type": "code",
   "execution_count": 23,
   "metadata": {},
   "outputs": [
    {
     "data": {
      "text/plain": [
       "293952"
      ]
     },
     "execution_count": 23,
     "metadata": {},
     "output_type": "execute_result"
    }
   ],
   "source": [
    "len(label)"
   ]
  },
  {
   "cell_type": "code",
   "execution_count": 66,
   "metadata": {},
   "outputs": [],
   "source": [
    "df_with_label = df.copy().drop(columns=['0'])"
   ]
  },
  {
   "cell_type": "code",
   "execution_count": 67,
   "metadata": {},
   "outputs": [],
   "source": [
    "df_with_label['label'] = np.nan"
   ]
  },
  {
   "cell_type": "code",
   "execution_count": 73,
   "metadata": {},
   "outputs": [],
   "source": [
    "df_with_label['label'] = label"
   ]
  },
  {
   "cell_type": "code",
   "execution_count": 74,
   "metadata": {},
   "outputs": [
    {
     "data": {
      "text/html": [
       "<div>\n",
       "<style scoped>\n",
       "    .dataframe tbody tr th:only-of-type {\n",
       "        vertical-align: middle;\n",
       "    }\n",
       "\n",
       "    .dataframe tbody tr th {\n",
       "        vertical-align: top;\n",
       "    }\n",
       "\n",
       "    .dataframe thead th {\n",
       "        text-align: right;\n",
       "    }\n",
       "</style>\n",
       "<table border=\"1\" class=\"dataframe\">\n",
       "  <thead>\n",
       "    <tr style=\"text-align: right;\">\n",
       "      <th></th>\n",
       "      <th>area</th>\n",
       "      <th>bbox_area</th>\n",
       "      <th>compactness</th>\n",
       "      <th>convex_area</th>\n",
       "      <th>eccentricity</th>\n",
       "      <th>equivalent_diameter</th>\n",
       "      <th>extent</th>\n",
       "      <th>fractal_dimension</th>\n",
       "      <th>inertia_tensor_eigvals_1</th>\n",
       "      <th>inertia_tensor_eigvals_2</th>\n",
       "      <th>...</th>\n",
       "      <th>moments_hu_7</th>\n",
       "      <th>nuclei</th>\n",
       "      <th>nuclei_intensity_over_entire_image</th>\n",
       "      <th>orientation</th>\n",
       "      <th>perimeter</th>\n",
       "      <th>solidity</th>\n",
       "      <th>texture</th>\n",
       "      <th>total_nuclei_area</th>\n",
       "      <th>total_nuclei_area_ratio</th>\n",
       "      <th>label</th>\n",
       "    </tr>\n",
       "  </thead>\n",
       "  <tbody>\n",
       "    <tr>\n",
       "      <th>0</th>\n",
       "      <td>167.701754</td>\n",
       "      <td>311.280702</td>\n",
       "      <td>24.094043</td>\n",
       "      <td>210.543860</td>\n",
       "      <td>0.756238</td>\n",
       "      <td>14.397744</td>\n",
       "      <td>0.561444</td>\n",
       "      <td>0.765615</td>\n",
       "      <td>27.606664</td>\n",
       "      <td>9.096642</td>\n",
       "      <td>...</td>\n",
       "      <td>2.976246e-08</td>\n",
       "      <td>57.0</td>\n",
       "      <td>0.380603</td>\n",
       "      <td>0.131881</td>\n",
       "      <td>62.442148</td>\n",
       "      <td>0.810059</td>\n",
       "      <td>0.013039</td>\n",
       "      <td>9559.0</td>\n",
       "      <td>0.145859</td>\n",
       "      <td>0</td>\n",
       "    </tr>\n",
       "    <tr>\n",
       "      <th>0</th>\n",
       "      <td>158.887324</td>\n",
       "      <td>302.394366</td>\n",
       "      <td>24.325860</td>\n",
       "      <td>202.464789</td>\n",
       "      <td>0.746371</td>\n",
       "      <td>13.963734</td>\n",
       "      <td>0.549637</td>\n",
       "      <td>0.765657</td>\n",
       "      <td>25.505003</td>\n",
       "      <td>9.164804</td>\n",
       "      <td>...</td>\n",
       "      <td>1.133948e-06</td>\n",
       "      <td>71.0</td>\n",
       "      <td>0.413825</td>\n",
       "      <td>-0.042969</td>\n",
       "      <td>61.073990</td>\n",
       "      <td>0.804361</td>\n",
       "      <td>0.012240</td>\n",
       "      <td>11281.0</td>\n",
       "      <td>0.172134</td>\n",
       "      <td>0</td>\n",
       "    </tr>\n",
       "    <tr>\n",
       "      <th>0</th>\n",
       "      <td>178.083333</td>\n",
       "      <td>304.928571</td>\n",
       "      <td>24.220398</td>\n",
       "      <td>221.714286</td>\n",
       "      <td>0.686596</td>\n",
       "      <td>14.807577</td>\n",
       "      <td>0.595765</td>\n",
       "      <td>0.747148</td>\n",
       "      <td>23.847463</td>\n",
       "      <td>11.552167</td>\n",
       "      <td>...</td>\n",
       "      <td>5.420098e-09</td>\n",
       "      <td>84.0</td>\n",
       "      <td>0.390758</td>\n",
       "      <td>0.401353</td>\n",
       "      <td>63.516287</td>\n",
       "      <td>0.810729</td>\n",
       "      <td>0.012269</td>\n",
       "      <td>14959.0</td>\n",
       "      <td>0.228256</td>\n",
       "      <td>0</td>\n",
       "    </tr>\n",
       "    <tr>\n",
       "      <th>0</th>\n",
       "      <td>197.285714</td>\n",
       "      <td>333.085714</td>\n",
       "      <td>27.214328</td>\n",
       "      <td>250.057143</td>\n",
       "      <td>0.634482</td>\n",
       "      <td>15.467094</td>\n",
       "      <td>0.598656</td>\n",
       "      <td>0.757740</td>\n",
       "      <td>25.230365</td>\n",
       "      <td>13.524688</td>\n",
       "      <td>...</td>\n",
       "      <td>2.634835e-07</td>\n",
       "      <td>70.0</td>\n",
       "      <td>0.418451</td>\n",
       "      <td>0.076980</td>\n",
       "      <td>70.660689</td>\n",
       "      <td>0.788042</td>\n",
       "      <td>0.012290</td>\n",
       "      <td>13810.0</td>\n",
       "      <td>0.210724</td>\n",
       "      <td>0</td>\n",
       "    </tr>\n",
       "    <tr>\n",
       "      <th>0</th>\n",
       "      <td>199.652174</td>\n",
       "      <td>341.086957</td>\n",
       "      <td>25.635340</td>\n",
       "      <td>252.065217</td>\n",
       "      <td>0.675135</td>\n",
       "      <td>15.679270</td>\n",
       "      <td>0.584387</td>\n",
       "      <td>0.820270</td>\n",
       "      <td>27.246850</td>\n",
       "      <td>12.918863</td>\n",
       "      <td>...</td>\n",
       "      <td>-9.572924e-06</td>\n",
       "      <td>46.0</td>\n",
       "      <td>0.411748</td>\n",
       "      <td>0.197567</td>\n",
       "      <td>69.719296</td>\n",
       "      <td>0.791037</td>\n",
       "      <td>0.016963</td>\n",
       "      <td>9184.0</td>\n",
       "      <td>0.140137</td>\n",
       "      <td>0</td>\n",
       "    </tr>\n",
       "  </tbody>\n",
       "</table>\n",
       "<p>5 rows × 47 columns</p>\n",
       "</div>"
      ],
      "text/plain": [
       "         area   bbox_area  compactness  convex_area  eccentricity  \\\n",
       "0  167.701754  311.280702    24.094043   210.543860      0.756238   \n",
       "0  158.887324  302.394366    24.325860   202.464789      0.746371   \n",
       "0  178.083333  304.928571    24.220398   221.714286      0.686596   \n",
       "0  197.285714  333.085714    27.214328   250.057143      0.634482   \n",
       "0  199.652174  341.086957    25.635340   252.065217      0.675135   \n",
       "\n",
       "   equivalent_diameter    extent  fractal_dimension  inertia_tensor_eigvals_1  \\\n",
       "0            14.397744  0.561444           0.765615                 27.606664   \n",
       "0            13.963734  0.549637           0.765657                 25.505003   \n",
       "0            14.807577  0.595765           0.747148                 23.847463   \n",
       "0            15.467094  0.598656           0.757740                 25.230365   \n",
       "0            15.679270  0.584387           0.820270                 27.246850   \n",
       "\n",
       "   inertia_tensor_eigvals_2  ...    moments_hu_7  nuclei  \\\n",
       "0                  9.096642  ...    2.976246e-08    57.0   \n",
       "0                  9.164804  ...    1.133948e-06    71.0   \n",
       "0                 11.552167  ...    5.420098e-09    84.0   \n",
       "0                 13.524688  ...    2.634835e-07    70.0   \n",
       "0                 12.918863  ...   -9.572924e-06    46.0   \n",
       "\n",
       "   nuclei_intensity_over_entire_image  orientation  perimeter  solidity  \\\n",
       "0                            0.380603     0.131881  62.442148  0.810059   \n",
       "0                            0.413825    -0.042969  61.073990  0.804361   \n",
       "0                            0.390758     0.401353  63.516287  0.810729   \n",
       "0                            0.418451     0.076980  70.660689  0.788042   \n",
       "0                            0.411748     0.197567  69.719296  0.791037   \n",
       "\n",
       "    texture  total_nuclei_area  total_nuclei_area_ratio  label  \n",
       "0  0.013039             9559.0                 0.145859      0  \n",
       "0  0.012240            11281.0                 0.172134      0  \n",
       "0  0.012269            14959.0                 0.228256      0  \n",
       "0  0.012290            13810.0                 0.210724      0  \n",
       "0  0.016963             9184.0                 0.140137      0  \n",
       "\n",
       "[5 rows x 47 columns]"
      ]
     },
     "execution_count": 74,
     "metadata": {},
     "output_type": "execute_result"
    }
   ],
   "source": [
    "df_with_label.head()"
   ]
  },
  {
   "cell_type": "code",
   "execution_count": 75,
   "metadata": {},
   "outputs": [],
   "source": [
    "\n",
    "df_with_label = df_with_label.dropna()\n",
    "label = df_with_label['label']\n",
    "df_with_label = df_with_label.drop(columns=['label'])\n",
    "df_with_label.to_csv('normal_tumor_segmented_df.tsv', sep='\\t', index=False, header=True)"
   ]
  },
  {
   "cell_type": "code",
   "execution_count": 77,
   "metadata": {},
   "outputs": [
    {
     "data": {
      "text/plain": [
       "(293939, 46)"
      ]
     },
     "execution_count": 77,
     "metadata": {},
     "output_type": "execute_result"
    }
   ],
   "source": [
    "matrix = df_with_label.as_matrix()\n",
    "matrix.shape"
   ]
  },
  {
   "cell_type": "code",
   "execution_count": 78,
   "metadata": {},
   "outputs": [],
   "source": [
    "X_scaled = scaler.fit(matrix).transform(matrix)\n"
   ]
  },
  {
   "cell_type": "code",
   "execution_count": 79,
   "metadata": {},
   "outputs": [],
   "source": [
    "RANDOM_STATE = 42\n",
    "\n",
    "X_train, X_test, y_train, y_test = train_test_split(X_scaled, label,\n",
    "                                                    test_size=0.30,\n",
    "                                                    random_state=RANDOM_STATE)\n"
   ]
  },
  {
   "cell_type": "code",
   "execution_count": null,
   "metadata": {},
   "outputs": [],
   "source": []
  },
  {
   "cell_type": "code",
   "execution_count": 80,
   "metadata": {},
   "outputs": [
    {
     "data": {
      "text/plain": [
       "Lasso(alpha=0.1, copy_X=True, fit_intercept=True, max_iter=1000,\n",
       "   normalize=False, positive=False, precompute=False, random_state=None,\n",
       "   selection='cyclic', tol=0.0001, warm_start=False)"
      ]
     },
     "execution_count": 80,
     "metadata": {},
     "output_type": "execute_result"
    }
   ],
   "source": [
    "lasso = linear_model.Lasso(alpha = 0.1)\n",
    "lasso.fit(X_train, y_train)"
   ]
  },
  {
   "cell_type": "code",
   "execution_count": 81,
   "metadata": {},
   "outputs": [],
   "source": [
    "y_pred_lasso = lasso.predict(X_test)\n",
    "r2_score_lasso = r2_score(y_test, y_pred_lasso)"
   ]
  },
  {
   "cell_type": "code",
   "execution_count": 82,
   "metadata": {},
   "outputs": [
    {
     "data": {
      "text/plain": [
       "-3.3262134180311875e-07"
      ]
     },
     "execution_count": 82,
     "metadata": {},
     "output_type": "execute_result"
    }
   ],
   "source": [
    "r2_score_lasso"
   ]
  },
  {
   "cell_type": "code",
   "execution_count": 83,
   "metadata": {},
   "outputs": [
    {
     "name": "stderr",
     "output_type": "stream",
     "text": [
      "/home/saket/anaconda3/lib/python3.5/site-packages/sklearn/linear_model/coordinate_descent.py:491: ConvergenceWarning: Objective did not converge. You might want to increase the number of iterations. Fitting data with very small alpha may cause precision problems.\n",
      "  ConvergenceWarning)\n"
     ]
    },
    {
     "data": {
      "text/plain": [
       "0.19293760725386455"
      ]
     },
     "execution_count": 83,
     "metadata": {},
     "output_type": "execute_result"
    }
   ],
   "source": [
    "alpha = 0.001\n",
    "enet = ElasticNet(alpha=alpha, l1_ratio=0.7)\n",
    "\n",
    "y_pred_enet = enet.fit(X_train, y_train).predict(X_test)\n",
    "r2_score_enet = r2_score(y_test, y_pred_enet)\n",
    "r2_score_enet"
   ]
  },
  {
   "cell_type": "code",
   "execution_count": null,
   "metadata": {},
   "outputs": [
    {
     "name": "stderr",
     "output_type": "stream",
     "text": [
      "Optimization Progress:  30%|███       | 36/120 [1:35:03<3:29:05, 149.35s/pipeline]"
     ]
    }
   ],
   "source": [
    "pipeline_optimizer = TPOTClassifier(generations=5, population_size=20, cv=5,\n",
    "                                    random_state=42, verbosity=2)\n",
    "pipeline_optimizer.fit(X_train, y_train)\n"
   ]
  },
  {
   "cell_type": "code",
   "execution_count": null,
   "metadata": {},
   "outputs": [],
   "source": [
    "print(pipeline_optimizer.score(X_test, y_test))\n"
   ]
  },
  {
   "cell_type": "code",
   "execution_count": null,
   "metadata": {},
   "outputs": [],
   "source": []
  }
 ],
 "metadata": {
  "kernelspec": {
   "display_name": "Python [default]",
   "language": "python",
   "name": "python3"
  },
  "language_info": {
   "codemirror_mode": {
    "name": "ipython",
    "version": 3
   },
   "file_extension": ".py",
   "mimetype": "text/x-python",
   "name": "python",
   "nbconvert_exporter": "python",
   "pygments_lexer": "ipython3",
   "version": "3.5.5"
  }
 },
 "nbformat": 4,
 "nbformat_minor": 2
}
