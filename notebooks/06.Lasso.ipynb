{
 "cells": [
  {
   "cell_type": "code",
   "execution_count": 58,
   "metadata": {},
   "outputs": [
    {
     "name": "stdout",
     "output_type": "stream",
     "text": [
      "Populating the interactive namespace from numpy and matplotlib\n",
      "The autoreload extension is already loaded. To reload it, use:\n",
      "  %reload_ext autoreload\n"
     ]
    }
   ],
   "source": [
    "%pylab inline\n",
    "%load_ext autoreload\n",
    "%autoreload 2\n",
    "import warnings\n",
    "warnings.filterwarnings('ignore')\n",
    "warnings.simplefilter('ignore')\n",
    "import os\n",
    "import glob\n",
    "from tqdm import tqdm, tqdm_notebook\n",
    "import pandas as pd\n",
    "import fitsne\n",
    "from sklearn.model_selection import cross_val_score\n",
    "from sklearn.metrics import confusion_matrix\n",
    "\n",
    "from ipywidgets import interact, interactive, fixed, interact_manual\n",
    "import ipywidgets as widgets\n",
    "\n",
    "from skimage.color import rgb2gray\n",
    "\n",
    "from pywsi.io import WSIReader\n",
    "from pywsi.io.operations import read_as_rgb\n",
    "\n",
    "from pywsi.segmentation import poisson_deconvolve, perform_binary_cut, max_clustering\n",
    "from pywsi.segmentation import collapse_labels, collapse_small_area, laplace_of_gaussian\n",
    "from pywsi.segmentation import gmm_thresholding, label_nuclei, extract_features, summarize_region_properties\n",
    "\n",
    "from pywsi.normalization import MacenkoNormalization\n",
    "from pywsi.normalization import ReinhardNormalization\n",
    "from pywsi.normalization import VahadaneNormalization\n",
    "from pywsi.normalization import XuNormalization\n",
    "\n",
    "from sklearn.decomposition import PCA, FastICA\n",
    "from skimage.color import rgb2gray\n",
    "from skimage.io import imread\n",
    "from sklearn.discriminant_analysis import LinearDiscriminantAnalysis\n",
    "from sklearn.manifold import TSNE\n",
    "import umap\n",
    "import seaborn as sns\n",
    "sns.set_style('whitegrid')\n",
    "sns.set_context('paper', font_scale=2)\n",
    "\n",
    "from sklearn.model_selection import train_test_split\n",
    "from sklearn import metrics\n",
    "from sklearn.datasets import load_wine\n",
    "from sklearn.pipeline import make_pipeline\n",
    "\n",
    "from sklearn.preprocessing import StandardScaler\n",
    "from sklearn import linear_model\n",
    "from sklearn.metrics import r2_score\n",
    "from sklearn.linear_model import ElasticNet\n",
    "from tpot import TPOTClassifier\n",
    "import pickle\n",
    "from multiprocessing import Pool\n",
    "from sklearn.metrics import accuracy_score\n",
    "import xgboost as xgb\n",
    "from catboost import Pool, CatBoost\n",
    "from catboost import CatBoostClassifier\n",
    "from catboost import CatBoostRegressor\n",
    "from sklearn.grid_search import GridSearchCV\n",
    "\n",
    "\n",
    "scaler = StandardScaler()"
   ]
  },
  {
   "cell_type": "code",
   "execution_count": 3,
   "metadata": {},
   "outputs": [],
   "source": [
    "normal_patches_dir = '/Z/personal-folders/interns/saket/histopath_data/CAMELYON16_patches/normal_patches_test/level_0/'\n",
    "tumor_patches_dir = '/Z/personal-folders/interns/saket/histopath_data/CAMELYON16_patches/tumor_patches_test/level_0/'\n",
    "segmented_tsv_dir = '/Z/personal-folders/interns/saket/histopath_data/CAMELYON16_patches/normal_patches_test_segmented/level_0/'"
   ]
  },
  {
   "cell_type": "code",
   "execution_count": null,
   "metadata": {},
   "outputs": [],
   "source": [
    "np.random.seed(42)\n",
    "list_of_tumor_files = list(glob.glob('{}*.png'.format(tumor_patches_dir)))\n",
    "list_of_normal_files = list(glob.glob('{}*.png'.format(normal_patches_dir)))\n",
    "\n",
    "#list_of_tumor_files = list(np.random.choice(list_of_tumor_files, 20000))\n",
    "#list_of_normal_files = list(np.random.choice(list_of_normal_files, 20000))"
   ]
  },
  {
   "cell_type": "code",
   "execution_count": null,
   "metadata": {},
   "outputs": [],
   "source": [
    "def draw_nuclei(patch, local_max_search_radius=3, min_radius=5, max_radius=15, min_nucleus_area=100):\n",
    "    patch = read_as_rgb(patch)\n",
    "    label_nuclei(patch,\n",
    "                 local_max_search_radius=local_max_search_radius, \n",
    "                 min_radius=min_radius,\n",
    "                 max_radius=max_radius, \n",
    "                 min_nucleus_area=min_nucleus_area)\n",
    "    "
   ]
  },
  {
   "cell_type": "code",
   "execution_count": null,
   "metadata": {},
   "outputs": [],
   "source": [
    "interact(draw_nuclei, patch=list_of_tumor_files+list_of_normal_files)\n"
   ]
  },
  {
   "cell_type": "code",
   "execution_count": null,
   "metadata": {},
   "outputs": [],
   "source": [
    "patch = read_as_rgb(list_of_tumor_files[0])"
   ]
  },
  {
   "cell_type": "code",
   "execution_count": null,
   "metadata": {},
   "outputs": [],
   "source": [
    "region_properties, fg_mask = label_nuclei(patch)"
   ]
  },
  {
   "cell_type": "code",
   "execution_count": null,
   "metadata": {},
   "outputs": [],
   "source": [
    "features_df = []\n",
    "labels = []\n",
    "def process_sample(sample):\n",
    "    patch = read_as_rgb(sample)\n",
    "    region_properties, _ = label_nuclei(patch, draw=False) \n",
    "    summary = summarize_region_properties(region_properties, \n",
    "                                          patch)\n",
    "    return summary\n",
    "#for sample in tqdm_notebook(list_of_normal_files):\n",
    "\n",
    "with tqdm_notebook(total=len(list_of_tumor_files)) as pbar:\n",
    "    with Pool(processes=32) as p:\n",
    "        for i, summary in enumerate(p.imap_unordered(process_sample, list_of_tumor_files)):\n",
    "            pbar.update()\n",
    "            if summary is None:\n",
    "                print('Nothing found for {}'.format(sample))\n",
    "                continue\n",
    "            else:\n",
    "                labels.append('tumor')\n",
    "    features_df.append(summary)\n",
    "    \n",
    "pickle.dump(features_df, open('normal.pickle', 'wb'))"
   ]
  },
  {
   "cell_type": "code",
   "execution_count": null,
   "metadata": {},
   "outputs": [],
   "source": [
    "with tqdm_notebook(total=len(list_of_normal_files)) as pbar:\n",
    "    with Pool(processes=32) as p:\n",
    "        for i, summary in enumerate(p.imap_unordered(process_sample, list_of_tumor_files)):\n",
    "            pbar.update()\n",
    "            if summary is None:\n",
    "                print('Nothing found for {}'.format(sample))\n",
    "                continue\n",
    "            else:\n",
    "                labels.append('normal')\n",
    "    features_df.append(summary)\n",
    "pickle.dump(features_df, open('tumor.pickle', 'wb'))"
   ]
  },
  {
   "cell_type": "code",
   "execution_count": null,
   "metadata": {},
   "outputs": [],
   "source": []
  },
  {
   "cell_type": "code",
   "execution_count": null,
   "metadata": {},
   "outputs": [],
   "source": [
    "#tfile = '/Z/personal-folders/interns/saket/histopath_data/CAMELYON16_patches/normal_patches_test/level_0/tumor_048_33856_186816_256.png'\n",
    "y = np.array([1  if label=='normal' else 0 for label in labels])"
   ]
  },
  {
   "cell_type": "code",
   "execution_count": null,
   "metadata": {},
   "outputs": [],
   "source": [
    "f = pd.DataFrame(features_df)\n",
    "X = f.values"
   ]
  },
  {
   "cell_type": "code",
   "execution_count": null,
   "metadata": {},
   "outputs": [],
   "source": [
    "X_scaled = scaler.fit(X).transform(X)"
   ]
  },
  {
   "cell_type": "code",
   "execution_count": null,
   "metadata": {},
   "outputs": [],
   "source": [
    "X_scaled.shape"
   ]
  },
  {
   "cell_type": "markdown",
   "metadata": {},
   "source": [
    "# PCA\n",
    "\n",
    "We start of with doing PCA/tSNE on the features.\n"
   ]
  },
  {
   "cell_type": "markdown",
   "metadata": {},
   "source": [
    "# UMAP"
   ]
  },
  {
   "cell_type": "code",
   "execution_count": null,
   "metadata": {},
   "outputs": [],
   "source": [
    "\n",
    "embedding = umap.UMAP(n_neighbors=20,\n",
    "                      min_dist=0.3,\n",
    "                      metric='correlation').fit_transform(X_scaled)\n",
    "fig = plt.figure(figsize=(10, 10))\n",
    "\n",
    "for color, i, target_name in zip(colors, [0, 1], label_matrix):\n",
    "    plt.scatter(embedding[y == i, 0], embedding[y == i, 1], color=color, alpha=.8, lw=lw,\n",
    "                label=target_name)\n",
    "fig.tight_layout()\n",
    "plt.title('UMAP')"
   ]
  },
  {
   "cell_type": "code",
   "execution_count": null,
   "metadata": {},
   "outputs": [],
   "source": [
    "Y = fitsne.FItSNE(X_scaled.copy(order='C'))# max_iter=500)"
   ]
  },
  {
   "cell_type": "code",
   "execution_count": null,
   "metadata": {},
   "outputs": [],
   "source": [
    "std_clf = make_pipeline(StandardScaler(), PCA(n_components=2))\n",
    "std_clf.fit(X)\n",
    "\n"
   ]
  },
  {
   "cell_type": "raw",
   "metadata": {},
   "source": [
    "\"\"\"\n",
    "pca = PCA(n_components=2)\n",
    "X_r = pca.fit(X_scaled).transform(X_scaled)\n",
    "\n",
    "\n",
    "# Percentage of variance explained for each components\n",
    "print('explained variance ratio (first two components): %s'\n",
    "      % str(pca.explained_variance_ratio_))\n",
    "\n",
    "fig = plt.figure(figsize=(10, 10))\n",
    "colors = ['navy', 'darkorange']\n",
    "lw = 0.2\n",
    "label_matrix = ['normal', 'tumor']\n",
    "for color, i, target_name in zip(colors, [0, 1], label_matrix):\n",
    "    plt.scatter(X_r[y == i, 0], X_r[y == i, 1], color=color, alpha=.4, lw=lw,\n",
    "                label=target_name)\n",
    "plt.legend(loc='best', shadow=False, scatterpoints=1)\n",
    "plt.title('PCA ')\n",
    "\"\"\""
   ]
  },
  {
   "cell_type": "code",
   "execution_count": null,
   "metadata": {},
   "outputs": [],
   "source": [
    "colors = ['navy', 'darkorange']\n",
    "lw = 0.2\n",
    "label_matrix = ['normal', 'tumor']\n",
    "\n",
    "fig = plt.figure(figsize=(10, 10))\n",
    "for color, i, target_name in zip(colors, [0, 1], label_matrix):\n",
    "    plt.scatter(Y[y == i, 0], Y[y == i, 1], color=color, alpha=.8, lw=lw,\n",
    "                label=target_name)\n",
    "plt.legend(loc='best', shadow=False, scatterpoints=1)\n",
    "\n",
    "fig.tight_layout()\n",
    "plt.title('FIt-SNE')"
   ]
  },
  {
   "cell_type": "markdown",
   "metadata": {},
   "source": [
    "# Random Forest"
   ]
  },
  {
   "cell_type": "code",
   "execution_count": null,
   "metadata": {},
   "outputs": [],
   "source": [
    "RANDOM_STATE = 42\n",
    "\n",
    "X_train, X_test, y_train, y_test = train_test_split(X_scaled, y,\n",
    "                                                    test_size=0.30,\n",
    "                                                    random_state=RANDOM_STATE)\n",
    "rf = RandomForestClassifier(n_estimators=40)\n",
    "print(clf.feature_importances_)"
   ]
  },
  {
   "cell_type": "markdown",
   "metadata": {},
   "source": [
    "# LASSO"
   ]
  },
  {
   "cell_type": "code",
   "execution_count": null,
   "metadata": {},
   "outputs": [],
   "source": [
    "lasso = linear_model.Lasso(alpha = 0.1)\n",
    "lasso.fit(X_train, y_train)"
   ]
  },
  {
   "cell_type": "code",
   "execution_count": null,
   "metadata": {},
   "outputs": [],
   "source": [
    "y_pred_lasso = lasso.predict(X_test)\n",
    "r2_score_lasso = r2_score(y_test, y_pred_lasso)"
   ]
  },
  {
   "cell_type": "code",
   "execution_count": null,
   "metadata": {},
   "outputs": [],
   "source": [
    "r2_score_lasso"
   ]
  },
  {
   "cell_type": "code",
   "execution_count": null,
   "metadata": {},
   "outputs": [],
   "source": [
    "alpha = 0.001\n",
    "enet = ElasticNet(alpha=alpha, l1_ratio=0.7)\n",
    "\n",
    "y_pred_enet = enet.fit(X_train, y_train).predict(X_test)\n",
    "r2_score_enet = r2_score(y_test, y_pred_enet)\n",
    "r2_score_enet"
   ]
  },
  {
   "cell_type": "code",
   "execution_count": null,
   "metadata": {},
   "outputs": [],
   "source": [
    "pipeline_optimizer = TPOTClassifier(generations=5, population_size=20, cv=5,\n",
    "                                    random_state=42, verbosity=2)\n",
    "pipeline_optimizer.fit(X_train, y_train)\n"
   ]
  },
  {
   "cell_type": "code",
   "execution_count": null,
   "metadata": {},
   "outputs": [],
   "source": [
    "print(pipeline_optimizer.score(X_test, y_test))\n"
   ]
  },
  {
   "cell_type": "code",
   "execution_count": null,
   "metadata": {},
   "outputs": [],
   "source": [
    "df = pd.DataFrame()\n",
    "for f in list_of_normal_files:\n",
    "    uid = f.replace('.png', '.tsv').replace(os.path.dirname(f), '').replace('/', '')\n",
    "    temp_df = pd.read_table(os.path.join(segmented_tsv_dir, uid))\n",
    "    df = pd.concat([df, temp_df])\n",
    "    break\n"
   ]
  },
  {
   "cell_type": "code",
   "execution_count": null,
   "metadata": {},
   "outputs": [],
   "source": [
    "segmented_tsv_dir"
   ]
  },
  {
   "cell_type": "code",
   "execution_count": null,
   "metadata": {},
   "outputs": [],
   "source": [
    "df"
   ]
  },
  {
   "cell_type": "markdown",
   "metadata": {},
   "source": [
    "# Load df from files"
   ]
  },
  {
   "cell_type": "code",
   "execution_count": 4,
   "metadata": {},
   "outputs": [],
   "source": [
    "import pandas as pd\n",
    "normal_segmented_tsv_dir = '/Z/personal-folders/interns/saket/histopath_data/CAMELYON16_patches/normal_patches_test_segmented/level_0/'\n",
    "tumor_segmented_tsv_dir = '/Z/personal-folders/interns/saket/histopath_data/CAMELYON16_patches/tumor_patches_test_segmented/level_0/'"
   ]
  },
  {
   "cell_type": "code",
   "execution_count": 7,
   "metadata": {},
   "outputs": [
    {
     "data": {
      "application/vnd.jupyter.widget-view+json": {
       "model_id": "8ff69a46736b4f9a8cb753f35cfd9347",
       "version_major": 2,
       "version_minor": 0
      },
      "text/plain": [
       "HBox(children=(IntProgress(value=0, max=10000), HTML(value='')))"
      ]
     },
     "metadata": {},
     "output_type": "display_data"
    },
    {
     "name": "stdout",
     "output_type": "stream",
     "text": [
      "\n"
     ]
    }
   ],
   "source": [
    "df = pd.DataFrame()\n",
    "y = []\n",
    "\n",
    "def load_df(path):\n",
    "    temp_df = pd.read_table(path)\n",
    "    if len(temp_df.index):\n",
    "        return temp_df\n",
    "    return None\n",
    "normal_segmented_tsv = glob.glob(normal_segmented_tsv_dir+'/*.tsv')\n",
    "tumor_segmented_tsv = glob.glob(tumor_segmented_tsv_dir+'/*.tsv')\n",
    "np.random.seed(42)\n",
    "normal_segmented_tsv_subsampled = np.random.choice(normal_segmented_tsv, 10000)\n",
    "tumor_segmented_tsv_subsampled = np.random.choice(tumor_segmented_tsv, 10000)\n",
    "\n",
    "with tqdm_notebook(total=len(normal_segmented_tsv_subsampled)) as pbar:\n",
    "    with Pool(processes=32) as p:\n",
    "        for i, temp_df in enumerate(p.imap_unordered(load_df, normal_segmented_tsv_subsampled)):\n",
    "            if temp_df is not None:\n",
    "                df = pd.concat((df, temp_df))\n",
    "                y.append(0)\n",
    "            pbar.update()\n",
    "\n",
    "    "
   ]
  },
  {
   "cell_type": "code",
   "execution_count": 8,
   "metadata": {},
   "outputs": [
    {
     "data": {
      "application/vnd.jupyter.widget-view+json": {
       "model_id": "53cb025db08a46afa87ee3c2d3b4c644",
       "version_major": 2,
       "version_minor": 0
      },
      "text/plain": [
       "HBox(children=(IntProgress(value=0, max=10000), HTML(value='')))"
      ]
     },
     "metadata": {},
     "output_type": "display_data"
    },
    {
     "name": "stdout",
     "output_type": "stream",
     "text": [
      "\n"
     ]
    }
   ],
   "source": [
    "with tqdm_notebook(total=len(tumor_segmented_tsv_subsampled)) as pbar:\n",
    "    with Pool(processes=32) as p:\n",
    "        for i, temp_df in enumerate(p.imap_unordered(load_df, tumor_segmented_tsv_subsampled)):\n",
    "            if temp_df is not None:\n",
    "                df = pd.concat((df, temp_df))\n",
    "                y.append(1)\n",
    "            pbar.update()\n"
   ]
  },
  {
   "cell_type": "code",
   "execution_count": 9,
   "metadata": {},
   "outputs": [],
   "source": [
    "y = np.array(y)\n"
   ]
  },
  {
   "cell_type": "code",
   "execution_count": 10,
   "metadata": {},
   "outputs": [],
   "source": [
    "#label = [0 for x in range(len(glob.glob(normal_segmented_tsv_dir+'/*.tsv')))]\n",
    "#label += [1 for x in range(len(df.index)-len(label))]\n",
    "label =y "
   ]
  },
  {
   "cell_type": "code",
   "execution_count": 11,
   "metadata": {},
   "outputs": [
    {
     "data": {
      "text/plain": [
       "19991"
      ]
     },
     "execution_count": 11,
     "metadata": {},
     "output_type": "execute_result"
    }
   ],
   "source": [
    "len(label)"
   ]
  },
  {
   "cell_type": "code",
   "execution_count": 13,
   "metadata": {},
   "outputs": [
    {
     "data": {
      "text/html": [
       "<div>\n",
       "<style scoped>\n",
       "    .dataframe tbody tr th:only-of-type {\n",
       "        vertical-align: middle;\n",
       "    }\n",
       "\n",
       "    .dataframe tbody tr th {\n",
       "        vertical-align: top;\n",
       "    }\n",
       "\n",
       "    .dataframe thead th {\n",
       "        text-align: right;\n",
       "    }\n",
       "</style>\n",
       "<table border=\"1\" class=\"dataframe\">\n",
       "  <thead>\n",
       "    <tr style=\"text-align: right;\">\n",
       "      <th></th>\n",
       "      <th>area</th>\n",
       "      <th>bbox_area</th>\n",
       "      <th>compactness</th>\n",
       "      <th>convex_area</th>\n",
       "      <th>eccentricity</th>\n",
       "      <th>equivalent_diameter</th>\n",
       "      <th>extent</th>\n",
       "      <th>fractal_dimension</th>\n",
       "      <th>inertia_tensor_eigvals_1</th>\n",
       "      <th>inertia_tensor_eigvals_2</th>\n",
       "      <th>...</th>\n",
       "      <th>moments_hu_6</th>\n",
       "      <th>moments_hu_7</th>\n",
       "      <th>nuclei</th>\n",
       "      <th>nuclei_intensity_over_entire_image</th>\n",
       "      <th>orientation</th>\n",
       "      <th>perimeter</th>\n",
       "      <th>solidity</th>\n",
       "      <th>texture</th>\n",
       "      <th>total_nuclei_area</th>\n",
       "      <th>total_nuclei_area_ratio</th>\n",
       "    </tr>\n",
       "  </thead>\n",
       "  <tbody>\n",
       "    <tr>\n",
       "      <th>0</th>\n",
       "      <td>232.333333</td>\n",
       "      <td>560.761905</td>\n",
       "      <td>44.638176</td>\n",
       "      <td>375.904762</td>\n",
       "      <td>0.886223</td>\n",
       "      <td>16.236977</td>\n",
       "      <td>0.415209</td>\n",
       "      <td>0.817727</td>\n",
       "      <td>61.214019</td>\n",
       "      <td>11.609004</td>\n",
       "      <td>...</td>\n",
       "      <td>0.000682</td>\n",
       "      <td>3.902244e-06</td>\n",
       "      <td>21</td>\n",
       "      <td>0.672365</td>\n",
       "      <td>0.227135</td>\n",
       "      <td>95.964815</td>\n",
       "      <td>0.627106</td>\n",
       "      <td>0.090174</td>\n",
       "      <td>4879.0</td>\n",
       "      <td>0.074448</td>\n",
       "    </tr>\n",
       "    <tr>\n",
       "      <th>0</th>\n",
       "      <td>189.808989</td>\n",
       "      <td>346.280899</td>\n",
       "      <td>29.611280</td>\n",
       "      <td>251.471910</td>\n",
       "      <td>0.652236</td>\n",
       "      <td>15.313492</td>\n",
       "      <td>0.555221</td>\n",
       "      <td>0.801800</td>\n",
       "      <td>24.894152</td>\n",
       "      <td>13.265463</td>\n",
       "      <td>...</td>\n",
       "      <td>0.000021</td>\n",
       "      <td>2.194104e-08</td>\n",
       "      <td>89</td>\n",
       "      <td>0.516681</td>\n",
       "      <td>-0.018495</td>\n",
       "      <td>72.680816</td>\n",
       "      <td>0.754827</td>\n",
       "      <td>0.008617</td>\n",
       "      <td>16893.0</td>\n",
       "      <td>0.257767</td>\n",
       "    </tr>\n",
       "    <tr>\n",
       "      <th>0</th>\n",
       "      <td>276.888889</td>\n",
       "      <td>650.055556</td>\n",
       "      <td>40.273945</td>\n",
       "      <td>433.555556</td>\n",
       "      <td>0.763144</td>\n",
       "      <td>17.279407</td>\n",
       "      <td>0.443033</td>\n",
       "      <td>0.754102</td>\n",
       "      <td>53.680123</td>\n",
       "      <td>17.626986</td>\n",
       "      <td>...</td>\n",
       "      <td>0.000969</td>\n",
       "      <td>-1.249436e-05</td>\n",
       "      <td>36</td>\n",
       "      <td>0.318954</td>\n",
       "      <td>0.267160</td>\n",
       "      <td>96.357512</td>\n",
       "      <td>0.650674</td>\n",
       "      <td>0.019006</td>\n",
       "      <td>9968.0</td>\n",
       "      <td>0.152100</td>\n",
       "    </tr>\n",
       "    <tr>\n",
       "      <th>0</th>\n",
       "      <td>223.385965</td>\n",
       "      <td>437.210526</td>\n",
       "      <td>29.231257</td>\n",
       "      <td>292.964912</td>\n",
       "      <td>0.736590</td>\n",
       "      <td>16.314875</td>\n",
       "      <td>0.524369</td>\n",
       "      <td>0.754721</td>\n",
       "      <td>36.435902</td>\n",
       "      <td>13.104881</td>\n",
       "      <td>...</td>\n",
       "      <td>0.000532</td>\n",
       "      <td>-3.753196e-06</td>\n",
       "      <td>57</td>\n",
       "      <td>0.491332</td>\n",
       "      <td>0.325601</td>\n",
       "      <td>78.210713</td>\n",
       "      <td>0.768243</td>\n",
       "      <td>0.020958</td>\n",
       "      <td>12733.0</td>\n",
       "      <td>0.194290</td>\n",
       "    </tr>\n",
       "    <tr>\n",
       "      <th>0</th>\n",
       "      <td>222.647059</td>\n",
       "      <td>477.129412</td>\n",
       "      <td>32.963650</td>\n",
       "      <td>326.094118</td>\n",
       "      <td>0.746103</td>\n",
       "      <td>15.650702</td>\n",
       "      <td>0.494120</td>\n",
       "      <td>0.855427</td>\n",
       "      <td>38.151031</td>\n",
       "      <td>13.725385</td>\n",
       "      <td>...</td>\n",
       "      <td>0.000085</td>\n",
       "      <td>1.246536e-07</td>\n",
       "      <td>85</td>\n",
       "      <td>0.748307</td>\n",
       "      <td>0.232896</td>\n",
       "      <td>82.288560</td>\n",
       "      <td>0.702751</td>\n",
       "      <td>0.074568</td>\n",
       "      <td>18925.0</td>\n",
       "      <td>0.288773</td>\n",
       "    </tr>\n",
       "  </tbody>\n",
       "</table>\n",
       "<p>5 rows × 46 columns</p>\n",
       "</div>"
      ],
      "text/plain": [
       "         area   bbox_area  compactness  convex_area  eccentricity  \\\n",
       "0  232.333333  560.761905    44.638176   375.904762      0.886223   \n",
       "0  189.808989  346.280899    29.611280   251.471910      0.652236   \n",
       "0  276.888889  650.055556    40.273945   433.555556      0.763144   \n",
       "0  223.385965  437.210526    29.231257   292.964912      0.736590   \n",
       "0  222.647059  477.129412    32.963650   326.094118      0.746103   \n",
       "\n",
       "   equivalent_diameter    extent  fractal_dimension  inertia_tensor_eigvals_1  \\\n",
       "0            16.236977  0.415209           0.817727                 61.214019   \n",
       "0            15.313492  0.555221           0.801800                 24.894152   \n",
       "0            17.279407  0.443033           0.754102                 53.680123   \n",
       "0            16.314875  0.524369           0.754721                 36.435902   \n",
       "0            15.650702  0.494120           0.855427                 38.151031   \n",
       "\n",
       "   inertia_tensor_eigvals_2           ...             moments_hu_6  \\\n",
       "0                 11.609004           ...                 0.000682   \n",
       "0                 13.265463           ...                 0.000021   \n",
       "0                 17.626986           ...                 0.000969   \n",
       "0                 13.104881           ...                 0.000532   \n",
       "0                 13.725385           ...                 0.000085   \n",
       "\n",
       "   moments_hu_7  nuclei  nuclei_intensity_over_entire_image  orientation  \\\n",
       "0  3.902244e-06      21                            0.672365     0.227135   \n",
       "0  2.194104e-08      89                            0.516681    -0.018495   \n",
       "0 -1.249436e-05      36                            0.318954     0.267160   \n",
       "0 -3.753196e-06      57                            0.491332     0.325601   \n",
       "0  1.246536e-07      85                            0.748307     0.232896   \n",
       "\n",
       "   perimeter  solidity   texture  total_nuclei_area  total_nuclei_area_ratio  \n",
       "0  95.964815  0.627106  0.090174             4879.0                 0.074448  \n",
       "0  72.680816  0.754827  0.008617            16893.0                 0.257767  \n",
       "0  96.357512  0.650674  0.019006             9968.0                 0.152100  \n",
       "0  78.210713  0.768243  0.020958            12733.0                 0.194290  \n",
       "0  82.288560  0.702751  0.074568            18925.0                 0.288773  \n",
       "\n",
       "[5 rows x 46 columns]"
      ]
     },
     "execution_count": 13,
     "metadata": {},
     "output_type": "execute_result"
    }
   ],
   "source": [
    "df.head()"
   ]
  },
  {
   "cell_type": "code",
   "execution_count": 14,
   "metadata": {},
   "outputs": [],
   "source": [
    "df_with_label = df.copy()#.drop(columns=['0'])"
   ]
  },
  {
   "cell_type": "code",
   "execution_count": 15,
   "metadata": {},
   "outputs": [],
   "source": [
    "df_with_label['label'] = np.nan"
   ]
  },
  {
   "cell_type": "code",
   "execution_count": 16,
   "metadata": {},
   "outputs": [],
   "source": [
    "df_with_label['label'] = label"
   ]
  },
  {
   "cell_type": "code",
   "execution_count": 17,
   "metadata": {},
   "outputs": [
    {
     "data": {
      "text/html": [
       "<div>\n",
       "<style scoped>\n",
       "    .dataframe tbody tr th:only-of-type {\n",
       "        vertical-align: middle;\n",
       "    }\n",
       "\n",
       "    .dataframe tbody tr th {\n",
       "        vertical-align: top;\n",
       "    }\n",
       "\n",
       "    .dataframe thead th {\n",
       "        text-align: right;\n",
       "    }\n",
       "</style>\n",
       "<table border=\"1\" class=\"dataframe\">\n",
       "  <thead>\n",
       "    <tr style=\"text-align: right;\">\n",
       "      <th></th>\n",
       "      <th>area</th>\n",
       "      <th>bbox_area</th>\n",
       "      <th>compactness</th>\n",
       "      <th>convex_area</th>\n",
       "      <th>eccentricity</th>\n",
       "      <th>equivalent_diameter</th>\n",
       "      <th>extent</th>\n",
       "      <th>fractal_dimension</th>\n",
       "      <th>inertia_tensor_eigvals_1</th>\n",
       "      <th>inertia_tensor_eigvals_2</th>\n",
       "      <th>...</th>\n",
       "      <th>moments_hu_7</th>\n",
       "      <th>nuclei</th>\n",
       "      <th>nuclei_intensity_over_entire_image</th>\n",
       "      <th>orientation</th>\n",
       "      <th>perimeter</th>\n",
       "      <th>solidity</th>\n",
       "      <th>texture</th>\n",
       "      <th>total_nuclei_area</th>\n",
       "      <th>total_nuclei_area_ratio</th>\n",
       "      <th>label</th>\n",
       "    </tr>\n",
       "  </thead>\n",
       "  <tbody>\n",
       "    <tr>\n",
       "      <th>0</th>\n",
       "      <td>232.333333</td>\n",
       "      <td>560.761905</td>\n",
       "      <td>44.638176</td>\n",
       "      <td>375.904762</td>\n",
       "      <td>0.886223</td>\n",
       "      <td>16.236977</td>\n",
       "      <td>0.415209</td>\n",
       "      <td>0.817727</td>\n",
       "      <td>61.214019</td>\n",
       "      <td>11.609004</td>\n",
       "      <td>...</td>\n",
       "      <td>3.902244e-06</td>\n",
       "      <td>21</td>\n",
       "      <td>0.672365</td>\n",
       "      <td>0.227135</td>\n",
       "      <td>95.964815</td>\n",
       "      <td>0.627106</td>\n",
       "      <td>0.090174</td>\n",
       "      <td>4879.0</td>\n",
       "      <td>0.074448</td>\n",
       "      <td>0</td>\n",
       "    </tr>\n",
       "    <tr>\n",
       "      <th>0</th>\n",
       "      <td>189.808989</td>\n",
       "      <td>346.280899</td>\n",
       "      <td>29.611280</td>\n",
       "      <td>251.471910</td>\n",
       "      <td>0.652236</td>\n",
       "      <td>15.313492</td>\n",
       "      <td>0.555221</td>\n",
       "      <td>0.801800</td>\n",
       "      <td>24.894152</td>\n",
       "      <td>13.265463</td>\n",
       "      <td>...</td>\n",
       "      <td>2.194104e-08</td>\n",
       "      <td>89</td>\n",
       "      <td>0.516681</td>\n",
       "      <td>-0.018495</td>\n",
       "      <td>72.680816</td>\n",
       "      <td>0.754827</td>\n",
       "      <td>0.008617</td>\n",
       "      <td>16893.0</td>\n",
       "      <td>0.257767</td>\n",
       "      <td>0</td>\n",
       "    </tr>\n",
       "    <tr>\n",
       "      <th>0</th>\n",
       "      <td>276.888889</td>\n",
       "      <td>650.055556</td>\n",
       "      <td>40.273945</td>\n",
       "      <td>433.555556</td>\n",
       "      <td>0.763144</td>\n",
       "      <td>17.279407</td>\n",
       "      <td>0.443033</td>\n",
       "      <td>0.754102</td>\n",
       "      <td>53.680123</td>\n",
       "      <td>17.626986</td>\n",
       "      <td>...</td>\n",
       "      <td>-1.249436e-05</td>\n",
       "      <td>36</td>\n",
       "      <td>0.318954</td>\n",
       "      <td>0.267160</td>\n",
       "      <td>96.357512</td>\n",
       "      <td>0.650674</td>\n",
       "      <td>0.019006</td>\n",
       "      <td>9968.0</td>\n",
       "      <td>0.152100</td>\n",
       "      <td>0</td>\n",
       "    </tr>\n",
       "    <tr>\n",
       "      <th>0</th>\n",
       "      <td>223.385965</td>\n",
       "      <td>437.210526</td>\n",
       "      <td>29.231257</td>\n",
       "      <td>292.964912</td>\n",
       "      <td>0.736590</td>\n",
       "      <td>16.314875</td>\n",
       "      <td>0.524369</td>\n",
       "      <td>0.754721</td>\n",
       "      <td>36.435902</td>\n",
       "      <td>13.104881</td>\n",
       "      <td>...</td>\n",
       "      <td>-3.753196e-06</td>\n",
       "      <td>57</td>\n",
       "      <td>0.491332</td>\n",
       "      <td>0.325601</td>\n",
       "      <td>78.210713</td>\n",
       "      <td>0.768243</td>\n",
       "      <td>0.020958</td>\n",
       "      <td>12733.0</td>\n",
       "      <td>0.194290</td>\n",
       "      <td>0</td>\n",
       "    </tr>\n",
       "    <tr>\n",
       "      <th>0</th>\n",
       "      <td>222.647059</td>\n",
       "      <td>477.129412</td>\n",
       "      <td>32.963650</td>\n",
       "      <td>326.094118</td>\n",
       "      <td>0.746103</td>\n",
       "      <td>15.650702</td>\n",
       "      <td>0.494120</td>\n",
       "      <td>0.855427</td>\n",
       "      <td>38.151031</td>\n",
       "      <td>13.725385</td>\n",
       "      <td>...</td>\n",
       "      <td>1.246536e-07</td>\n",
       "      <td>85</td>\n",
       "      <td>0.748307</td>\n",
       "      <td>0.232896</td>\n",
       "      <td>82.288560</td>\n",
       "      <td>0.702751</td>\n",
       "      <td>0.074568</td>\n",
       "      <td>18925.0</td>\n",
       "      <td>0.288773</td>\n",
       "      <td>0</td>\n",
       "    </tr>\n",
       "  </tbody>\n",
       "</table>\n",
       "<p>5 rows × 47 columns</p>\n",
       "</div>"
      ],
      "text/plain": [
       "         area   bbox_area  compactness  convex_area  eccentricity  \\\n",
       "0  232.333333  560.761905    44.638176   375.904762      0.886223   \n",
       "0  189.808989  346.280899    29.611280   251.471910      0.652236   \n",
       "0  276.888889  650.055556    40.273945   433.555556      0.763144   \n",
       "0  223.385965  437.210526    29.231257   292.964912      0.736590   \n",
       "0  222.647059  477.129412    32.963650   326.094118      0.746103   \n",
       "\n",
       "   equivalent_diameter    extent  fractal_dimension  inertia_tensor_eigvals_1  \\\n",
       "0            16.236977  0.415209           0.817727                 61.214019   \n",
       "0            15.313492  0.555221           0.801800                 24.894152   \n",
       "0            17.279407  0.443033           0.754102                 53.680123   \n",
       "0            16.314875  0.524369           0.754721                 36.435902   \n",
       "0            15.650702  0.494120           0.855427                 38.151031   \n",
       "\n",
       "   inertia_tensor_eigvals_2  ...    moments_hu_7  nuclei  \\\n",
       "0                 11.609004  ...    3.902244e-06      21   \n",
       "0                 13.265463  ...    2.194104e-08      89   \n",
       "0                 17.626986  ...   -1.249436e-05      36   \n",
       "0                 13.104881  ...   -3.753196e-06      57   \n",
       "0                 13.725385  ...    1.246536e-07      85   \n",
       "\n",
       "   nuclei_intensity_over_entire_image  orientation  perimeter  solidity  \\\n",
       "0                            0.672365     0.227135  95.964815  0.627106   \n",
       "0                            0.516681    -0.018495  72.680816  0.754827   \n",
       "0                            0.318954     0.267160  96.357512  0.650674   \n",
       "0                            0.491332     0.325601  78.210713  0.768243   \n",
       "0                            0.748307     0.232896  82.288560  0.702751   \n",
       "\n",
       "    texture  total_nuclei_area  total_nuclei_area_ratio  label  \n",
       "0  0.090174             4879.0                 0.074448      0  \n",
       "0  0.008617            16893.0                 0.257767      0  \n",
       "0  0.019006             9968.0                 0.152100      0  \n",
       "0  0.020958            12733.0                 0.194290      0  \n",
       "0  0.074568            18925.0                 0.288773      0  \n",
       "\n",
       "[5 rows x 47 columns]"
      ]
     },
     "execution_count": 17,
     "metadata": {},
     "output_type": "execute_result"
    }
   ],
   "source": [
    "df_with_label.head()"
   ]
  },
  {
   "cell_type": "code",
   "execution_count": 18,
   "metadata": {},
   "outputs": [],
   "source": [
    "\n",
    "df_with_label = df_with_label.dropna()\n",
    "label = df_with_label['label']\n",
    "df_with_label = df_with_label.drop(columns=['label'])\n",
    "df_with_label.to_csv('normal_tumor_segmented_df.tsv', sep='\\t', index=False, header=True)"
   ]
  },
  {
   "cell_type": "code",
   "execution_count": 78,
   "metadata": {},
   "outputs": [
    {
     "data": {
      "text/plain": [
       "(19991, 46)"
      ]
     },
     "execution_count": 78,
     "metadata": {},
     "output_type": "execute_result"
    }
   ],
   "source": [
    "matrix = df_with_label.as_matrix()\n",
    "matrix.shape"
   ]
  },
  {
   "cell_type": "code",
   "execution_count": 20,
   "metadata": {},
   "outputs": [],
   "source": [
    "X_scaled = scaler.fit(matrix).transform(matrix)\n"
   ]
  },
  {
   "cell_type": "code",
   "execution_count": 21,
   "metadata": {},
   "outputs": [],
   "source": [
    "RANDOM_STATE = 42\n",
    "\n",
    "X_train, X_test, y_train, y_test = train_test_split(X_scaled, label,\n",
    "                                                    test_size=0.30,\n",
    "                                                    random_state=RANDOM_STATE)\n"
   ]
  },
  {
   "cell_type": "code",
   "execution_count": null,
   "metadata": {},
   "outputs": [],
   "source": []
  },
  {
   "cell_type": "code",
   "execution_count": 22,
   "metadata": {},
   "outputs": [
    {
     "data": {
      "text/plain": [
       "Lasso(alpha=0.1, copy_X=True, fit_intercept=True, max_iter=1000,\n",
       "   normalize=False, positive=False, precompute=False, random_state=None,\n",
       "   selection='cyclic', tol=0.0001, warm_start=False)"
      ]
     },
     "execution_count": 22,
     "metadata": {},
     "output_type": "execute_result"
    }
   ],
   "source": [
    "lasso = linear_model.Lasso(alpha = 0.1)\n",
    "lasso.fit(X_train, y_train)"
   ]
  },
  {
   "cell_type": "code",
   "execution_count": 23,
   "metadata": {},
   "outputs": [],
   "source": [
    "y_pred_lasso = lasso.predict(X_test)\n",
    "r2_score_lasso = r2_score(y_test, y_pred_lasso)"
   ]
  },
  {
   "cell_type": "code",
   "execution_count": 24,
   "metadata": {},
   "outputs": [
    {
     "data": {
      "text/plain": [
       "0.026751420515728097"
      ]
     },
     "execution_count": 24,
     "metadata": {},
     "output_type": "execute_result"
    }
   ],
   "source": [
    "r2_score_lasso"
   ]
  },
  {
   "cell_type": "code",
   "execution_count": 25,
   "metadata": {},
   "outputs": [
    {
     "name": "stderr",
     "output_type": "stream",
     "text": [
      "/home/saket/anaconda3/lib/python3.5/site-packages/sklearn/linear_model/coordinate_descent.py:491: ConvergenceWarning: Objective did not converge. You might want to increase the number of iterations. Fitting data with very small alpha may cause precision problems.\n",
      "  ConvergenceWarning)\n"
     ]
    },
    {
     "data": {
      "text/plain": [
       "0.2386861048913742"
      ]
     },
     "execution_count": 25,
     "metadata": {},
     "output_type": "execute_result"
    }
   ],
   "source": [
    "alpha = 0.001\n",
    "enet = ElasticNet(alpha=alpha, l1_ratio=0.7)\n",
    "\n",
    "y_pred_enet = enet.fit(X_train, y_train).predict(X_test)\n",
    "r2_score_enet = r2_score(y_test, y_pred_enet)\n",
    "r2_score_enet"
   ]
  },
  {
   "cell_type": "code",
   "execution_count": 53,
   "metadata": {},
   "outputs": [
    {
     "name": "stderr",
     "output_type": "stream",
     "text": [
      "Optimization Progress:  34%|███▍      | 41/120 [26:10<22:38, 17.20s/pipeline]"
     ]
    },
    {
     "name": "stdout",
     "output_type": "stream",
     "text": [
      "Generation 1 - Current best internal CV score: 0.7829624641293058\n"
     ]
    },
    {
     "name": "stderr",
     "output_type": "stream",
     "text": [
      "Optimization Progress:  52%|█████▏    | 62/120 [47:33<2:18:37, 143.41s/pipeline]"
     ]
    },
    {
     "name": "stdout",
     "output_type": "stream",
     "text": [
      "Generation 2 - Current best internal CV score: 0.7847490462360064\n"
     ]
    },
    {
     "name": "stderr",
     "output_type": "stream",
     "text": [
      "Optimization Progress:  69%|██████▉   | 83/120 [1:14:32<22:58, 37.26s/pipeline]"
     ]
    },
    {
     "name": "stdout",
     "output_type": "stream",
     "text": [
      "Generation 3 - Current best internal CV score: 0.7852494547092663\n"
     ]
    },
    {
     "name": "stderr",
     "output_type": "stream",
     "text": [
      "Optimization Progress:  86%|████████▌ | 103/120 [1:40:20<17:32, 61.94s/pipeline]"
     ]
    },
    {
     "name": "stdout",
     "output_type": "stream",
     "text": [
      "Generation 4 - Current best internal CV score: 0.7852494547092663\n"
     ]
    },
    {
     "name": "stderr",
     "output_type": "stream",
     "text": []
    },
    {
     "name": "stdout",
     "output_type": "stream",
     "text": [
      "Generation 5 - Current best internal CV score: 0.7852494547092663\n",
      "\n",
      "Best pipeline: RandomForestClassifier(input_matrix, bootstrap=False, criterion=entropy, max_features=0.4, min_samples_leaf=12, min_samples_split=3, n_estimators=100)\n"
     ]
    },
    {
     "data": {
      "text/plain": [
       "TPOTClassifier(config_dict={'sklearn.ensemble.GradientBoostingClassifier': {'subsample': array([0.05, 0.1 , 0.15, 0.2 , 0.25, 0.3 , 0.35, 0.4 , 0.45, 0.5 , 0.55,\n",
       "       0.6 , 0.65, 0.7 , 0.75, 0.8 , 0.85, 0.9 , 0.95, 1.  ]), 'max_depth': range(1, 11), 'min_samples_split': range(2, 21), 'n_estimators': [100], 'lear... 0.3 , 0.35, 0.4 , 0.45, 0.5 ,\n",
       "       0.55, 0.6 , 0.65, 0.7 , 0.75, 0.8 , 0.85, 0.9 , 0.95, 1.  ])}},\n",
       "        crossover_rate=0.1, cv=5, disable_update_check=False,\n",
       "        early_stop=None, generations=5, max_eval_time_mins=5,\n",
       "        max_time_mins=None, memory=None, mutation_rate=0.9, n_jobs=1,\n",
       "        offspring_size=20, periodic_checkpoint_folder=None,\n",
       "        population_size=20, random_state=42, scoring=None, subsample=1.0,\n",
       "        verbosity=2, warm_start=False)"
      ]
     },
     "execution_count": 53,
     "metadata": {},
     "output_type": "execute_result"
    }
   ],
   "source": [
    "pipeline_optimizer = TPOTClassifier(generations=5, population_size=20, cv=5,\n",
    "                                    random_state=42, verbosity=2)\n",
    "pipeline_optimizer.fit(X_train, y_train)\n"
   ]
  },
  {
   "cell_type": "code",
   "execution_count": 56,
   "metadata": {},
   "outputs": [
    {
     "name": "stdout",
     "output_type": "stream",
     "text": [
      "0.784594864954985\n"
     ]
    }
   ],
   "source": [
    "print(pipeline_optimizer.score(X_test, y_test))\n"
   ]
  },
  {
   "cell_type": "code",
   "execution_count": 57,
   "metadata": {},
   "outputs": [
    {
     "data": {
      "text/plain": [
       "True"
      ]
     },
     "execution_count": 57,
     "metadata": {},
     "output_type": "execute_result"
    }
   ],
   "source": [
    "pipeline_optimizer.export('tpot_exported_pipeline_10ksamples.py')\n"
   ]
  },
  {
   "cell_type": "code",
   "execution_count": null,
   "metadata": {},
   "outputs": [],
   "source": []
  },
  {
   "cell_type": "code",
   "execution_count": 29,
   "metadata": {},
   "outputs": [],
   "source": [
    "dtrain = xgb.DMatrix(X_train, label=y_train)\n",
    "dtest = xgb.DMatrix(X_test, label=y_test)\n",
    "\n",
    "param = {'max_depth':2, 'eta':1, 'silent':1, 'objective':'binary:logistic' }\n",
    "num_round = 2\n",
    "bst = xgb.train(param, dtrain, num_round)\n",
    "# make prediction\n",
    "preds = bst.predict(dtest)"
   ]
  },
  {
   "cell_type": "code",
   "execution_count": 30,
   "metadata": {},
   "outputs": [
    {
     "data": {
      "text/plain": [
       "<matplotlib.axes._subplots.AxesSubplot at 0x7fd564614668>"
      ]
     },
     "execution_count": 30,
     "metadata": {},
     "output_type": "execute_result"
    },
    {
     "data": {
      "image/png": "[encoded data removed]",
      "text/plain": [
       "<Figure size 432x288 with 1 Axes>"
      ]
     },
     "metadata": {},
     "output_type": "display_data"
    }
   ],
   "source": [
    "xgb.plot_importance(bst)\n"
   ]
  },
  {
   "cell_type": "code",
   "execution_count": 52,
   "metadata": {},
   "outputs": [
    {
     "data": {
      "text/plain": [
       "'eccentricity'"
      ]
     },
     "execution_count": 52,
     "metadata": {},
     "output_type": "execute_result"
    }
   ],
   "source": [
    "df.columns[4]"
   ]
  },
  {
   "cell_type": "code",
   "execution_count": 48,
   "metadata": {},
   "outputs": [
    {
     "data": {
      "text/plain": [
       "0.7152384128042681"
      ]
     },
     "execution_count": 48,
     "metadata": {},
     "output_type": "execute_result"
    }
   ],
   "source": [
    "accuracy_score(y_test, [round(x) for x in preds])"
   ]
  },
  {
   "cell_type": "code",
   "execution_count": 42,
   "metadata": {},
   "outputs": [
    {
     "ename": "CatboostError",
     "evalue": "Invalid type for cat_feature[0,0]=-0.2701392385365741 : cat_features must be integer or string, real number values and NaN values should be converted to string.",
     "output_type": "error",
     "traceback": [
      "\u001b[0;31m---------------------------------------------------------------------------\u001b[0m",
      "\u001b[0;31mCatboostError\u001b[0m                             Traceback (most recent call last)",
      "\u001b[0;32m_catboost.pyx\u001b[0m in \u001b[0;36m_catboost._PoolBase._set_data_from_generic_matrix\u001b[0;34m()\u001b[0m\n",
      "\u001b[0;32m_catboost.pyx\u001b[0m in \u001b[0;36m_catboost.get_id_object_bytes_string_representation\u001b[0;34m()\u001b[0m\n",
      "\u001b[0;31mCatboostError\u001b[0m: bad object for id: -0.2701392385365741",
      "\nDuring handling of the above exception, another exception occurred:\n",
      "\u001b[0;31mCatboostError\u001b[0m                             Traceback (most recent call last)",
      "\u001b[0;32m<ipython-input-42-128c3a656bcb>\u001b[0m in \u001b[0;36m<module>\u001b[0;34m()\u001b[0m\n\u001b[1;32m      2\u001b[0m                            loss_function='Logloss', logging_level='Verbose')\n\u001b[1;32m      3\u001b[0m \u001b[0;31m#train the model\u001b[0m\u001b[0;34m\u001b[0m\u001b[0;34m\u001b[0m\u001b[0m\n\u001b[0;32m----> 4\u001b[0;31m \u001b[0mmodel\u001b[0m\u001b[0;34m.\u001b[0m\u001b[0mfit\u001b[0m\u001b[0;34m(\u001b[0m\u001b[0mX_train\u001b[0m\u001b[0;34m,\u001b[0m \u001b[0my_train\u001b[0m\u001b[0;34m,\u001b[0m \u001b[0mcat_features\u001b[0m\u001b[0;34m=\u001b[0m\u001b[0;34m[\u001b[0m\u001b[0;36m0\u001b[0m\u001b[0;34m,\u001b[0m\u001b[0;36m1\u001b[0m\u001b[0;34m]\u001b[0m\u001b[0;34m)\u001b[0m\u001b[0;34m\u001b[0m\u001b[0m\n\u001b[0m\u001b[1;32m      5\u001b[0m \u001b[0;31m# make the prediction using the resulting model\u001b[0m\u001b[0;34m\u001b[0m\u001b[0;34m\u001b[0m\u001b[0m\n\u001b[1;32m      6\u001b[0m \u001b[0mpreds_class\u001b[0m \u001b[0;34m=\u001b[0m \u001b[0mmodel\u001b[0m\u001b[0;34m.\u001b[0m\u001b[0mpredict\u001b[0m\u001b[0;34m(\u001b[0m\u001b[0mX_test\u001b[0m\u001b[0;34m)\u001b[0m\u001b[0;34m\u001b[0m\u001b[0m\n",
      "\u001b[0;32m~/anaconda3/lib/python3.5/site-packages/catboost/core.py\u001b[0m in \u001b[0;36mfit\u001b[0;34m(self, X, y, cat_features, sample_weight, baseline, use_best_model, eval_set, verbose, logging_level, plot, column_description, verbose_eval, metric_period, silent, early_stopping_rounds)\u001b[0m\n\u001b[1;32m   2056\u001b[0m         self._fit(X, y, cat_features, None, sample_weight, None, None, None, None, baseline, use_best_model,\n\u001b[1;32m   2057\u001b[0m                   \u001b[0meval_set\u001b[0m\u001b[0;34m,\u001b[0m \u001b[0mverbose\u001b[0m\u001b[0;34m,\u001b[0m \u001b[0mlogging_level\u001b[0m\u001b[0;34m,\u001b[0m \u001b[0mplot\u001b[0m\u001b[0;34m,\u001b[0m \u001b[0mcolumn_description\u001b[0m\u001b[0;34m,\u001b[0m \u001b[0mverbose_eval\u001b[0m\u001b[0;34m,\u001b[0m \u001b[0mmetric_period\u001b[0m\u001b[0;34m,\u001b[0m\u001b[0;34m\u001b[0m\u001b[0m\n\u001b[0;32m-> 2058\u001b[0;31m                   silent, early_stopping_rounds)\n\u001b[0m\u001b[1;32m   2059\u001b[0m         \u001b[0;32mreturn\u001b[0m \u001b[0mself\u001b[0m\u001b[0;34m\u001b[0m\u001b[0m\n\u001b[1;32m   2060\u001b[0m \u001b[0;34m\u001b[0m\u001b[0m\n",
      "\u001b[0;32m~/anaconda3/lib/python3.5/site-packages/catboost/core.py\u001b[0m in \u001b[0;36m_fit\u001b[0;34m(self, X, y, cat_features, pairs, sample_weight, group_id, group_weight, subgroup_id, pairs_weight, baseline, use_best_model, eval_set, verbose, logging_level, plot, column_description, verbose_eval, metric_period, silent, early_stopping_rounds)\u001b[0m\n\u001b[1;32m   1029\u001b[0m             })\n\u001b[1;32m   1030\u001b[0m \u001b[0;34m\u001b[0m\u001b[0m\n\u001b[0;32m-> 1031\u001b[0;31m         \u001b[0mtrain_pool\u001b[0m \u001b[0;34m=\u001b[0m \u001b[0m_build_train_pool\u001b[0m\u001b[0;34m(\u001b[0m\u001b[0mX\u001b[0m\u001b[0;34m,\u001b[0m \u001b[0my\u001b[0m\u001b[0;34m,\u001b[0m \u001b[0mcat_features\u001b[0m\u001b[0;34m,\u001b[0m \u001b[0mpairs\u001b[0m\u001b[0;34m,\u001b[0m \u001b[0msample_weight\u001b[0m\u001b[0;34m,\u001b[0m \u001b[0mgroup_id\u001b[0m\u001b[0;34m,\u001b[0m \u001b[0mgroup_weight\u001b[0m\u001b[0;34m,\u001b[0m \u001b[0msubgroup_id\u001b[0m\u001b[0;34m,\u001b[0m \u001b[0mpairs_weight\u001b[0m\u001b[0;34m,\u001b[0m \u001b[0mbaseline\u001b[0m\u001b[0;34m,\u001b[0m \u001b[0mcolumn_description\u001b[0m\u001b[0;34m)\u001b[0m\u001b[0;34m\u001b[0m\u001b[0m\n\u001b[0m\u001b[1;32m   1032\u001b[0m         \u001b[0;32mif\u001b[0m \u001b[0mtrain_pool\u001b[0m\u001b[0;34m.\u001b[0m\u001b[0mis_empty_\u001b[0m\u001b[0;34m:\u001b[0m\u001b[0;34m\u001b[0m\u001b[0m\n\u001b[1;32m   1033\u001b[0m             \u001b[0;32mraise\u001b[0m \u001b[0mCatboostError\u001b[0m\u001b[0;34m(\u001b[0m\u001b[0;34m\"X is empty.\"\u001b[0m\u001b[0;34m)\u001b[0m\u001b[0;34m\u001b[0m\u001b[0m\n",
      "\u001b[0;32m~/anaconda3/lib/python3.5/site-packages/catboost/core.py\u001b[0m in \u001b[0;36m_build_train_pool\u001b[0;34m(X, y, cat_features, pairs, sample_weight, group_id, group_weight, subgroup_id, pairs_weight, baseline, column_description)\u001b[0m\n\u001b[1;32m    656\u001b[0m             \u001b[0;32mraise\u001b[0m \u001b[0mCatboostError\u001b[0m\u001b[0;34m(\u001b[0m\u001b[0;34m\"y has not initialized in fit(): X is not catboost.Pool object, y must be not None in fit().\"\u001b[0m\u001b[0;34m)\u001b[0m\u001b[0;34m\u001b[0m\u001b[0m\n\u001b[1;32m    657\u001b[0m         train_pool = Pool(X, y, cat_features=cat_features, pairs=pairs, weight=sample_weight, group_id=group_id,\n\u001b[0;32m--> 658\u001b[0;31m                           group_weight=group_weight, subgroup_id=subgroup_id, pairs_weight=pairs_weight, baseline=baseline)\n\u001b[0m\u001b[1;32m    659\u001b[0m     \u001b[0;32mreturn\u001b[0m \u001b[0mtrain_pool\u001b[0m\u001b[0;34m\u001b[0m\u001b[0m\n\u001b[1;32m    660\u001b[0m \u001b[0;34m\u001b[0m\u001b[0m\n",
      "\u001b[0;32m~/anaconda3/lib/python3.5/site-packages/catboost/core.py\u001b[0m in \u001b[0;36m__init__\u001b[0;34m(self, data, label, cat_features, column_description, pairs, delimiter, has_header, weight, group_id, group_weight, subgroup_id, pairs_weight, baseline, feature_names, thread_count)\u001b[0m\n\u001b[1;32m    293\u001b[0m                         )\n\u001b[1;32m    294\u001b[0m \u001b[0;34m\u001b[0m\u001b[0m\n\u001b[0;32m--> 295\u001b[0;31m                 \u001b[0mself\u001b[0m\u001b[0;34m.\u001b[0m\u001b[0m_init\u001b[0m\u001b[0;34m(\u001b[0m\u001b[0mdata\u001b[0m\u001b[0;34m,\u001b[0m \u001b[0mlabel\u001b[0m\u001b[0;34m,\u001b[0m \u001b[0mcat_features\u001b[0m\u001b[0;34m,\u001b[0m \u001b[0mpairs\u001b[0m\u001b[0;34m,\u001b[0m \u001b[0mweight\u001b[0m\u001b[0;34m,\u001b[0m \u001b[0mgroup_id\u001b[0m\u001b[0;34m,\u001b[0m \u001b[0mgroup_weight\u001b[0m\u001b[0;34m,\u001b[0m \u001b[0msubgroup_id\u001b[0m\u001b[0;34m,\u001b[0m \u001b[0mpairs_weight\u001b[0m\u001b[0;34m,\u001b[0m \u001b[0mbaseline\u001b[0m\u001b[0;34m,\u001b[0m \u001b[0mfeature_names\u001b[0m\u001b[0;34m)\u001b[0m\u001b[0;34m\u001b[0m\u001b[0m\n\u001b[0m\u001b[1;32m    296\u001b[0m         \u001b[0msuper\u001b[0m\u001b[0;34m(\u001b[0m\u001b[0mPool\u001b[0m\u001b[0;34m,\u001b[0m \u001b[0mself\u001b[0m\u001b[0;34m)\u001b[0m\u001b[0;34m.\u001b[0m\u001b[0m__init__\u001b[0m\u001b[0;34m(\u001b[0m\u001b[0;34m)\u001b[0m\u001b[0;34m\u001b[0m\u001b[0m\n\u001b[1;32m    297\u001b[0m \u001b[0;34m\u001b[0m\u001b[0m\n",
      "\u001b[0;32m~/anaconda3/lib/python3.5/site-packages/catboost/core.py\u001b[0m in \u001b[0;36m_init\u001b[0;34m(self, data, label, cat_features, pairs, weight, group_id, group_weight, subgroup_id, pairs_weight, baseline, feature_names)\u001b[0m\n\u001b[1;32m    637\u001b[0m         \u001b[0;32mif\u001b[0m \u001b[0mfeature_names\u001b[0m \u001b[0;32mis\u001b[0m \u001b[0;32mnot\u001b[0m \u001b[0;32mNone\u001b[0m\u001b[0;34m:\u001b[0m\u001b[0;34m\u001b[0m\u001b[0m\n\u001b[1;32m    638\u001b[0m             \u001b[0mself\u001b[0m\u001b[0;34m.\u001b[0m\u001b[0m_check_feature_names\u001b[0m\u001b[0;34m(\u001b[0m\u001b[0mfeature_names\u001b[0m\u001b[0;34m,\u001b[0m \u001b[0mfeatures_count\u001b[0m\u001b[0;34m)\u001b[0m\u001b[0;34m\u001b[0m\u001b[0m\n\u001b[0;32m--> 639\u001b[0;31m         \u001b[0mself\u001b[0m\u001b[0;34m.\u001b[0m\u001b[0m_init_pool\u001b[0m\u001b[0;34m(\u001b[0m\u001b[0mdata\u001b[0m\u001b[0;34m,\u001b[0m \u001b[0mlabel\u001b[0m\u001b[0;34m,\u001b[0m \u001b[0mcat_features\u001b[0m\u001b[0;34m,\u001b[0m \u001b[0mpairs\u001b[0m\u001b[0;34m,\u001b[0m \u001b[0mweight\u001b[0m\u001b[0;34m,\u001b[0m \u001b[0mgroup_id\u001b[0m\u001b[0;34m,\u001b[0m \u001b[0mgroup_weight\u001b[0m\u001b[0;34m,\u001b[0m \u001b[0msubgroup_id\u001b[0m\u001b[0;34m,\u001b[0m \u001b[0mpairs_weight\u001b[0m\u001b[0;34m,\u001b[0m \u001b[0mbaseline\u001b[0m\u001b[0;34m,\u001b[0m \u001b[0mfeature_names\u001b[0m\u001b[0;34m)\u001b[0m\u001b[0;34m\u001b[0m\u001b[0m\n\u001b[0m\u001b[1;32m    640\u001b[0m \u001b[0;34m\u001b[0m\u001b[0m\n\u001b[1;32m    641\u001b[0m \u001b[0;34m\u001b[0m\u001b[0m\n",
      "\u001b[0;32m_catboost.pyx\u001b[0m in \u001b[0;36m_catboost._PoolBase._init_pool\u001b[0;34m()\u001b[0m\n",
      "\u001b[0;32m_catboost.pyx\u001b[0m in \u001b[0;36m_catboost._PoolBase._init_pool\u001b[0;34m()\u001b[0m\n",
      "\u001b[0;32m_catboost.pyx\u001b[0m in \u001b[0;36m_catboost._PoolBase._set_data_and_feature_names\u001b[0;34m()\u001b[0m\n",
      "\u001b[0;32m_catboost.pyx\u001b[0m in \u001b[0;36m_catboost._PoolBase._set_data_from_generic_matrix\u001b[0;34m()\u001b[0m\n",
      "\u001b[0;31mCatboostError\u001b[0m: Invalid type for cat_feature[0,0]=-0.2701392385365741 : cat_features must be integer or string, real number values and NaN values should be converted to string."
     ]
    }
   ],
   "source": [
    "model = CatBoostClassifier(iterations=2, depth=2, learning_rate=1, \n",
    "                           loss_function='Logloss', logging_level='Verbose')\n",
    "#train the model\n",
    "model.fit(X_train, y_train, cat_features=[0,1])\n",
    "# make the prediction using the resulting model\n",
    "preds_class = model.predict(X_test)\n",
    "preds_proba = model.predict_proba(X_test)\n",
    "print(\"class = \", preds_class)\n",
    "print(\"proba = \", preds_proba)"
   ]
  },
  {
   "cell_type": "code",
   "execution_count": 34,
   "metadata": {},
   "outputs": [
    {
     "ename": "IndexError",
     "evalue": "list index out of range",
     "output_type": "error",
     "traceback": [
      "\u001b[0;31m---------------------------------------------------------------------------\u001b[0m",
      "\u001b[0;31mIndexError\u001b[0m                                Traceback (most recent call last)",
      "\u001b[0;32m<ipython-input-34-f6ad5ba49263>\u001b[0m in \u001b[0;36m<module>\u001b[0;34m()\u001b[0m\n\u001b[0;32m----> 1\u001b[0;31m \u001b[0mxgb\u001b[0m\u001b[0;34m.\u001b[0m\u001b[0mplot_tree\u001b[0m\u001b[0;34m(\u001b[0m\u001b[0mbst\u001b[0m\u001b[0;34m,\u001b[0m \u001b[0mnum_trees\u001b[0m\u001b[0;34m=\u001b[0m\u001b[0;36m2\u001b[0m\u001b[0;34m)\u001b[0m\u001b[0;34m\u001b[0m\u001b[0m\n\u001b[0m",
      "\u001b[0;32m~/anaconda3/lib/python3.5/site-packages/xgboost/plotting.py\u001b[0m in \u001b[0;36mplot_tree\u001b[0;34m(booster, fmap, num_trees, rankdir, ax, **kwargs)\u001b[0m\n\u001b[1;32m    256\u001b[0m         \u001b[0m_\u001b[0m\u001b[0;34m,\u001b[0m \u001b[0max\u001b[0m \u001b[0;34m=\u001b[0m \u001b[0mplt\u001b[0m\u001b[0;34m.\u001b[0m\u001b[0msubplots\u001b[0m\u001b[0;34m(\u001b[0m\u001b[0;36m1\u001b[0m\u001b[0;34m,\u001b[0m \u001b[0;36m1\u001b[0m\u001b[0;34m)\u001b[0m\u001b[0;34m\u001b[0m\u001b[0m\n\u001b[1;32m    257\u001b[0m \u001b[0;34m\u001b[0m\u001b[0m\n\u001b[0;32m--> 258\u001b[0;31m     \u001b[0mg\u001b[0m \u001b[0;34m=\u001b[0m \u001b[0mto_graphviz\u001b[0m\u001b[0;34m(\u001b[0m\u001b[0mbooster\u001b[0m\u001b[0;34m,\u001b[0m \u001b[0mfmap\u001b[0m\u001b[0;34m=\u001b[0m\u001b[0mfmap\u001b[0m\u001b[0;34m,\u001b[0m \u001b[0mnum_trees\u001b[0m\u001b[0;34m=\u001b[0m\u001b[0mnum_trees\u001b[0m\u001b[0;34m,\u001b[0m \u001b[0mrankdir\u001b[0m\u001b[0;34m=\u001b[0m\u001b[0mrankdir\u001b[0m\u001b[0;34m,\u001b[0m \u001b[0;34m**\u001b[0m\u001b[0mkwargs\u001b[0m\u001b[0;34m)\u001b[0m\u001b[0;34m\u001b[0m\u001b[0m\n\u001b[0m\u001b[1;32m    259\u001b[0m \u001b[0;34m\u001b[0m\u001b[0m\n\u001b[1;32m    260\u001b[0m     \u001b[0ms\u001b[0m \u001b[0;34m=\u001b[0m \u001b[0mBytesIO\u001b[0m\u001b[0;34m(\u001b[0m\u001b[0;34m)\u001b[0m\u001b[0;34m\u001b[0m\u001b[0m\n",
      "\u001b[0;32m~/anaconda3/lib/python3.5/site-packages/xgboost/plotting.py\u001b[0m in \u001b[0;36mto_graphviz\u001b[0;34m(booster, fmap, num_trees, rankdir, yes_color, no_color, **kwargs)\u001b[0m\n\u001b[1;32m    203\u001b[0m         \u001b[0mbooster\u001b[0m \u001b[0;34m=\u001b[0m \u001b[0mbooster\u001b[0m\u001b[0;34m.\u001b[0m\u001b[0mget_booster\u001b[0m\u001b[0;34m(\u001b[0m\u001b[0;34m)\u001b[0m\u001b[0;34m\u001b[0m\u001b[0m\n\u001b[1;32m    204\u001b[0m \u001b[0;34m\u001b[0m\u001b[0m\n\u001b[0;32m--> 205\u001b[0;31m     \u001b[0mtree\u001b[0m \u001b[0;34m=\u001b[0m \u001b[0mbooster\u001b[0m\u001b[0;34m.\u001b[0m\u001b[0mget_dump\u001b[0m\u001b[0;34m(\u001b[0m\u001b[0mfmap\u001b[0m\u001b[0;34m=\u001b[0m\u001b[0mfmap\u001b[0m\u001b[0;34m)\u001b[0m\u001b[0;34m[\u001b[0m\u001b[0mnum_trees\u001b[0m\u001b[0;34m]\u001b[0m\u001b[0;34m\u001b[0m\u001b[0m\n\u001b[0m\u001b[1;32m    206\u001b[0m     \u001b[0mtree\u001b[0m \u001b[0;34m=\u001b[0m \u001b[0mtree\u001b[0m\u001b[0;34m.\u001b[0m\u001b[0msplit\u001b[0m\u001b[0;34m(\u001b[0m\u001b[0;34m)\u001b[0m\u001b[0;34m\u001b[0m\u001b[0m\n\u001b[1;32m    207\u001b[0m \u001b[0;34m\u001b[0m\u001b[0m\n",
      "\u001b[0;31mIndexError\u001b[0m: list index out of range"
     ]
    },
    {
     "data": {
      "image/png": "[encoded data removed]",
      "text/plain": [
       "<Figure size 432x288 with 1 Axes>"
      ]
     },
     "metadata": {},
     "output_type": "display_data"
    }
   ],
   "source": [
    "xgb.plot_tree(bst, num_trees=2)\n"
   ]
  },
  {
   "cell_type": "code",
   "execution_count": 55,
   "metadata": {},
   "outputs": [
    {
     "name": "stdout",
     "output_type": "stream",
     "text": [
      "Fitting 3 folds for each of 9 candidates, totalling 27 fits\n"
     ]
    },
    {
     "name": "stderr",
     "output_type": "stream",
     "text": [
      "[Parallel(n_jobs=1)]: Done  27 out of  27 | elapsed:  1.8min finished\n"
     ]
    },
    {
     "name": "stdout",
     "output_type": "stream",
     "text": [
      "0.7816050882584149\n",
      "{'max_depth': 6, 'n_estimators': 200}\n"
     ]
    }
   ],
   "source": [
    "xgb_model = xgb.XGBClassifier()\n",
    "optimization_dict = {'max_depth': [2,4,6],\n",
    "                     'n_estimators': [50,100,200]}\n",
    "\n",
    "model = GridSearchCV(xgb_model, optimization_dict, \n",
    "                     scoring='accuracy', verbose=1)\n",
    "\n",
    "model.fit(X_train, y_train)\n",
    "print(model.best_score_)\n",
    "print(model.best_params_)"
   ]
  },
  {
   "cell_type": "markdown",
   "metadata": {},
   "source": [
    "# Test on test dataset"
   ]
  },
  {
   "cell_type": "code",
   "execution_count": 63,
   "metadata": {},
   "outputs": [],
   "source": [
    "test_tumor_segmented_tsv_dir = '/Z/personal-folders/interns/saket/histopath_data/baidu_images/test_tumor_level0_segmented/level_0/'\n",
    "test_normal_segmented_tsv_dir = '/Z/personal-folders/interns/saket/histopath_data/baidu_images/test_normal_level0_segmented/level_0/'"
   ]
  },
  {
   "cell_type": "code",
   "execution_count": 65,
   "metadata": {},
   "outputs": [],
   "source": [
    "from multiprocessing import Pool"
   ]
  },
  {
   "cell_type": "code",
   "execution_count": 66,
   "metadata": {},
   "outputs": [
    {
     "data": {
      "application/vnd.jupyter.widget-view+json": {
       "model_id": "0ef4089b5dc742a28030c4a6158428aa",
       "version_major": 2,
       "version_minor": 0
      },
      "text/plain": [
       "HBox(children=(IntProgress(value=0, max=289), HTML(value='')))"
      ]
     },
     "metadata": {},
     "output_type": "display_data"
    },
    {
     "name": "stdout",
     "output_type": "stream",
     "text": [
      "\n"
     ]
    }
   ],
   "source": [
    "test_df = pd.DataFrame()\n",
    "test_y = []\n",
    "\n",
    "\n",
    "test_normal_segmented_tsv = glob.glob(test_normal_segmented_tsv_dir+'/*.tsv')\n",
    "test_tumor_segmented_tsv = glob.glob(test_tumor_segmented_tsv_dir+'/*.tsv')\n",
    "np.random.seed(42)\n",
    "test_normal_segmented_tsv_subsampled = test_normal_segmented_tsv\n",
    "#np.random.choice(test_normal_segmented_tsv, 10000)\n",
    "test_tumor_segmented_tsv_subsampled = test_tumor_segmented_tsv\n",
    "#np.random.choice(tumor_segmented_tsv, 10000)\n",
    "\n",
    "with tqdm_notebook(total=len(test_normal_segmented_tsv_subsampled)) as pbar:\n",
    "    with Pool(processes=32) as p:\n",
    "        for i, temp_df in enumerate(p.imap_unordered(load_df, test_normal_segmented_tsv_subsampled)):\n",
    "            if temp_df is not None:\n",
    "                test_df = pd.concat((test_df, temp_df))\n",
    "                test_y.append(0)\n",
    "            pbar.update()"
   ]
  },
  {
   "cell_type": "code",
   "execution_count": 67,
   "metadata": {},
   "outputs": [
    {
     "data": {
      "application/vnd.jupyter.widget-view+json": {
       "model_id": "e4d6b9fddd8143c292011d2d63735731",
       "version_major": 2,
       "version_minor": 0
      },
      "text/plain": [
       "HBox(children=(IntProgress(value=0, max=11870), HTML(value='')))"
      ]
     },
     "metadata": {},
     "output_type": "display_data"
    },
    {
     "name": "stderr",
     "output_type": "stream",
     "text": [
      "Exception ignored in: <bound method Booster.__del__ of <xgboost.core.Booster object at 0x7fd52458ac50>>\n",
      "Traceback (most recent call last):\n",
      "  File \"/home/saket/anaconda3/lib/python3.5/site-packages/xgboost/core.py\", line 741, in __del__\n",
      "    if self.handle is not None:\n",
      "AttributeError: 'Booster' object has no attribute 'handle'\n"
     ]
    },
    {
     "name": "stdout",
     "output_type": "stream",
     "text": [
      "\n"
     ]
    }
   ],
   "source": [
    "with tqdm_notebook(total=len(test_tumor_segmented_tsv_subsampled)) as pbar:\n",
    "    with Pool(processes=32) as p:\n",
    "        for i, temp_df in enumerate(p.imap_unordered(load_df, test_tumor_segmented_tsv_subsampled)):\n",
    "            if temp_df is not None:\n",
    "                test_df = pd.concat((test_df, temp_df))\n",
    "                test_y.append(1)\n",
    "            pbar.update()"
   ]
  },
  {
   "cell_type": "code",
   "execution_count": 69,
   "metadata": {},
   "outputs": [],
   "source": [
    "test_df['label'] = test_y"
   ]
  },
  {
   "cell_type": "code",
   "execution_count": 72,
   "metadata": {},
   "outputs": [],
   "source": [
    "test_df = test_df.dropna()\n",
    "test_df.to_csv('./test_tumor_segmented_df.tsv', index=False, header=True, sep='\\t')"
   ]
  },
  {
   "cell_type": "code",
   "execution_count": 73,
   "metadata": {},
   "outputs": [],
   "source": [
    "label = test_df['label']\n",
    "test_df_nolabel = test_df.copy()\n",
    "test_df_nolabel = test_df_nolabel.drop(columns=['label'])\n"
   ]
  },
  {
   "cell_type": "code",
   "execution_count": 74,
   "metadata": {},
   "outputs": [
    {
     "data": {
      "text/plain": [
       "(11753, 46)"
      ]
     },
     "execution_count": 74,
     "metadata": {},
     "output_type": "execute_result"
    }
   ],
   "source": [
    "test_matrix = test_df_nolabel.as_matrix()\n",
    "test_matrix.shape"
   ]
  },
  {
   "cell_type": "code",
   "execution_count": 77,
   "metadata": {},
   "outputs": [
    {
     "data": {
      "text/plain": [
       "<attribute 'shape' of 'numpy.ndarray' objects>"
      ]
     },
     "execution_count": 77,
     "metadata": {},
     "output_type": "execute_result"
    }
   ],
   "source": [
    "matrix.shape"
   ]
  },
  {
   "cell_type": "code",
   "execution_count": 82,
   "metadata": {},
   "outputs": [],
   "source": [
    "testX_scaled = scaler.fit(test_matrix).transform(test_matrix)\n"
   ]
  },
  {
   "cell_type": "code",
   "execution_count": 83,
   "metadata": {},
   "outputs": [
    {
     "name": "stdout",
     "output_type": "stream",
     "text": [
      "0.4662639326129499\n"
     ]
    }
   ],
   "source": [
    "print(pipeline_optimizer.score(testX_scaled, label))\n"
   ]
  },
  {
   "cell_type": "code",
   "execution_count": 84,
   "metadata": {},
   "outputs": [
    {
     "data": {
      "text/plain": [
       "Index(['area', 'bbox_area', 'compactness', 'convex_area', 'eccentricity',\n",
       "       'equivalent_diameter', 'extent', 'fractal_dimension',\n",
       "       'inertia_tensor_eigvals_1', 'inertia_tensor_eigvals_2',\n",
       "       'major_axis_length', 'max_intensity', 'mean_intensity',\n",
       "       'mean_intensity_entire_image', 'minor_axis_length', 'moments_central_1',\n",
       "       'moments_central_10', 'moments_central_11', 'moments_central_12',\n",
       "       'moments_central_13', 'moments_central_14', 'moments_central_15',\n",
       "       'moments_central_16', 'moments_central_2', 'moments_central_3',\n",
       "       'moments_central_4', 'moments_central_5', 'moments_central_6',\n",
       "       'moments_central_7', 'moments_central_8', 'moments_central_9',\n",
       "       'moments_hu_1', 'moments_hu_2', 'moments_hu_3', 'moments_hu_4',\n",
       "       'moments_hu_5', 'moments_hu_6', 'moments_hu_7', 'nuclei',\n",
       "       'nuclei_intensity_over_entire_image', 'orientation', 'perimeter',\n",
       "       'solidity', 'texture', 'total_nuclei_area', 'total_nuclei_area_ratio'],\n",
       "      dtype='object')"
      ]
     },
     "execution_count": 84,
     "metadata": {},
     "output_type": "execute_result"
    }
   ],
   "source": [
    "df.columns"
   ]
  },
  {
   "cell_type": "code",
   "execution_count": null,
   "metadata": {},
   "outputs": [],
   "source": []
  }
 ],
 "metadata": {
  "kernelspec": {
   "display_name": "Python [default]",
   "language": "python",
   "name": "python3"
  },
  "language_info": {
   "codemirror_mode": {
    "name": "ipython",
    "version": 3
   },
   "file_extension": ".py",
   "mimetype": "text/x-python",
   "name": "python",
   "nbconvert_exporter": "python",
   "pygments_lexer": "ipython3",
   "version": "3.5.5"
  }
 },
 "nbformat": 4,
 "nbformat_minor": 2
}
