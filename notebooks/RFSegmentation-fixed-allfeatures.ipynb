{
 "cells": [
  {
   "cell_type": "code",
   "execution_count": 1,
   "metadata": {},
   "outputs": [
    {
     "name": "stdout",
     "output_type": "stream",
     "text": [
      "Populating the interactive namespace from numpy and matplotlib\n"
     ]
    }
   ],
   "source": [
    "%pylab inline\n",
    "import pandas as pd\n",
    "import tensorflow as tf\n",
    "import glob\n",
    "from tensorflow.contrib.tensor_forest.python import tensor_forest\n",
    "from tensorflow.python.ops import resources\n",
    "from tqdm import tqdm_notebook\n",
    "from multiprocessing import Pool\n",
    "import os\n",
    "os.environ[\"CUDA_VISIBLE_DEVICES\"] = \"\"\n",
    "np.random.seed(42)\n",
    "from sklearn.metrics import precision_recall_curve\n",
    "from sklearn.metrics import average_precision_score\n",
    "import seaborn as sns\n",
    "sns.set_style('whitegrid')\n",
    "sns.set_context('paper', font_scale=2)\n",
    "BUFFER_SIZE= 100"
   ]
  },
  {
   "cell_type": "code",
   "execution_count": 3,
   "metadata": {},
   "outputs": [
    {
     "name": "stderr",
     "output_type": "stream",
     "text": [
      "Using TensorFlow backend.\n"
     ]
    }
   ],
   "source": [
    "from pywsi.io.operations import get_annotation_bounding_boxes\n",
    "from pywsi.io.operations import get_annotation_polygons\n",
    "from pywsi.io.operations import path_leaf\n",
    "from pywsi.io.operations import read_as_rgb\n",
    "from pywsi.io.operations import WSIReader\n",
    "from pywsi.io.tiling import get_all_patches_from_slide\n",
    "from pywsi.io.tiling import save_images_and_mask, generate_tiles, generate_tiles_fast\n",
    "\n",
    "from pywsi.morphology.patch_extractor import TissuePatch\n",
    "from pywsi.morphology.mask import get_common_interior_polygons\n",
    "from tqdm import tqdm\n",
    "from multiprocessing import Pool\n",
    "from pywsi.segmentation import label_nuclei, summarize_region_properties\n",
    "from pywsi.deep_model.model import slide_level_map\n",
    "\n",
    "from collections import defaultdict\n",
    "import joblib\n",
    "import numpy as np\n",
    "from six import iteritems\n",
    "import pandas as pd"
   ]
  },
  {
   "cell_type": "code",
   "execution_count": null,
   "metadata": {},
   "outputs": [],
   "source": [
    "train_samples = pd.read_table('/Z/personal-folders/interns/saket/github/pywsi/data/patch_df/train_df_segmented.tsv')\n",
    "\n",
    "is_tumor_idx = list(train_samples.columns).index('is_tumor')"
   ]
  },
  {
   "cell_type": "code",
   "execution_count": null,
   "metadata": {},
   "outputs": [],
   "source": [
    "def order(frame,var):\n",
    "    if type(var) is str:\n",
    "        var = [var] #let the command take a string or list\n",
    "    varlist =[w for w in frame.columns if w not in var]\n",
    "    frame = frame[var+varlist]\n",
    "    return frame "
   ]
  },
  {
   "cell_type": "code",
   "execution_count": null,
   "metadata": {},
   "outputs": [],
   "source": [
    "# Parameters\n",
    "num_steps = 500 # Total steps to train\n",
    "batch_size = 1#024 # The number of samples per batch\n",
    "num_classes = 2 # 2 classes\n",
    "num_features = 46 # columns in the feature\n",
    "num_trees = 100\n",
    "max_nodes = 10000\n",
    "\n",
    "def _parse_csv(rows_string_tensor):\n",
    "        \"\"\"Takes the string input tensor and returns tuple of (features, labels).\"\"\"\n",
    "        # Last dim is the label.        \n",
    "        num_columns = num_features + 1 \n",
    "        columns = tf.decode_csv(rows_string_tensor,\n",
    "                                record_defaults=[[0.0]] * num_columns , \n",
    "                                field_delim='\\t')\n",
    "        label = columns[0]\n",
    "        print(label)\n",
    "        #label = columns[is_tumor_idx]\n",
    "        #stack1 = tf.stack(columns[0: is_tumor_idx])\n",
    "        #stack2 = tf.stack(columns[is_tumor_idx+1:])\n",
    "        #return tf.stack([columns[x0: is_tumor_idx], columns[is_tumor_idx+1:]]), tf.cast(label, tf.int32)\n",
    "        return tf.cast(tf.stack(columns[1:]), tf.float32), tf.cast(label, tf.int32)\n",
    "        #return  tf.cast(label, tf.int32),  tf.cast(label, tf.int32)\n",
    "\n",
    "def input_fn(file_names, batch_size):   \n",
    "\n",
    "    \"\"\"The input_fn.\"\"\"\n",
    "    dataset = tf.data.TextLineDataset(file_names).skip(1)\n",
    "    # Skip the first line (which does not have data).\n",
    "    dataset = dataset.map(_parse_csv)\n",
    "    dataset = dataset.shuffle(buffer_size=BUFFER_SIZE)\n",
    "\n",
    "    dataset = dataset.batch(batch_size)\n",
    "    iterator = tf.data.Iterator.from_structure(dataset.output_types,\n",
    "                                               dataset.output_shapes)\n",
    "    next_batch = iterator.get_next()\n",
    "    init_op = iterator.make_initializer(dataset)\n",
    "    return init_op, next_batch\n",
    "\n"
   ]
  },
  {
   "cell_type": "code",
   "execution_count": null,
   "metadata": {},
   "outputs": [],
   "source": [
    "X = tf.placeholder(tf.float32, shape=[None, num_features])\n",
    "# For random forest, labels must be integers (the class id)\n",
    "Y = tf.placeholder(tf.int32, shape=[None])\n",
    "\n",
    "# Random Forest Parameters\n",
    "hparams = tensor_forest.ForestHParams(num_classes=num_classes,\n",
    "                                      num_features=num_features,\n",
    "                                      num_trees=num_trees,\n",
    "                                      max_nodes=max_nodes).fill()\n",
    "\n",
    "# Build the Random Forest\n",
    "forest_graph = tensor_forest.RandomForestGraphs(hparams)\n",
    "# Get training graph and loss\n",
    "train_op = forest_graph.training_graph(X, Y)\n",
    "loss_op = forest_graph.training_loss(X, Y)\n",
    "\n",
    "# Measure the accuracy\n",
    "infer_op, _, _ = forest_graph.inference_graph(X)\n",
    "correct_prediction = tf.equal(tf.argmax(infer_op, 1), tf.cast(Y, tf.int64))\n",
    "accuracy_op = tf.reduce_mean(tf.cast(correct_prediction, tf.float32))\n",
    "\n",
    "# Initialize the variables (i.e. assign their default value) and forest resources\n",
    "init_vars = tf.group(tf.global_variables_initializer(),\n",
    "                     resources.initialize_resources(resources.shared_resources()))\n",
    "\n",
    "# Start TensorFlow session\n",
    "sess = tf.Session()\n",
    "\n",
    "# Run the initializer\n",
    "sess.run(init_vars)"
   ]
  },
  {
   "cell_type": "code",
   "execution_count": null,
   "metadata": {},
   "outputs": [],
   "source": [
    "train_samples = pd.read_table('/Z/personal-folders/interns/saket/github/pywsi/data/patch_df/train_df_segmented.tsv')\n",
    "train_samples = train_samples.drop(columns='0')\n",
    "\n",
    "validation_samples = pd.read_table('/Z/personal-folders/interns/saket/github/pywsi/data/patch_df/validate_df_with_mask_segmented.tsv')\n",
    "validation_samples = validation_samples.drop(columns='0')\n",
    "\n",
    "\n",
    "train_samples_labels = pd.read_table(\n",
    "    '/Z/personal-folders/interns/saket/github/pywsi/data/patch_df/train_df_with_mask.tsv'\n",
    ")\n",
    "validation_samples_labels = pd.read_table(\n",
    "    '/Z/personal-folders/interns/saket/github/pywsi/data/patch_df/validate_df_with_mask.tsv'\n",
    ")\n",
    "train_samples = order(train_samples, ['is_tumor'])\n",
    "train_samples.is_tumor = train_samples.is_tumor.astype('int32')\n",
    "\n",
    "validation_samples_labels.is_tumor = validation_samples_labels.is_tumor.astype('int32')\n",
    "train_samples_labels.is_tumor = train_samples_labels.is_tumor.astype('int32')\n",
    "\n",
    "\n",
    "train_samples.to_csv('/Z/personal-folders/interns/saket/github/pywsi/data/patch_df/train_df_segmented_with_labels.tsv',\n",
    "                    index=False,\n",
    "                    header=True,\n",
    "                    sep='\\t')\n",
    "\n",
    "\n",
    "validation_samples = order(validation_samples, ['is_tumor'])\n",
    "validation_samples.is_tumor = validation_samples.is_tumor.astype('int32')\n",
    "validation_samples.to_csv('/Z/personal-folders/interns/saket/github/pywsi/data/patch_df/validate_df_segmented_with_labels.tsv',\n",
    "                    index=False,\n",
    "                    header=True,\n",
    "                    sep='\\t')\n",
    "\n",
    "validation_samples_labels_tumor = validation_samples_labels[validation_samples_labels.is_tumor==1].sample(frac=0.45, random_state=42)\n",
    "validation_samples_labels_normal = validation_samples_labels[validation_samples_labels.is_tumor==0].sample(frac=0.45, random_state=43)\n",
    "\n",
    "train_samples_labels_tumor = train_samples_labels[train_samples_labels.is_tumor==1].sample(frac=0.45, random_state=42)\n",
    "train_samples_labels_normal = train_samples_labels[train_samples_labels.is_tumor==0].sample(frac=0.45, random_state=43)\n",
    "\n",
    "\n",
    "validation_samples_labels = pd.concat([validation_samples_labels_tumor, validation_samples_labels_normal]).sample(frac=1, random_state=43)\n",
    "train_samples_labels = pd.concat([train_samples_labels_tumor, train_samples_labels_normal]).sample(frac=1, random_state=43)\n",
    "\n",
    "#validation_samples['img_path'] = ''\n",
    "#validation_samples['mask_path'] = ''\n",
    "\n",
    "\n",
    "\n",
    "# Sample only half the points\n",
    "train_samples_tumor = train_samples[train_samples.is_tumor==True].sample(frac=0.45, random_state=42)\n",
    "train_samples_normal = train_samples[train_samples.is_tumor==False].sample(frac=0.45, random_state=43)\n",
    "\n",
    "validation_samples_tumor = validation_samples[validation_samples.is_tumor==True].sample(frac=0.45, random_state=42)\n",
    "validation_samples_normal = validation_samples[validation_samples.is_tumor==False].sample(frac=0.45, random_state=43)\n",
    "\n",
    "\n",
    "train_samples = pd.concat([train_samples_tumor, train_samples_normal]).sample(frac=1, random_state=42)\n",
    "train_samples['img_path'] = train_samples_labels.img_path.tolist()\n",
    "train_samples['is_tissue'] = train_samples_labels.is_tissue.tolist()\n",
    "train_samples['uid'] = train_samples_labels.uid.tolist()\n",
    "train_samples['mask_path'] = train_samples_labels.mask_path.tolist()\n",
    "train_samples.loc[train_samples.img_path!=train_samples.img_path, 'img_path'] = 'xxx'\n",
    "train_samples.loc[train_samples.mask_path!=train_samples.mask_path, 'mask_path'] = 'yyy'\n",
    "train_samples = train_samples.dropna()\n",
    "train_samples = train_samples.reset_index(drop=True)\n",
    "\n",
    "validation_samples = pd.concat([validation_samples_tumor, validation_samples_normal]).sample(frac=1, random_state=43)\n",
    "validation_samples['img_path'] = validation_samples_labels.img_path.tolist()\n",
    "validation_samples['is_tissue'] = validation_samples_labels.is_tissue.tolist()\n",
    "validation_samples['uid'] = validation_samples_labels.uid.tolist()\n",
    "validation_samples['mask_path'] = validation_samples_labels.mask_path.tolist()\n",
    "validation_samples.loc[validation_samples.img_path!=validation_samples.img_path, 'img_path'] = 'xxx'\n",
    "validation_samples.loc[validation_samples.mask_path!=validation_samples.mask_path, 'mask_path'] = 'yyy'\n",
    "validation_samples = validation_samples.dropna()\n",
    "validation_samples = validation_samples.reset_index(drop=True)\n",
    "\n",
    "train_samples = train_samples.dropna()\n",
    "validation_samples = validation_samples.dropna()\n",
    "\n",
    "\n",
    "train_samples.to_csv('/Z/personal-folders/interns/saket/github/pywsi/data/patch_df/train_df_segmented_with_labels_subsampled_v1.tsv',\n",
    "                    index=False,\n",
    "                    header=True,\n",
    "                    sep='\\t')\n",
    "\n",
    "\n",
    "validation_samples.to_csv('/Z/personal-folders/interns/saket/github/pywsi/data/patch_df/validate_df_segmented_with_labels_subsampled_v1.tsv',\n",
    "                    index=False,\n",
    "                    header=True,\n",
    "                    sep='\\t')\n",
    "\n",
    "train_samples.head()"
   ]
  },
  {
   "cell_type": "code",
   "execution_count": null,
   "metadata": {},
   "outputs": [],
   "source": [
    "len(train_samples_labels.index)\n"
   ]
  },
  {
   "cell_type": "code",
   "execution_count": null,
   "metadata": {},
   "outputs": [],
   "source": [
    "train_samples = pd.read_table('/Z/personal-folders/interns/saket/github/pywsi/data/patch_df/train_df_segmented.tsv')\n",
    "\n",
    "len(train_samples.index)"
   ]
  },
  {
   "cell_type": "code",
   "execution_count": null,
   "metadata": {},
   "outputs": [],
   "source": [
    "print(train_samples.columns)"
   ]
  },
  {
   "cell_type": "code",
   "execution_count": null,
   "metadata": {},
   "outputs": [],
   "source": [
    "len(validation_samples.index)"
   ]
  },
  {
   "cell_type": "code",
   "execution_count": null,
   "metadata": {},
   "outputs": [],
   "source": [
    "training_init_op, training_next_batch =  input_fn(['/Z/personal-folders/interns/saket/github/pywsi/data/patch_df/train_df_segmented_with_labels_subsampled.tsv'],\n",
    "                                                  1024)\n",
    "\n"
   ]
  },
  {
   "cell_type": "code",
   "execution_count": null,
   "metadata": {},
   "outputs": [],
   "source": [
    "for epoch in range(num_steps):\n",
    "    sess.run(training_init_op)    \n",
    "    while True:\n",
    "        try:\n",
    "            training_features_batch, training_label_batch = sess.run(training_next_batch)\n",
    "        except tf.errors.OutOfRangeError:\n",
    "            break\n",
    "        _, l = sess.run([train_op, loss_op], \n",
    "                        feed_dict={X: training_features_batch,\n",
    "                                   Y: training_label_batch})\n",
    "    acc = sess.run(accuracy_op, \n",
    "                   feed_dict={X: training_features_batch, \n",
    "                              Y: training_label_batch})\n",
    "    print('Step %i, Loss: %f, Acc: %f' % (epoch, l, acc))"
   ]
  },
  {
   "cell_type": "code",
   "execution_count": null,
   "metadata": {},
   "outputs": [],
   "source": [
    "validation_df = pd.read_table('/Z/personal-folders/interns/saket/github/pywsi/data/patch_df/validate_df_segmented_with_labels_subsampled_v1.tsv').copy()\n",
    "validation_df = order(validation_df, ['is_tumor', 'is_tissue', 'uid', 'img_path', 'mask_path'])\n",
    "validation_df['pred_probability'] = None\n",
    "validation_df['pred_label'] = None\n",
    "\n",
    "for idx, row in validation_df.iterrows():    \n",
    "    validation_label_batch = row.values[0]\n",
    "    validation_features_batch = row.values[5:-2]    \n",
    "    prob = sess.run(infer_op, \n",
    "                     feed_dict={X: [validation_features_batch]})[0][1]\n",
    "    validation_df.loc[idx, 'pred_probability'] = prob\n",
    "    if prob>0.5:\n",
    "        validation_df.loc[idx, 'pred_label'] = 1\n",
    "    else:\n",
    "        validation_df.loc[idx, 'pred_label'] = 0\n",
    "    "
   ]
  },
  {
   "cell_type": "code",
   "execution_count": null,
   "metadata": {},
   "outputs": [],
   "source": [
    "validation_df.to_csv('/Z/personal-folders/interns/saket/github/pywsi/data/patch_df/validate_df_segmented_with_labels_subsampled_v1_predicted.tsv',\n",
    "                    sep='\\t',\n",
    "                    index=False,\n",
    "                    header=True)"
   ]
  },
  {
   "cell_type": "code",
   "execution_count": null,
   "metadata": {},
   "outputs": [],
   "source": [
    "#len(validation_acc)\n",
    "plt.hist(validation_acc)"
   ]
  },
  {
   "cell_type": "code",
   "execution_count": null,
   "metadata": {},
   "outputs": [],
   "source": []
  },
  {
   "cell_type": "code",
   "execution_count": null,
   "metadata": {},
   "outputs": [],
   "source": [
    "validation_prob = []\n",
    "validation_labels = []\n",
    "sess.run(validation_init_op)    \n",
    "while True:\n",
    "    try:\n",
    "        validation_features_batch,  validation_label_batch = sess.run(validation_next_batch)\n",
    "        validation_labels.append(validation_label_batch[0])\n",
    "    except tf.errors.OutOfRangeError:\n",
    "        break\n",
    "    acc = sess.run(infer_op, \n",
    "                   feed_dict={X: validation_features_batch})\n",
    "    validation_prob.append(acc[0][1])"
   ]
  },
  {
   "cell_type": "code",
   "execution_count": null,
   "metadata": {},
   "outputs": [],
   "source": [
    "joblib.dump(validation_prob, '/Z/personal-folders/interns/saket/github/pywsi/pickles/random_forest_valid_prob.joblib.pickle')\n",
    "joblib.dump(validation_labels, '/Z/personal-folders/interns/saket/github/pywsi/pickles/random_forest_valid_true.joblib.pickle')\n",
    "joblib.dump(validation_acc, '/Z/personal-folders/interns/saket/github/pywsi/pickles/random_forest_valid_acc.joblib.pickle')\n"
   ]
  },
  {
   "cell_type": "code",
   "execution_count": null,
   "metadata": {},
   "outputs": [],
   "source": [
    "average_precision = average_precision_score(validation_labels, validation_prob)\n",
    "\n",
    "precision, recall, _ = precision_recall_curve(validation_labels, validation_prob)\n"
   ]
  },
  {
   "cell_type": "code",
   "execution_count": null,
   "metadata": {},
   "outputs": [],
   "source": [
    "fig, ax = plt.subplots(figsize=(8, 8))\n",
    "\n",
    "ax.step(recall, precision, color='b', alpha=0.2,\n",
    "         where='post')\n",
    "ax.fill_between(recall, precision, step='post', alpha=0.2,\n",
    "                 color='b')\n",
    "\n",
    "ax.set_xlabel('Recall')\n",
    "ax.set_ylabel('Precision')\n",
    "ax.set_ylim([0.0, 1.05])\n",
    "ax.set_xlim([0.0, 1.0])\n",
    "ax.set_title('2-class Precision-Recall curve: AP={0:0.2f}'.format(\n",
    "          average_precision))\n",
    "fig.tight_layout()\n",
    "fig.savefig('presentation_images/random_forest_PRAUC.pdf')"
   ]
  },
  {
   "cell_type": "markdown",
   "metadata": {},
   "source": [
    "# Patch stuff"
   ]
  },
  {
   "cell_type": "code",
   "execution_count": null,
   "metadata": {},
   "outputs": [],
   "source": []
  },
  {
   "cell_type": "code",
   "execution_count": null,
   "metadata": {},
   "outputs": [],
   "source": [
    "wsi = '/Z/personal-folders/interns/saket/histopath_data/CAMELYON16/training/tumor/tumor_005.tif'\n",
    "json_filepath = '/Z/personal-folders/interns/saket/histopath_data/CAMELYON16/training/lesion_annotations_json/tumor_005.json'\n",
    "savedir = '/Z/personal-folders/interns/saket/github/pywsi/data/wsi_heatmap_rf/'\n",
    "os.makedirs(savedir, exist_ok=True)\n",
    "img_mask_dir = '/Z/personal-folders/interns/saket/github/pywsi/data/patch_img_and_mask/'\n",
    "basename = path_leaf(wsi).replace('.tif', '')\n",
    "#if basename!= 'tumor_110':\n",
    "#    continue\n",
    "patchsize = 256\n",
    "saveto = os.path.join(savedir, basename + '.joblib.pickle')\n",
    "saveto_original = os.path.join(savedir,\n",
    "                               basename + '.original.joblib.pickle')\n",
    "\n",
    "all_samples =  pd.read_table('/Z/personal-folders/interns/saket/github/pywsi/data/patch_df/tumor_005.tsv')\n",
    "if 'img_path' not in all_samples.columns:\n",
    "    assert img_mask_dir is not None, 'Need to provide directory if img_path column is missing'\n",
    "    tile_loc = all_samples.tile_loc.astype(str)\n",
    "    tile_loc = tile_loc.str.replace(' ', '').str.replace(\n",
    "        ')', '').str.replace('(', '')\n",
    "\n",
    "    all_samples[['row', 'col']] = tile_loc.str.split(',', expand=True)\n",
    "    all_samples['img_path'] = img_mask_dir + '/' + all_samples[[\n",
    "        'uid', 'row', 'col'\n",
    "    ]].apply(\n",
    "        lambda x: '_'.join(x.values.tolist()),\n",
    "        axis=1) + '.img.joblib.pickle'\n",
    "\n",
    "    all_samples['mask_path'] = img_mask_dir + '/' + all_samples[[\n",
    "        'uid', 'row', 'col'\n",
    "    ]].apply(\n",
    "        lambda x: '_'.join(x.values.tolist()),\n",
    "        axis=1) + '.mask.joblib.pickle'\n",
    "    \n",
    "if not os.path.isfile('/tmp/white.img.pickle'):\n",
    "    white_img = np.ones(\n",
    "        [patchsize, patchsize, 3], dtype=np.uint8) * 255\n",
    "    joblib.dump(white_img, '/tmp/white.img.pickle')\n",
    "\n",
    "# Definitely not a tumor and hence all black\n",
    "if not os.path.isfile('/tmp/white.mask.pickle'):\n",
    "    white_img_mask = np.ones(\n",
    "        [patchsize, patchsize], dtype=np.uint8) * 0\n",
    "    joblib.dump(white_img_mask, '/tmp/white.mask.pickle')\n",
    "\n",
    "all_samples.loc[all_samples.is_tissue == False,\n",
    "                'img_path'] = '/tmp/white.img.pickle'\n",
    "all_samples.loc[all_samples.is_tissue == False,\n",
    "                'mask_path'] = '/tmp/white.mask.pickle'\n",
    "for idx, row in all_samples.iterrows():\n",
    "    f = row['img_path']\n",
    "    if not os.path.isfile(f):\n",
    "        row['savedir'] = img_mask_dir\n",
    "        row['patch_size'] = patchsize\n",
    "        row['index'] = idx\n",
    "        save_images_and_mask(row)\n",
    "print(all_samples.head())"
   ]
  },
  {
   "cell_type": "code",
   "execution_count": null,
   "metadata": {},
   "outputs": [],
   "source": [
    "all_samples.to_csv('/Z/personal-folders/interns/saket/github/pywsi/data/patch_df/tumor_005_with_mask.tsv',\n",
    "                  index=False,\n",
    "                  header=True, sep='\\t')"
   ]
  },
  {
   "cell_type": "code",
   "execution_count": null,
   "metadata": {},
   "outputs": [],
   "source": [
    "testing_init_op, testing_next_batch =  input_fn(['/Z/personal-folders/interns/saket/github/pywsi/data/patch_df/tumor_005_with_mask_segmented.tsv'],\n",
    "                                                batch_size)\n"
   ]
  },
  {
   "cell_type": "code",
   "execution_count": null,
   "metadata": {},
   "outputs": [],
   "source": [
    "tumor005_segdf = pd.read_table('/Z/personal-folders/interns/saket/github/pywsi/data/patch_df/tumor_005_segmented.fixed.segmented.tsv')\n",
    "tumor005_segdf.head()"
   ]
  },
  {
   "cell_type": "code",
   "execution_count": null,
   "metadata": {},
   "outputs": [],
   "source": [
    "n_samples = len(tumor005_segdf.index)\n",
    "n_samples"
   ]
  },
  {
   "cell_type": "code",
   "execution_count": null,
   "metadata": {},
   "outputs": [],
   "source": [
    "slide = WSIReader(wsi, 40)\n",
    "n_cols = int(slide.dimensions[0] / patchsize)\n",
    "n_rows = int(slide.dimensions[1] / patchsize)\n",
    "assert n_rows * n_cols == n_samples, 'Some division error;'\n",
    "print('Total: {}'.format(n_samples))\n"
   ]
  },
  {
   "cell_type": "code",
   "execution_count": null,
   "metadata": {},
   "outputs": [],
   "source": [
    "\"\"\"\n",
    "def generate_rows(samples, num_samples, batch_size=32):\n",
    "    while True:  # Loop forever so the generator never terminates        \n",
    "        for offset in range(0, num_samples, batch_size):\n",
    "            batch_samples = samples.iloc[offset:offset + batch_size]\n",
    "            is_tissue = batch_samples.is_tissue.tolist()\n",
    "            is_tumor = batch_samples.is_tumor.astype('int32').tolist()\n",
    "            features = []            \n",
    "            batch_samples = batch_samples.copy().drop(columns=['is_tissue', 'is_tumor'])\n",
    "            for _, batch_sample in batch_samples.iterrows():\n",
    "                row = batch_samples.values                \n",
    "                features.append(row)                \n",
    "            X_train = np.array(features)\n",
    "            y_train = np.array(labels)\n",
    "            \n",
    "            yield X_train, y_train\n",
    "\"\"\"\n",
    "def generate_rows(samples, num_samples, batch_size=1):\n",
    "    while True:  # Loop forever so the generator never terminates        \n",
    "        for offset in range(0, num_samples, batch_size):\n",
    "            batch_samples = samples.iloc[offset:offset + batch_size]\n",
    "            #is_tissue = batch_samples.is_tissue.tolist()\n",
    "            #is_tumor = batch_samples.is_tumor.astype('int32').tolist()\n",
    "            features = []            \n",
    "            labels = []\n",
    "            #batch_samples = batch_samples.copy().drop(columns=['is_tissue', 'is_tumor'])\n",
    "            for _, batch_sample in batch_samples.iterrows():\n",
    "                row = batch_sample.values                \n",
    "                label = int(batch_sample.is_tumor)\n",
    "                if batch_sample.is_tissue:\n",
    "                    feature = pd.read_table(os.path.join('/Z/personal-folders/interns/saket/github/pywsi', batch_sample.segmented_tsv))\n",
    "                    feature = feature.drop(columns=['is_tumor', 'is_tissue'])\n",
    "                    assert len(feature.columns) == 46\n",
    "                    features.append(feature.loc[0].values)  \n",
    "                else:\n",
    "                    values = [0.0]*46\n",
    "                    features.append(values)  \n",
    "                labels.append(label)\n",
    "            X_train = np.array(features, dtype=np.float32)\n",
    "            y_train = np.array(labels)\n",
    "            #print(X_train)\n",
    "            #print(y_train)\n",
    "            yield X_train,  y_train"
   ]
  },
  {
   "cell_type": "code",
   "execution_count": null,
   "metadata": {},
   "outputs": [],
   "source": [
    "predicted_thumbnails = list()\n",
    "batch_size = 1\n",
    "\"\"\"\n",
    "sess.run(testing_init_op)    \n",
    "while True:\n",
    "    try:\n",
    "        testing_features_batch,  testing_label_batch = sess.run(testing_next_batch)\n",
    "    except tf.errors.OutOfRangeError:\n",
    "        break\n",
    "    preds = sess.run(infer_op, \n",
    "                   feed_dict={X: testing_features_batch})\n",
    "    predicted_thumbnails.append(preds)\n",
    "\"\"\" \n",
    "true_labels = []\n",
    "for offset in tqdm_notebook(list(range(0, n_samples, batch_size))):\n",
    "    batch_samples = tumor005_segdf.iloc[offset:offset + batch_size]\n",
    "    X_test, true_label = next(\n",
    "        generate_rows(batch_samples, batch_size))\n",
    "    true_labels.append(true_label)\n",
    "    if batch_samples.is_tissue.nunique(\n",
    "    ) == 1 and batch_samples.iloc[0].is_tissue == False:\n",
    "        # all patches in this row do not have tissue, skip them all\n",
    "        #predicted_thumbnails.append(\n",
    "        #    np.zeros(batch_size, dtype=np.float32))\n",
    "        predicted_thumbnails.append(0)\n",
    "    else:\n",
    "        preds = sess.run(infer_op, \n",
    "                          feed_dict={X: X_test})\n",
    "        predicted_thumbnails.append(preds[0][1])\n",
    "predicted_thumbnails = np.asarray(predicted_thumbnails)"
   ]
  },
  {
   "cell_type": "code",
   "execution_count": null,
   "metadata": {},
   "outputs": [],
   "source": [
    "savedir = '/Z/personal-folders/interns/saket/github/pywsi/data/wsi_heatmap_rf'\n",
    "saveto = os.path.join(savedir, 'tumor_005.job.pickle')\n",
    "os.makedirs(savedir, exist_ok=True)\n",
    "output_thumbnail_preds = predicted_thumbnails.reshape(\n",
    "                n_rows, n_cols)\n",
    "\n",
    "joblib.dump(output_thumbnail_preds, saveto)"
   ]
  },
  {
   "cell_type": "code",
   "execution_count": null,
   "metadata": {},
   "outputs": [],
   "source": [
    "fig, ax = plt.subplots()\n",
    "sns.set_style('white')\n",
    "x = ax.imshow(output_thumbnail_preds, cmap='coolwarm')\n",
    "plt.colorbar(x)\n",
    "fig.tight_layout()\n"
   ]
  },
  {
   "cell_type": "code",
   "execution_count": null,
   "metadata": {},
   "outputs": [],
   "source": [
    "fig, ax = plt.subplots()\n",
    "sns.set_style('white')\n",
    "x = ax.imshow(output_thumbnail_preds > 0.5, cmap='gray')\n",
    "#plt.colorbar(x)\n",
    "fig.tight_layout()\n"
   ]
  },
  {
   "cell_type": "code",
   "execution_count": null,
   "metadata": {},
   "outputs": [],
   "source": [
    "saver = tf.train.Saver()\n"
   ]
  },
  {
   "cell_type": "code",
   "execution_count": null,
   "metadata": {},
   "outputs": [],
   "source": [
    "saver.save(sess, '/Z/personal-folders/interns/saket/github/pywsi/models/random_forest_all_train.tf.model')\n"
   ]
  },
  {
   "cell_type": "code",
   "execution_count": null,
   "metadata": {},
   "outputs": [],
   "source": [
    "df = pd.read_table('../data/patch_df/tumor_001_with_mask_segmented.segmented.tsv')\n",
    "df1 = df[df.segmented_tsv==df.segmented_tsv]"
   ]
  },
  {
   "cell_type": "code",
   "execution_count": null,
   "metadata": {},
   "outputs": [],
   "source": [
    "df1.head()"
   ]
  },
  {
   "cell_type": "code",
   "execution_count": null,
   "metadata": {},
   "outputs": [],
   "source": [
    "x = pd.read_table(df1.loc[693, 'segmented_tsv'])\n",
    "x"
   ]
  },
  {
   "cell_type": "code",
   "execution_count": null,
   "metadata": {},
   "outputs": [],
   "source": [
    "x = pd.read_table('/Z/personal-folders/interns/saket/github/pywsi/data/patch_segmented_tumor001/tumor_001_75_63.segmented_summary.tsv')\n",
    "x"
   ]
  },
  {
   "cell_type": "code",
   "execution_count": null,
   "metadata": {},
   "outputs": [],
   "source": [
    "train_samples"
   ]
  },
  {
   "cell_type": "code",
   "execution_count": 4,
   "metadata": {},
   "outputs": [],
   "source": [
    "from sklearn.ensemble import RandomForestClassifier\n",
    "from sklearn.model_selection import cross_val_score\n",
    "from sklearn.datasets import make_blobs\n",
    "from sklearn.ensemble import RandomForestClassifier\n",
    "from sklearn.ensemble import ExtraTreesClassifier\n",
    "from sklearn.tree import DecisionTreeClassifier\n",
    "from sklearn.metrics import accuracy_score\n",
    "from sklearn.metrics import confusion_matrix"
   ]
  },
  {
   "cell_type": "code",
   "execution_count": 6,
   "metadata": {},
   "outputs": [],
   "source": [
    "train_samples = pd.read_table('../data/df/train_df_with_mask_segmented_allfeatures_oneshot.tsv')\n",
    "validation_samples = pd.read_table('../data/df/validate_df_with_mask_segmented_allfeatures.tsv')\n",
    "\n",
    "clf = RandomForestClassifier(n_jobs=-1, random_state=0)\n",
    "features = train_samples.columns"
   ]
  },
  {
   "cell_type": "code",
   "execution_count": 8,
   "metadata": {},
   "outputs": [
    {
     "data": {
      "text/html": [
       "<div>\n",
       "<style scoped>\n",
       "    .dataframe tbody tr th:only-of-type {\n",
       "        vertical-align: middle;\n",
       "    }\n",
       "\n",
       "    .dataframe tbody tr th {\n",
       "        vertical-align: top;\n",
       "    }\n",
       "\n",
       "    .dataframe thead th {\n",
       "        text-align: right;\n",
       "    }\n",
       "</style>\n",
       "<table border=\"1\" class=\"dataframe\">\n",
       "  <thead>\n",
       "    <tr style=\"text-align: right;\">\n",
       "      <th></th>\n",
       "      <th>is_tissue</th>\n",
       "      <th>is_tumor</th>\n",
       "      <th>area</th>\n",
       "      <th>bbox_area</th>\n",
       "      <th>compactness</th>\n",
       "      <th>convex_area</th>\n",
       "      <th>eccentricity</th>\n",
       "      <th>equivalent_diameter</th>\n",
       "      <th>extent</th>\n",
       "      <th>fractal_dimension</th>\n",
       "      <th>...</th>\n",
       "      <th>moments_hu_6</th>\n",
       "      <th>moments_hu_7</th>\n",
       "      <th>nuclei</th>\n",
       "      <th>nuclei_intensity_over_entire_image</th>\n",
       "      <th>orientation</th>\n",
       "      <th>perimeter</th>\n",
       "      <th>solidity</th>\n",
       "      <th>texture</th>\n",
       "      <th>total_nuclei_area</th>\n",
       "      <th>total_nuclei_area_ratio</th>\n",
       "    </tr>\n",
       "  </thead>\n",
       "  <tbody>\n",
       "    <tr>\n",
       "      <th>0</th>\n",
       "      <td>True</td>\n",
       "      <td>False</td>\n",
       "      <td>166.339623</td>\n",
       "      <td>414.122642</td>\n",
       "      <td>51.948410</td>\n",
       "      <td>288.943396</td>\n",
       "      <td>0.713068</td>\n",
       "      <td>14.060361</td>\n",
       "      <td>0.402549</td>\n",
       "      <td>1.457431</td>\n",
       "      <td>...</td>\n",
       "      <td>0.000196</td>\n",
       "      <td>-1.386139e-10</td>\n",
       "      <td>106.0</td>\n",
       "      <td>0.990750</td>\n",
       "      <td>0.019999</td>\n",
       "      <td>87.770806</td>\n",
       "      <td>0.567211</td>\n",
       "      <td>0.207878</td>\n",
       "      <td>17632.0</td>\n",
       "      <td>0.269043</td>\n",
       "    </tr>\n",
       "    <tr>\n",
       "      <th>1</th>\n",
       "      <td>True</td>\n",
       "      <td>True</td>\n",
       "      <td>304.702128</td>\n",
       "      <td>547.042553</td>\n",
       "      <td>23.825011</td>\n",
       "      <td>379.085106</td>\n",
       "      <td>0.733143</td>\n",
       "      <td>18.582475</td>\n",
       "      <td>0.550806</td>\n",
       "      <td>0.712557</td>\n",
       "      <td>...</td>\n",
       "      <td>0.000011</td>\n",
       "      <td>-1.353062e-06</td>\n",
       "      <td>47.0</td>\n",
       "      <td>0.543489</td>\n",
       "      <td>0.056595</td>\n",
       "      <td>79.204394</td>\n",
       "      <td>0.789877</td>\n",
       "      <td>0.018378</td>\n",
       "      <td>14321.0</td>\n",
       "      <td>0.218521</td>\n",
       "    </tr>\n",
       "    <tr>\n",
       "      <th>2</th>\n",
       "      <td>True</td>\n",
       "      <td>False</td>\n",
       "      <td>240.280000</td>\n",
       "      <td>420.680000</td>\n",
       "      <td>24.452472</td>\n",
       "      <td>293.460000</td>\n",
       "      <td>0.721369</td>\n",
       "      <td>16.971694</td>\n",
       "      <td>0.564879</td>\n",
       "      <td>0.775155</td>\n",
       "      <td>...</td>\n",
       "      <td>0.000104</td>\n",
       "      <td>1.409206e-05</td>\n",
       "      <td>50.0</td>\n",
       "      <td>0.481345</td>\n",
       "      <td>0.480010</td>\n",
       "      <td>71.009877</td>\n",
       "      <td>0.797554</td>\n",
       "      <td>0.022060</td>\n",
       "      <td>12014.0</td>\n",
       "      <td>0.183319</td>\n",
       "    </tr>\n",
       "    <tr>\n",
       "      <th>3</th>\n",
       "      <td>True</td>\n",
       "      <td>False</td>\n",
       "      <td>224.315789</td>\n",
       "      <td>357.684211</td>\n",
       "      <td>20.299313</td>\n",
       "      <td>261.807018</td>\n",
       "      <td>0.668369</td>\n",
       "      <td>16.475131</td>\n",
       "      <td>0.633268</td>\n",
       "      <td>0.853409</td>\n",
       "      <td>...</td>\n",
       "      <td>0.000081</td>\n",
       "      <td>-8.021624e-07</td>\n",
       "      <td>57.0</td>\n",
       "      <td>0.441388</td>\n",
       "      <td>0.182504</td>\n",
       "      <td>63.711237</td>\n",
       "      <td>0.849631</td>\n",
       "      <td>0.016879</td>\n",
       "      <td>12786.0</td>\n",
       "      <td>0.195099</td>\n",
       "    </tr>\n",
       "    <tr>\n",
       "      <th>4</th>\n",
       "      <td>True</td>\n",
       "      <td>True</td>\n",
       "      <td>190.268657</td>\n",
       "      <td>403.328358</td>\n",
       "      <td>29.988357</td>\n",
       "      <td>263.283582</td>\n",
       "      <td>0.765381</td>\n",
       "      <td>14.880749</td>\n",
       "      <td>0.473890</td>\n",
       "      <td>0.806010</td>\n",
       "      <td>...</td>\n",
       "      <td>0.000184</td>\n",
       "      <td>-3.606573e-06</td>\n",
       "      <td>67.0</td>\n",
       "      <td>0.644401</td>\n",
       "      <td>-0.252511</td>\n",
       "      <td>71.481439</td>\n",
       "      <td>0.719982</td>\n",
       "      <td>0.038750</td>\n",
       "      <td>12748.0</td>\n",
       "      <td>0.194519</td>\n",
       "    </tr>\n",
       "  </tbody>\n",
       "</table>\n",
       "<p>5 rows × 48 columns</p>\n",
       "</div>"
      ],
      "text/plain": [
       "   is_tissue  is_tumor        area   bbox_area  compactness  convex_area  \\\n",
       "0       True     False  166.339623  414.122642    51.948410   288.943396   \n",
       "1       True      True  304.702128  547.042553    23.825011   379.085106   \n",
       "2       True     False  240.280000  420.680000    24.452472   293.460000   \n",
       "3       True     False  224.315789  357.684211    20.299313   261.807018   \n",
       "4       True      True  190.268657  403.328358    29.988357   263.283582   \n",
       "\n",
       "   eccentricity  equivalent_diameter    extent  fractal_dimension  \\\n",
       "0      0.713068            14.060361  0.402549           1.457431   \n",
       "1      0.733143            18.582475  0.550806           0.712557   \n",
       "2      0.721369            16.971694  0.564879           0.775155   \n",
       "3      0.668369            16.475131  0.633268           0.853409   \n",
       "4      0.765381            14.880749  0.473890           0.806010   \n",
       "\n",
       "            ...             moments_hu_6  moments_hu_7  nuclei  \\\n",
       "0           ...                 0.000196 -1.386139e-10   106.0   \n",
       "1           ...                 0.000011 -1.353062e-06    47.0   \n",
       "2           ...                 0.000104  1.409206e-05    50.0   \n",
       "3           ...                 0.000081 -8.021624e-07    57.0   \n",
       "4           ...                 0.000184 -3.606573e-06    67.0   \n",
       "\n",
       "   nuclei_intensity_over_entire_image  orientation  perimeter  solidity  \\\n",
       "0                            0.990750     0.019999  87.770806  0.567211   \n",
       "1                            0.543489     0.056595  79.204394  0.789877   \n",
       "2                            0.481345     0.480010  71.009877  0.797554   \n",
       "3                            0.441388     0.182504  63.711237  0.849631   \n",
       "4                            0.644401    -0.252511  71.481439  0.719982   \n",
       "\n",
       "    texture  total_nuclei_area  total_nuclei_area_ratio  \n",
       "0  0.207878            17632.0                 0.269043  \n",
       "1  0.018378            14321.0                 0.218521  \n",
       "2  0.022060            12014.0                 0.183319  \n",
       "3  0.016879            12786.0                 0.195099  \n",
       "4  0.038750            12748.0                 0.194519  \n",
       "\n",
       "[5 rows x 48 columns]"
      ]
     },
     "execution_count": 8,
     "metadata": {},
     "output_type": "execute_result"
    }
   ],
   "source": [
    "train_samples.head()"
   ]
  },
  {
   "cell_type": "code",
   "execution_count": 11,
   "metadata": {},
   "outputs": [
    {
     "data": {
      "text/plain": [
       "(532638, 48)"
      ]
     },
     "execution_count": 11,
     "metadata": {},
     "output_type": "execute_result"
    }
   ],
   "source": [
    "train_samples.shape"
   ]
  },
  {
   "cell_type": "code",
   "execution_count": 16,
   "metadata": {},
   "outputs": [
    {
     "data": {
      "text/plain": [
       "(57064, 48)"
      ]
     },
     "execution_count": 16,
     "metadata": {},
     "output_type": "execute_result"
    }
   ],
   "source": [
    "train_samples.is_tumor = train_samples.is_tumor.astype(int)\n",
    "validation_samples.is_tumor = validation_samples.is_tumor.astype(int)\n",
    "validation_samples.shape"
   ]
  },
  {
   "cell_type": "code",
   "execution_count": 17,
   "metadata": {},
   "outputs": [
    {
     "data": {
      "text/plain": [
       "(57057, 48)"
      ]
     },
     "execution_count": 17,
     "metadata": {},
     "output_type": "execute_result"
    }
   ],
   "source": [
    "validation_samples = validation_samples.dropna()\n",
    "validation_samples.shape"
   ]
  },
  {
   "cell_type": "code",
   "execution_count": 12,
   "metadata": {},
   "outputs": [
    {
     "data": {
      "text/plain": [
       "(532276, 48)"
      ]
     },
     "execution_count": 12,
     "metadata": {},
     "output_type": "execute_result"
    }
   ],
   "source": [
    "train_samples = train_samples.dropna()\n",
    "train_samples.shape"
   ]
  },
  {
   "cell_type": "code",
   "execution_count": 13,
   "metadata": {},
   "outputs": [
    {
     "data": {
      "text/plain": [
       "RandomForestClassifier(bootstrap=True, class_weight=None, criterion='gini',\n",
       "            max_depth=None, max_features='auto', max_leaf_nodes=None,\n",
       "            min_impurity_decrease=0.0, min_impurity_split=None,\n",
       "            min_samples_leaf=1, min_samples_split=2,\n",
       "            min_weight_fraction_leaf=0.0, n_estimators=10, n_jobs=-1,\n",
       "            oob_score=False, random_state=0, verbose=0, warm_start=False)"
      ]
     },
     "execution_count": 13,
     "metadata": {},
     "output_type": "execute_result"
    }
   ],
   "source": [
    "clf.fit(train_samples.loc[:, features[2:]], train_samples.is_tumor)"
   ]
  },
  {
   "cell_type": "code",
   "execution_count": 18,
   "metadata": {},
   "outputs": [],
   "source": [
    "predictions = clf.predict(validation_samples.loc[:, features[2:]])"
   ]
  },
  {
   "cell_type": "code",
   "execution_count": 20,
   "metadata": {},
   "outputs": [
    {
     "name": "stdout",
     "output_type": "stream",
     "text": [
      "Train Accuracy :: 0.9890883676889434 \n",
      "Test Accuracy :: 0.7838652575494681 \n"
     ]
    }
   ],
   "source": [
    "print (\"Train Accuracy :: {} \".format(accuracy_score(train_samples.is_tumor, \n",
    "                                                     clf.predict(train_samples.loc[:, features[2:]]))))\n",
    "\n",
    "print (\"Test Accuracy :: {} \".format(accuracy_score(validation_samples.is_tumor, \n",
    "                                                     predictions)))\n"
   ]
  },
  {
   "cell_type": "code",
   "execution_count": 21,
   "metadata": {},
   "outputs": [
    {
     "data": {
      "text/plain": [
       "array([0.01267684, 0.01922849, 0.06113079, 0.01317682, 0.05877264,\n",
       "       0.01638002, 0.03115893, 0.01100938, 0.0480596 , 0.01124555,\n",
       "       0.019953  , 0.02345533, 0.03041195, 0.03368073, 0.01199984,\n",
       "       0.00962232, 0.01007768, 0.02371853, 0.00988576, 0.01070395,\n",
       "       0.00976643, 0.00994773, 0.00927557, 0.        , 0.01838973,\n",
       "       0.01058254, 0.        , 0.01040017, 0.01013284, 0.00971532,\n",
       "       0.01578032, 0.07028801, 0.022829  , 0.01147409, 0.01123719,\n",
       "       0.00713121, 0.00975413, 0.00657034, 0.03251614, 0.05708517,\n",
       "       0.01216159, 0.01414589, 0.10094376, 0.03260644, 0.02072795,\n",
       "       0.02019026])"
      ]
     },
     "execution_count": 21,
     "metadata": {},
     "output_type": "execute_result"
    }
   ],
   "source": [
    "importances = clf.feature_importances_\n",
    "indices = np.argsort(importances)[::-1]\n",
    "\n",
    "importances"
   ]
  },
  {
   "cell_type": "code",
   "execution_count": 24,
   "metadata": {},
   "outputs": [
    {
     "name": "stdout",
     "output_type": "stream",
     "text": [
      "1. feature perimeter (0.100944)\n",
      "2. feature moments_central_9 (0.070288)\n",
      "3. feature bbox_area (0.061131)\n",
      "4. feature convex_area (0.058773)\n",
      "5. feature nuclei (0.057085)\n",
      "6. feature fractal_dimension (0.048060)\n",
      "7. feature mean_intensity (0.033681)\n",
      "8. feature solidity (0.032606)\n",
      "9. feature moments_hu_7 (0.032516)\n",
      "10. feature equivalent_diameter (0.031159)\n",
      "11. feature max_intensity (0.030412)\n",
      "12. feature moments_central_10 (0.023719)\n",
      "13. feature major_axis_length (0.023455)\n",
      "14. feature moments_hu_1 (0.022829)\n",
      "15. feature texture (0.020728)\n",
      "16. feature total_nuclei_area (0.020190)\n",
      "17. feature inertia_tensor_eigvals_2 (0.019953)\n",
      "18. feature area (0.019228)\n",
      "19. feature moments_central_2 (0.018390)\n",
      "20. feature eccentricity (0.016380)\n",
      "21. feature moments_central_8 (0.015780)\n",
      "22. feature orientation (0.014146)\n",
      "23. feature compactness (0.013177)\n",
      "24. feature is_tumor (0.012677)\n",
      "25. feature nuclei_intensity_over_entire_image (0.012162)\n",
      "26. feature mean_intensity_entire_image (0.012000)\n",
      "27. feature moments_hu_2 (0.011474)\n",
      "28. feature inertia_tensor_eigvals_1 (0.011246)\n",
      "29. feature moments_hu_3 (0.011237)\n",
      "30. feature extent (0.011009)\n",
      "31. feature moments_central_12 (0.010704)\n",
      "32. feature moments_central_3 (0.010583)\n",
      "33. feature moments_central_5 (0.010400)\n",
      "34. feature moments_central_6 (0.010133)\n",
      "35. feature moments_central_1 (0.010078)\n",
      "36. feature moments_central_14 (0.009948)\n",
      "37. feature moments_central_11 (0.009886)\n",
      "38. feature moments_central_13 (0.009766)\n",
      "39. feature moments_hu_5 (0.009754)\n",
      "40. feature moments_central_7 (0.009715)\n",
      "41. feature minor_axis_length (0.009622)\n",
      "42. feature moments_central_15 (0.009276)\n",
      "43. feature moments_hu_4 (0.007131)\n",
      "44. feature moments_hu_6 (0.006570)\n",
      "45. feature moments_central_4 (0.000000)\n",
      "46. feature moments_central_16 (0.000000)\n"
     ]
    }
   ],
   "source": [
    "for f in range(train_samples.shape[1]-2):\n",
    "    print(\"%d. feature %s (%f)\" % (f + 1, train_samples.columns[indices[f]+1],\n",
    "                                   importances[indices[f]]))"
   ]
  },
  {
   "cell_type": "code",
   "execution_count": 25,
   "metadata": {},
   "outputs": [],
   "source": [
    "std = np.std([tree.feature_importances_ for tree in clf.estimators_],\n",
    "             axis=0)"
   ]
  },
  {
   "cell_type": "code",
   "execution_count": 26,
   "metadata": {},
   "outputs": [
    {
     "data": {
      "image/png": "[encoded data removed]",
      "text/plain": [
       "<Figure size 720x720 with 1 Axes>"
      ]
     },
     "metadata": {},
     "output_type": "display_data"
    }
   ],
   "source": [
    "sns.set_context('talk', font_scale=2)\n",
    "sns.set_style('white')\n",
    "fig, ax = plt.subplots(figsize=(10, 10))\n",
    "ax.set_title('Feature importances')\n",
    "ax.barh(list(features[1:][indices])[:15],list(importances[indices])[:15], \n",
    "       yerr=list(std[indices])[:15], align=\"center\")\n",
    "#ax.set_xticks(range(X.shape[1]), indices)\n",
    "\n",
    "fig.tight_layout()\n",
    "fig.savefig('presentation_images/rf_feature_importances.pdf')"
   ]
  },
  {
   "cell_type": "code",
   "execution_count": null,
   "metadata": {},
   "outputs": [],
   "source": []
  }
 ],
 "metadata": {
  "kernelspec": {
   "display_name": "Python 3",
   "language": "python",
   "name": "python3"
  },
  "language_info": {
   "codemirror_mode": {
    "name": "ipython",
    "version": 3
   },
   "file_extension": ".py",
   "mimetype": "text/x-python",
   "name": "python",
   "nbconvert_exporter": "python",
   "pygments_lexer": "ipython3",
   "version": "3.5.5"
  }
 },
 "nbformat": 4,
 "nbformat_minor": 2
}
