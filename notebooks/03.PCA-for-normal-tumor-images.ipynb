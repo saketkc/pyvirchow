{
 "cells": [
  {
   "cell_type": "code",
   "execution_count": 1,
   "metadata": {},
   "outputs": [
    {
     "name": "stdout",
     "output_type": "stream",
     "text": [
      "Populating the interactive namespace from numpy and matplotlib\n"
     ]
    }
   ],
   "source": [
    "%pylab inline\n",
    "import glob\n",
    "\n",
    "from sklearn.decomposition import PCA, FastICA\n",
    "from skimage.color import rgb2gray\n",
    "from sklearn.discriminant_analysis import LinearDiscriminantAnalysis\n"
   ]
  },
  {
   "cell_type": "code",
   "execution_count": null,
   "metadata": {},
   "outputs": [],
   "source": [
    "tumor_patches_dir = '../../../histopath_data/CAMELYON16/training/extracted_tumor_patches/level_5/'\n",
    "normal_patches_dir = '../../../histopath_data/CAMELYON16/training/extracted_normal_patches/level_5/'\n",
    "\n",
    "master_matrix = []\n",
    "label_matrix = []\n",
    "y = []\n",
    "for f in glob.glob('{}*.png'.format(tumor_patches_dir)):\n",
    "    master_matrix.append(rgb2gray(plt.imread(f)))\n",
    "    label_matrix.append('tumor')\n",
    "    y.append(1)\n",
    "    \n",
    "for f in glob.glob('{}*.png'.format(normal_patches_dir)):\n",
    "    master_matrix.append(rgb2gray(plt.imread(f)))\n",
    "    label_matrix.append('normal')\n",
    "    y.append(0)\n",
    "    \n",
    "master_matrix = np.array(master_matrix)\n",
    "y=np.array(y)"
   ]
  },
  {
   "cell_type": "code",
   "execution_count": null,
   "metadata": {},
   "outputs": [],
   "source": [
    "shape = master_matrix.shape\n",
    "master_matrix_reshaped = master_matrix.reshape(shape[0], shape[1]*shape[2])"
   ]
  },
  {
   "cell_type": "code",
   "execution_count": null,
   "metadata": {},
   "outputs": [],
   "source": [
    "master_matrix_reshaped.shape"
   ]
  },
  {
   "cell_type": "code",
   "execution_count": null,
   "metadata": {},
   "outputs": [],
   "source": [
    "pca = PCA(n_components=2)\n",
    "X_r = pca.fit(master_matrix_reshaped).transform(master_matrix_reshaped)\n",
    "\n",
    "\n",
    "# Percentage of variance explained for each components\n",
    "print('explained variance ratio (first two components): %s'\n",
    "      % str(pca.explained_variance_ratio_))\n",
    "\n",
    "plt.figure()\n",
    "colors = ['navy', 'darkorange']\n",
    "lw = 1\n",
    "label_matrix = ['tumor', 'normal']\n",
    "for color, i, target_name in zip(colors, [0, 1], label_matrix):\n",
    "    plt.scatter(X_r[y == i, 0], X_r[y == i, 1], color=color, alpha=.8, lw=lw,\n",
    "                label=target_name)\n",
    "plt.legend(loc='best', shadow=False, scatterpoints=1)\n",
    "plt.title('PCA ')"
   ]
  },
  {
   "cell_type": "markdown",
   "metadata": {},
   "source": [
    "# LDA"
   ]
  },
  {
   "cell_type": "code",
   "execution_count": null,
   "metadata": {},
   "outputs": [],
   "source": [
    "\n",
    "lda = LinearDiscriminantAnalysis(n_components=2)\n",
    "X_r2 = lda.fit(master_matrix_reshaped, y).transform(master_matrix_reshaped)\n",
    "colors = ['navy', 'darkorange']\n",
    "\n",
    "for color, i, target_name in zip(colors, [0, 1], label_matrix):\n",
    "    plt.scatter(X_r2[y == i, 0], X_r2[y == i, 0], color=color, alpha=.8, lw=lw,\n",
    "                label=target_name)\n",
    "plt.legend(loc='best', shadow=False, scatterpoints=1)\n",
    "plt.title('LDA ')"
   ]
  },
  {
   "cell_type": "code",
   "execution_count": null,
   "metadata": {},
   "outputs": [],
   "source": [
    "ica = FastICA(n_components=2)\n",
    "X_r = ica.fit(master_matrix_reshaped).transform(master_matrix_reshaped)\n",
    "\n",
    "\n",
    "\n",
    "plt.figure()\n",
    "colors = ['navy', 'darkorange']\n",
    "lw = 1\n",
    "label_matrix = ['tumor', 'normal']\n",
    "for color, i, target_name in zip(colors, [0, 1], label_matrix):\n",
    "    plt.scatter(X_r[y == i, 0], X_r[y == i, 1], color=color, alpha=.8, lw=lw,\n",
    "                label=target_name)\n",
    "plt.legend(loc='best', shadow=False, scatterpoints=1)\n",
    "plt.title('ICA ')"
   ]
  },
  {
   "cell_type": "code",
   "execution_count": null,
   "metadata": {},
   "outputs": [],
   "source": []
  }
 ],
 "metadata": {
  "kernelspec": {
   "display_name": "Python [default]",
   "language": "python",
   "name": "python3"
  },
  "language_info": {
   "codemirror_mode": {
    "name": "ipython",
    "version": 3
   },
   "file_extension": ".py",
   "mimetype": "text/x-python",
   "name": "python",
   "nbconvert_exporter": "python",
   "pygments_lexer": "ipython3",
   "version": "3.5.5"
  }
 },
 "nbformat": 4,
 "nbformat_minor": 2
}
