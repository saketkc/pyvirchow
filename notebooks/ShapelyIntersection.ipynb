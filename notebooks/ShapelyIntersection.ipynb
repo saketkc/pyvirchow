{
 "cells": [
  {
   "cell_type": "code",
   "execution_count": 18,
   "metadata": {},
   "outputs": [
    {
     "name": "stdout",
     "output_type": "stream",
     "text": [
      "Populating the interactive namespace from numpy and matplotlib\n"
     ]
    },
    {
     "name": "stderr",
     "output_type": "stream",
     "text": [
      "/home/saket/anaconda3/lib/python3.5/site-packages/IPython/core/magics/pylab.py:160: UserWarning: pylab import has clobbered these variables: ['poly']\n",
      "`%matplotlib` prevents importing * from pylab and numpy\n",
      "  \"\\n`%matplotlib` prevents importing * from pylab and numpy\"\n"
     ]
    }
   ],
   "source": [
    "%pylab inline\n",
    "from shapely.geometry import Polygon as shapelyPolygon\n",
    "from shapely.geometry import box as shapelyRectangle\n",
    "\n",
    "from pywsi.io.operations import get_annotation_bounding_boxes, get_annotation_polygons, \\\n",
    "    poly2mask, translate_and_scale_polygon, read_as_rgb\n",
    "\n",
    "from pywsi.morphology.mask import mpl_polygon_to_shapely_scaled, get_common_interior_polygons\n",
    "from descartes.patch import PolygonPatch\n",
    "from matplotlib.collections import PatchCollection\n"
   ]
  },
  {
   "cell_type": "code",
   "execution_count": 2,
   "metadata": {},
   "outputs": [],
   "source": [
    "rect = shapelyRectangle(0.0, 0.0, 256.0, 256.0)"
   ]
  },
  {
   "cell_type": "code",
   "execution_count": 33,
   "metadata": {},
   "outputs": [
    {
     "data": {
      "image/svg+xml": [
       "<svg xmlns=\"http://www.w3.org/2000/svg\" xmlns:xlink=\"http://www.w3.org/1999/xlink\" width=\"100.0\" height=\"100.0\" viewBox=\"234.19085714285714 205.248 23.761142857142858 52.70400000000001\" preserveAspectRatio=\"xMinYMin meet\"><g transform=\"matrix(1,0,0,-1,0,463.2)\"><path fill-rule=\"evenodd\" fill=\"#66cc99\" stroke=\"#555555\" stroke-width=\"1.0540800000000001\" opacity=\"0.6\" d=\"M 236.14285714285714,256.0 L 256.0,256.0 L 256.0,207.2 L 240.0,220.0 L 236.14285714285714,256.0 z\" /></g></svg>"
      ],
      "text/plain": [
       "<shapely.geometry.polygon.Polygon at 0x7f688d7a95f8>"
      ]
     },
     "execution_count": 33,
     "metadata": {},
     "output_type": "execute_result"
    }
   ],
   "source": [
    "poly = shapelyPolygon([(225, 360), (240, 220), (290, 180), (350, 300)])\n",
    "rect.intersection(poly)"
   ]
  },
  {
   "cell_type": "code",
   "execution_count": 10,
   "metadata": {},
   "outputs": [
    {
     "data": {
      "image/png": "[encoded data removed]",
      "text/plain": [
       "<Figure size 432x288 with 1 Axes>"
      ]
     },
     "metadata": {},
     "output_type": "display_data"
    }
   ],
   "source": [
    "def plot_coords(ax, ob):\n",
    "    x, y = ob.xy\n",
    "    ax.plot(x, y, 'o', color='#999999', zorder=1)\n",
    "    \n",
    "fig = plt.figure()\n",
    "\n",
    "# 1: valid polygon\n",
    "ax = fig.add_subplot(121)\n",
    "\n",
    "ext = [(0, 0), (0, 2), (2, 2), (2, 0), (0, 0)]\n",
    "int = [(1, 0), (0.5, 0.5), (1, 1), (1.5, 0.5), (1, 0)][::-1]\n",
    "polygon = shapelyPolygon(ext, [int])\n",
    "\n",
    "plot_coords(ax, polygon.interiors[0])\n",
    "plot_coords(ax, polygon.exterior)"
   ]
  },
  {
   "cell_type": "code",
   "execution_count": 34,
   "metadata": {},
   "outputs": [
    {
     "data": {
      "image/png": "[encoded data removed]",
      "text/plain": [
       "<Figure size 720x720 with 1 Axes>"
      ]
     },
     "metadata": {},
     "output_type": "display_data"
    }
   ],
   "source": [
    "fig, ax = plt.subplots(figsize=(10,10))\n",
    "patch = PolygonPatch(rect, facecolor='#6699cc')#, edgecolor=v_color(polygon), alpha=0.5, zorder=2)\n",
    "#ax.add_patch(patch)\n",
    "patches = []\n",
    "#patches.append(patch)\n",
    "\n",
    "patch = PolygonPatch(rect.intersection(poly), facecolor='#ff3333')#, edgecolor=v_color(polygon), alpha=0.5, zorder=2)\n",
    "ax.add_patch(patch)\n",
    "patches.append(patch)\n",
    "\n",
    "p = PatchCollection(patches, alpha=0.4)\n",
    "#ax.add_collection(p)"
   ]
  },
  {
   "cell_type": "code",
   "execution_count": 24,
   "metadata": {},
   "outputs": [
    {
     "data": {
      "image/svg+xml": [
       "<svg xmlns=\"http://www.w3.org/2000/svg\" xmlns:xlink=\"http://www.w3.org/1999/xlink\" width=\"139.39999999999998\" height=\"194.39999999999998\" viewBox=\"217.8 172.8 139.39999999999998 194.39999999999998\" preserveAspectRatio=\"xMinYMin meet\"><g transform=\"matrix(1,0,0,-1,0,540.0)\"><path fill-rule=\"evenodd\" fill=\"#66cc99\" stroke=\"#555555\" stroke-width=\"2.0\" opacity=\"0.6\" d=\"M 225.0,360.0 L 240.0,220.0 L 290.0,180.0 L 350.0,300.0 L 225.0,360.0 z\" /></g></svg>"
      ],
      "text/plain": [
       "<shapely.geometry.polygon.Polygon at 0x7f688d88b2b0>"
      ]
     },
     "execution_count": 24,
     "metadata": {},
     "output_type": "execute_result"
    }
   ],
   "source": [
    "poly"
   ]
  },
  {
   "cell_type": "code",
   "execution_count": 35,
   "metadata": {},
   "outputs": [
    {
     "data": {
      "image/svg+xml": [
       "<svg xmlns=\"http://www.w3.org/2000/svg\" xmlns:xlink=\"http://www.w3.org/1999/xlink\" width=\"276.48\" height=\"276.48\" viewBox=\"-10.24 -10.24 276.48 276.48\" preserveAspectRatio=\"xMinYMin meet\"><g transform=\"matrix(1,0,0,-1,0,256.0)\"><path fill-rule=\"evenodd\" fill=\"#66cc99\" stroke=\"#555555\" stroke-width=\"2.0\" opacity=\"0.6\" d=\"M 256.0,0.0 L 256.0,256.0 L 0.0,256.0 L 0.0,0.0 L 256.0,0.0 z\" /></g></svg>"
      ],
      "text/plain": [
       "<shapely.geometry.polygon.Polygon at 0x7f6914179a90>"
      ]
     },
     "execution_count": 35,
     "metadata": {},
     "output_type": "execute_result"
    }
   ],
   "source": [
    "rect"
   ]
  },
  {
   "cell_type": "code",
   "execution_count": 40,
   "metadata": {},
   "outputs": [
    {
     "name": "stdout",
     "output_type": "stream",
     "text": [
      "False\n"
     ]
    }
   ],
   "source": [
    "poly = shapelyPolygon([(2250, 3600), (2400, 2200), (2900, 1800), (3500, 3000)])\n",
    "\n",
    "x = rect.intersection(poly)\n",
    "if (x):\n",
    "    print(True)\n",
    "else:\n",
    "    print(False)"
   ]
  },
  {
   "cell_type": "code",
   "execution_count": 46,
   "metadata": {},
   "outputs": [
    {
     "name": "stdout",
     "output_type": "stream",
     "text": [
      "[]\n"
     ]
    }
   ],
   "source": [
    "print(np.array(rect.interiors))"
   ]
  },
  {
   "cell_type": "code",
   "execution_count": 49,
   "metadata": {},
   "outputs": [
    {
     "name": "stdout",
     "output_type": "stream",
     "text": [
      "[(256.0, 0.0), (256.0, 256.0), (0.0, 256.0), (0.0, 0.0), (256.0, 0.0)]\n"
     ]
    }
   ],
   "source": [
    "print(list(rect.boundary.coords))"
   ]
  },
  {
   "cell_type": "code",
   "execution_count": 50,
   "metadata": {},
   "outputs": [
    {
     "data": {
      "text/plain": [
       "True"
      ]
     },
     "execution_count": 50,
     "metadata": {},
     "output_type": "execute_result"
    }
   ],
   "source": [
    "x.is_empty"
   ]
  },
  {
   "cell_type": "code",
   "execution_count": 51,
   "metadata": {},
   "outputs": [
    {
     "data": {
      "text/plain": [
       "0.0"
      ]
     },
     "execution_count": 51,
     "metadata": {},
     "output_type": "execute_result"
    }
   ],
   "source": [
    "x.area"
   ]
  },
  {
   "cell_type": "code",
   "execution_count": 52,
   "metadata": {},
   "outputs": [],
   "source": [
    "a = np.array([[1,2], [3,4]]) - np.array([1,2])"
   ]
  },
  {
   "cell_type": "code",
   "execution_count": 53,
   "metadata": {},
   "outputs": [
    {
     "data": {
      "text/plain": [
       "array([[0, 0],\n",
       "       [2, 2]])"
      ]
     },
     "execution_count": 53,
     "metadata": {},
     "output_type": "execute_result"
    }
   ],
   "source": [
    "a"
   ]
  },
  {
   "cell_type": "code",
   "execution_count": 54,
   "metadata": {},
   "outputs": [],
   "source": [
    "def extract_poly_coords(geom):\n",
    "    if geom.type == 'Polygon':\n",
    "        exterior_coords = geom.exterior.coords[:]\n",
    "        interior_coords = []\n",
    "        for interior in geom.interiors:\n",
    "            interior_coords += interior.coords[:]\n",
    "    elif geom.type == 'MultiPolygon':\n",
    "        exterior_coords = []\n",
    "        interior_coords = []\n",
    "        for part in geom:\n",
    "            epc = extract_poly_coords(part)  # Recursive call\n",
    "            exterior_coords += epc['exterior_coords']\n",
    "            interior_coords += epc['interior_coords']\n",
    "    else:\n",
    "        raise ValueError('Unhandled geometry type: ' + repr(geom.type))\n",
    "    return {'exterior_coords': exterior_coords,\n",
    "            'interior_coords': interior_coords}"
   ]
  },
  {
   "cell_type": "code",
   "execution_count": 55,
   "metadata": {},
   "outputs": [
    {
     "data": {
      "text/plain": [
       "{'exterior_coords': [(256.0, 0.0),\n",
       "  (256.0, 256.0),\n",
       "  (0.0, 256.0),\n",
       "  (0.0, 0.0),\n",
       "  (256.0, 0.0)],\n",
       " 'interior_coords': []}"
      ]
     },
     "execution_count": 55,
     "metadata": {},
     "output_type": "execute_result"
    }
   ],
   "source": [
    "extract_poly_coords(rect)"
   ]
  },
  {
   "cell_type": "code",
   "execution_count": null,
   "metadata": {},
   "outputs": [],
   "source": []
  }
 ],
 "metadata": {
  "kernelspec": {
   "display_name": "Python [default]",
   "language": "python",
   "name": "python3"
  },
  "language_info": {
   "codemirror_mode": {
    "name": "ipython",
    "version": 3
   },
   "file_extension": ".py",
   "mimetype": "text/x-python",
   "name": "python",
   "nbconvert_exporter": "python",
   "pygments_lexer": "ipython3",
   "version": "3.5.5"
  }
 },
 "nbformat": 4,
 "nbformat_minor": 2
}
