{
 "cells": [
  {
   "cell_type": "code",
   "execution_count": 1,
   "metadata": {},
   "outputs": [
    {
     "name": "stdout",
     "output_type": "stream",
     "text": [
      "Populating the interactive namespace from numpy and matplotlib\n"
     ]
    }
   ],
   "source": [
    "%pylab inline\n",
    "%load_ext autoreload\n",
    "%autoreload 2\n",
    "\n",
    "import glob\n",
    "import json\n",
    "\n",
    "from ipywidgets import interact, interactive, fixed, interact_manual\n",
    "import ipywidgets as widgets\n",
    "import matplotlib.pyplot as plt\n",
    "from pywsi.io import WSIReader, read_as_rgb, imshow, read_as_gray, draw_annotation\n",
    "from pywsi.morphology import TissuePatch\n",
    "\n",
    "tiff_dir = '/Z/personal-folders/interns/saket/histopath_data/CAMELYON16'\n",
    "\n",
    "normal_files = glob.glob('{}/**/normal*.tif'.format(tiff_dir), recursive=True)\n",
    "tumor_files = glob.glob('{}/**/tumor*.tif'.format(tiff_dir), recursive=True)\n"
   ]
  },
  {
   "cell_type": "markdown",
   "metadata": {},
   "source": [
    "# Visualize the tissue patches (bounding boxes)"
   ]
  },
  {
   "cell_type": "code",
   "execution_count": 2,
   "metadata": {},
   "outputs": [],
   "source": [
    "def visualize_bounding_box(wsi_path):\n",
    "    wsi = WSIReader(wsi_path, 40)\n",
    "    tissuepatch = TissuePatch(wsi)\n",
    "    tissuepatch.draw_contours()\n",
    "\n",
    "def visualize_annotation(wsi_path, level=5, patch_size=None, saveto=None):\n",
    "    wsi = WSIReader(wsi_path, 40)\n",
    "    uid = wsi.uid\n",
    "    uid = uid.replace('.tif', '')\n",
    "    json_filepath = '../../../histopath_data/CAMELYON16/training/lesion_annotations_json/{}.json'.format(uid)    \n",
    "    wsi.autofocus_annotation(json_filepath, level=level, patch_size=patch_size)\n",
    "    if saveto:\n",
    "        plt.savefig('../interesting_example_scenarios/{}.png'.format(uid))\n",
    "\n"
   ]
  },
  {
   "cell_type": "code",
   "execution_count": 3,
   "metadata": {},
   "outputs": [
    {
     "data": {
      "application/vnd.jupyter.widget-view+json": {
       "model_id": "e7ead315c6fb46ea91c8ddcb6a13d6d9",
       "version_major": 2,
       "version_minor": 0
      },
      "text/plain": [
       "interactive(children=(Dropdown(description='wsi_path', options=('/Z/personal-folders/interns/saket/histopath_d…"
      ]
     },
     "metadata": {},
     "output_type": "display_data"
    },
    {
     "data": {
      "text/plain": [
       "<function __main__.visualize_annotation(wsi_path, level=5, patch_size=None, saveto=None)>"
      ]
     },
     "execution_count": 3,
     "metadata": {},
     "output_type": "execute_result"
    }
   ],
   "source": [
    "interact(visualize_annotation, wsi_path=tumor_files,\n",
    "         level=widgets.IntSlider(value=5,\n",
    "                                 min=0,\n",
    "                                 max=9,\n",
    "                                 step=1),\n",
    "         patch_size=[None, 500, 800, 1000],\n",
    "         saveto=[False, True]\n",
    "        )"
   ]
  },
  {
   "cell_type": "code",
   "execution_count": null,
   "metadata": {},
   "outputs": [],
   "source": []
  }
 ],
 "metadata": {
  "kernelspec": {
   "display_name": "Python [default]",
   "language": "python",
   "name": "python3"
  },
  "language_info": {
   "codemirror_mode": {
    "name": "ipython",
    "version": 3
   },
   "file_extension": ".py",
   "mimetype": "text/x-python",
   "name": "python",
   "nbconvert_exporter": "python",
   "pygments_lexer": "ipython3",
   "version": "3.5.5"
  }
 },
 "nbformat": 4,
 "nbformat_minor": 2
}
