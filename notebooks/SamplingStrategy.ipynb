{
 "cells": [
  {
   "cell_type": "code",
   "execution_count": 1,
   "metadata": {},
   "outputs": [
    {
     "name": "stdout",
     "output_type": "stream",
     "text": [
      "Populating the interactive namespace from numpy and matplotlib\n"
     ]
    },
    {
     "name": "stderr",
     "output_type": "stream",
     "text": [
      "/home/saket/anaconda3/lib/python3.5/importlib/_bootstrap.py:222: RuntimeWarning: numpy.dtype size changed, may indicate binary incompatibility. Expected 96, got 88\n",
      "  return f(*args, **kwds)\n",
      "/home/saket/anaconda3/lib/python3.5/importlib/_bootstrap.py:222: RuntimeWarning: numpy.dtype size changed, may indicate binary incompatibility. Expected 96, got 88\n",
      "  return f(*args, **kwds)\n",
      "/home/saket/anaconda3/lib/python3.5/importlib/_bootstrap.py:222: RuntimeWarning: numpy.dtype size changed, may indicate binary incompatibility. Expected 96, got 88\n",
      "  return f(*args, **kwds)\n",
      "/home/saket/anaconda3/lib/python3.5/importlib/_bootstrap.py:222: RuntimeWarning: numpy.dtype size changed, may indicate binary incompatibility. Expected 96, got 88\n",
      "  return f(*args, **kwds)\n",
      "/home/saket/anaconda3/lib/python3.5/importlib/_bootstrap.py:222: RuntimeWarning: numpy.dtype size changed, may indicate binary incompatibility. Expected 96, got 88\n",
      "  return f(*args, **kwds)\n"
     ]
    }
   ],
   "source": [
    "%pylab inline\n",
    "import pandas as pd\n",
    "from sklearn.model_selection import StratifiedShuffleSplit\n",
    "from sklearn.model_selection import train_test_split\n",
    "\n"
   ]
  },
  {
   "cell_type": "code",
   "execution_count": 2,
   "metadata": {},
   "outputs": [
    {
     "name": "stderr",
     "output_type": "stream",
     "text": [
      "/home/saket/anaconda3/lib/python3.5/site-packages/ipykernel/__main__.py:7: FutureWarning: Sorting because non-concatenation axis is not aligned. A future version\n",
      "of pandas will change to not sort by default.\n",
      "\n",
      "To accept the future behavior, pass 'sort=True'.\n",
      "\n",
      "To retain the current behavior and silence the warning, pass sort=False\n",
      "\n"
     ]
    }
   ],
   "source": [
    "normal_df = pd.read_table('/Z/personal-folders/interns/saket/histopath_data/patches_dataframe/training/normal/master_df.tsv')\n",
    "normal_df['slide_type'] = 'normal'\n",
    "normal_df['is_tumor'] = False\n",
    "\n",
    "tumor_df = pd.read_table('/Z/personal-folders/interns/saket/histopath_data/patches_dataframe/training/tumor/master_df.tsv')\n",
    "tumor_df['slide_type'] = 'tumor'\n",
    "master_df = pd.concat([normal_df, tumor_df])"
   ]
  },
  {
   "cell_type": "markdown",
   "metadata": {},
   "source": [
    "# Strategy\n",
    "\n",
    "We will work with 200k patches for training and 30k patches for validation. The procedure is as:\n",
    "\n",
    "1. Generate 'normal' or 'tumor' with probability = 0.5\n",
    "2. Select a sample belonging to that category\n",
    "   If tumor : Sample x tumor patches from the tumor such that, x/(total_tumor_patches) = "
   ]
  },
  {
   "cell_type": "code",
   "execution_count": 3,
   "metadata": {},
   "outputs": [],
   "source": [
    "split = StratifiedShuffleSplit(n_splits=1, test_size=0.2, random_state=42)\n",
    "for train_index, test_index in split.split(tumor_df, tumor_df['is_tumor']):\n",
    "    train_samples = tumor_df.loc[train_index]\n",
    "    validation_samples = tumor_df.loc[test_index]"
   ]
  },
  {
   "cell_type": "code",
   "execution_count": 4,
   "metadata": {},
   "outputs": [
    {
     "data": {
      "text/plain": [
       "235883"
      ]
     },
     "execution_count": 4,
     "metadata": {},
     "output_type": "execute_result"
    }
   ],
   "source": [
    "len(train_samples[train_samples.is_tumor==True].index)"
   ]
  },
  {
   "cell_type": "code",
   "execution_count": 5,
   "metadata": {},
   "outputs": [],
   "source": [
    "normal_slides_that_are_tumors = ['normal_086', 'normal_144']\n",
    "# The following slides should not be used for generating \n",
    "# normal patches\n",
    "# See \"Detecting Cancer Metastases on Gigapixel Pathology Images\"\n",
    "\n",
    "tumor_slides_with_nonexhaustive_tumor_annotation = ['tumor_{}'.format(x) for x in ['018', '020', '029',\n",
    "                                                                                   '033', '044', '046', \n",
    "                                                                                   '051', '054', '055', \n",
    "                                                                                   '079', '092', '095', \n",
    "                                                                                   '010', '025', '034', \n",
    "                                                                                   '056', '067', '085', \n",
    "                                                                                   '110']]\n"
   ]
  },
  {
   "cell_type": "code",
   "execution_count": 6,
   "metadata": {},
   "outputs": [],
   "source": [
    "df = tumor_df['uid'].groupby(tumor_df['is_tumor']).value_counts().rename('counts')#.reset_index(drop=True)#.groupby('is_tumor')\n",
    "df = pd.DataFrame(df).reset_index()"
   ]
  },
  {
   "cell_type": "code",
   "execution_count": 7,
   "metadata": {},
   "outputs": [],
   "source": [
    "all_tumor_slides = sorted(tumor_df['uid'].unique())\n",
    "all_normal_slides = sorted(normal_df['uid'].unique())\n",
    "\n",
    "# Remove normal slides that are tumors\n",
    "all_normal_slides = [x for x in all_normal_slides if x not in normal_slides_that_are_tumors]"
   ]
  },
  {
   "cell_type": "code",
   "execution_count": 8,
   "metadata": {},
   "outputs": [],
   "source": [
    "# Keep 10 slides for validation \n",
    "tumor_train_slides, tumor_validate_slides = train_test_split(all_tumor_slides, test_size=0.08, random_state=42)\n",
    "normal_train_slides, normal_validate_slides = train_test_split(all_normal_slides, test_size=0.08, random_state=42)\n",
    "tumor_train_slides = sorted(tumor_train_slides)\n",
    "tumor_validate_slides = sorted(tumor_validate_slides)\n",
    "normal_train_slides = sorted(normal_train_slides)\n",
    "normal_validate_slides = sorted(normal_validate_slides)"
   ]
  },
  {
   "cell_type": "code",
   "execution_count": 9,
   "metadata": {},
   "outputs": [
    {
     "data": {
      "text/plain": [
       "['tumor_005',\n",
       " 'tumor_011',\n",
       " 'tumor_031',\n",
       " 'tumor_046',\n",
       " 'tumor_065',\n",
       " 'tumor_069',\n",
       " 'tumor_079',\n",
       " 'tumor_085',\n",
       " 'tumor_097']"
      ]
     },
     "execution_count": 9,
     "metadata": {},
     "output_type": "execute_result"
    }
   ],
   "source": [
    "tumor_validate_slides"
   ]
  },
  {
   "cell_type": "markdown",
   "metadata": {},
   "source": [
    "# How many patches in train/test dataset?"
   ]
  },
  {
   "cell_type": "code",
   "execution_count": 10,
   "metadata": {},
   "outputs": [],
   "source": [
    "tumor_train_df = tumor_df[tumor_df.uid.isin(tumor_train_slides)]\n",
    "tumor_validate_df = tumor_df[tumor_df.uid.isin(tumor_validate_slides)]\n",
    "\n",
    "tumor_train_df.reset_index().to_csv('/Z/personal-folders/interns/saket/github/pywsi/data/patch_df/tumor_train_df.tsv',\n",
    "                                     sep='\\t',                                    \n",
    "                                     index=False,\n",
    "                                     header=True)\n",
    "tumor_validate_df.reset_index().to_csv('/Z/personal-folders/interns/saket/github/pywsi/data/patch_df/tumor_validate_df.tsv',\n",
    "                                     sep='\\t',                                    \n",
    "                                     index=False,\n",
    "                                     header=True)\n"
   ]
  },
  {
   "cell_type": "code",
   "execution_count": 11,
   "metadata": {},
   "outputs": [
    {
     "data": {
      "text/html": [
       "<div>\n",
       "<style scoped>\n",
       "    .dataframe tbody tr th:only-of-type {\n",
       "        vertical-align: middle;\n",
       "    }\n",
       "\n",
       "    .dataframe tbody tr th {\n",
       "        vertical-align: top;\n",
       "    }\n",
       "\n",
       "    .dataframe thead th {\n",
       "        text-align: right;\n",
       "    }\n",
       "</style>\n",
       "<table border=\"1\" class=\"dataframe\">\n",
       "  <thead>\n",
       "    <tr style=\"text-align: right;\">\n",
       "      <th></th>\n",
       "      <th>count</th>\n",
       "      <th>mean</th>\n",
       "      <th>std</th>\n",
       "      <th>min</th>\n",
       "      <th>25%</th>\n",
       "      <th>50%</th>\n",
       "      <th>75%</th>\n",
       "      <th>max</th>\n",
       "      <th>total</th>\n",
       "      <th>cumprop</th>\n",
       "    </tr>\n",
       "    <tr>\n",
       "      <th>is_tumor</th>\n",
       "      <th></th>\n",
       "      <th></th>\n",
       "      <th></th>\n",
       "      <th></th>\n",
       "      <th></th>\n",
       "      <th></th>\n",
       "      <th></th>\n",
       "      <th></th>\n",
       "      <th></th>\n",
       "      <th></th>\n",
       "    </tr>\n",
       "  </thead>\n",
       "  <tbody>\n",
       "    <tr>\n",
       "      <th>False</th>\n",
       "      <td>102.0</td>\n",
       "      <td>27396.921569</td>\n",
       "      <td>16290.248338</td>\n",
       "      <td>4656.0</td>\n",
       "      <td>15404.25</td>\n",
       "      <td>23995.0</td>\n",
       "      <td>36917.75</td>\n",
       "      <td>108210.0</td>\n",
       "      <td>2794486.0</td>\n",
       "      <td>0.91299</td>\n",
       "    </tr>\n",
       "    <tr>\n",
       "      <th>True</th>\n",
       "      <td>102.0</td>\n",
       "      <td>2610.990196</td>\n",
       "      <td>5893.431154</td>\n",
       "      <td>6.0</td>\n",
       "      <td>64.75</td>\n",
       "      <td>491.0</td>\n",
       "      <td>1820.75</td>\n",
       "      <td>36705.0</td>\n",
       "      <td>266321.0</td>\n",
       "      <td>1.00000</td>\n",
       "    </tr>\n",
       "  </tbody>\n",
       "</table>\n",
       "</div>"
      ],
      "text/plain": [
       "          count          mean           std     min       25%      50%  \\\n",
       "is_tumor                                                                 \n",
       "False     102.0  27396.921569  16290.248338  4656.0  15404.25  23995.0   \n",
       "True      102.0   2610.990196   5893.431154     6.0     64.75    491.0   \n",
       "\n",
       "               75%       max      total  cumprop  \n",
       "is_tumor                                          \n",
       "False     36917.75  108210.0  2794486.0  0.91299  \n",
       "True       1820.75   36705.0   266321.0  1.00000  "
      ]
     },
     "execution_count": 11,
     "metadata": {},
     "output_type": "execute_result"
    }
   ],
   "source": [
    "tumor_train_df_summary = tumor_train_df['uid'].groupby(tumor_train_df['is_tumor']).value_counts().groupby('is_tumor').describe()\n",
    "tumor_train_df_summary['total'] = tumor_train_df_summary['mean'] * tumor_train_df_summary['count']\n",
    "tumor_train_df_summary['cumprop']= tumor_train_df_summary.total.cumsum()/tumor_train_df_summary['total'].sum()\n",
    "total_tumor_train_patches = tumor_train_df_summary.loc[True]['total']\n",
    "tumor_train_df_summary.reset_index().to_csv('/Z/personal-folders/interns/saket/github/pywsi/data/patch_df/tumor_train_df_summary.tsv',\n",
    "                                            sep='\\t',\n",
    "                                            index=False,\n",
    "                                            header=True)\n",
    "tumor_train_df_summary"
   ]
  },
  {
   "cell_type": "code",
   "execution_count": 12,
   "metadata": {},
   "outputs": [
    {
     "data": {
      "text/plain": [
       "266321.0"
      ]
     },
     "execution_count": 12,
     "metadata": {},
     "output_type": "execute_result"
    }
   ],
   "source": [
    "total_tumor_train_patches"
   ]
  },
  {
   "cell_type": "code",
   "execution_count": 13,
   "metadata": {},
   "outputs": [
    {
     "data": {
      "text/html": [
       "<div>\n",
       "<style scoped>\n",
       "    .dataframe tbody tr th:only-of-type {\n",
       "        vertical-align: middle;\n",
       "    }\n",
       "\n",
       "    .dataframe tbody tr th {\n",
       "        vertical-align: top;\n",
       "    }\n",
       "\n",
       "    .dataframe thead th {\n",
       "        text-align: right;\n",
       "    }\n",
       "</style>\n",
       "<table border=\"1\" class=\"dataframe\">\n",
       "  <thead>\n",
       "    <tr style=\"text-align: right;\">\n",
       "      <th></th>\n",
       "      <th>count</th>\n",
       "      <th>mean</th>\n",
       "      <th>std</th>\n",
       "      <th>min</th>\n",
       "      <th>25%</th>\n",
       "      <th>50%</th>\n",
       "      <th>75%</th>\n",
       "      <th>max</th>\n",
       "      <th>total</th>\n",
       "      <th>cumprop</th>\n",
       "    </tr>\n",
       "    <tr>\n",
       "      <th>is_tumor</th>\n",
       "      <th></th>\n",
       "      <th></th>\n",
       "      <th></th>\n",
       "      <th></th>\n",
       "      <th></th>\n",
       "      <th></th>\n",
       "      <th></th>\n",
       "      <th></th>\n",
       "      <th></th>\n",
       "      <th></th>\n",
       "    </tr>\n",
       "  </thead>\n",
       "  <tbody>\n",
       "    <tr>\n",
       "      <th>False</th>\n",
       "      <td>9.0</td>\n",
       "      <td>17634.777778</td>\n",
       "      <td>7928.999429</td>\n",
       "      <td>8140.0</td>\n",
       "      <td>13107.0</td>\n",
       "      <td>14869.0</td>\n",
       "      <td>20619.0</td>\n",
       "      <td>34265.0</td>\n",
       "      <td>158713.0</td>\n",
       "      <td>0.847618</td>\n",
       "    </tr>\n",
       "    <tr>\n",
       "      <th>True</th>\n",
       "      <td>9.0</td>\n",
       "      <td>3170.333333</td>\n",
       "      <td>4639.188884</td>\n",
       "      <td>65.0</td>\n",
       "      <td>156.0</td>\n",
       "      <td>351.0</td>\n",
       "      <td>3687.0</td>\n",
       "      <td>13296.0</td>\n",
       "      <td>28533.0</td>\n",
       "      <td>1.000000</td>\n",
       "    </tr>\n",
       "  </tbody>\n",
       "</table>\n",
       "</div>"
      ],
      "text/plain": [
       "          count          mean          std     min      25%      50%      75%  \\\n",
       "is_tumor                                                                        \n",
       "False       9.0  17634.777778  7928.999429  8140.0  13107.0  14869.0  20619.0   \n",
       "True        9.0   3170.333333  4639.188884    65.0    156.0    351.0   3687.0   \n",
       "\n",
       "              max     total   cumprop  \n",
       "is_tumor                               \n",
       "False     34265.0  158713.0  0.847618  \n",
       "True      13296.0   28533.0  1.000000  "
      ]
     },
     "execution_count": 13,
     "metadata": {},
     "output_type": "execute_result"
    }
   ],
   "source": [
    "tumor_validate_df_summary = tumor_validate_df['uid'].groupby(tumor_validate_df['is_tumor']).value_counts().groupby('is_tumor').describe()\n",
    "tumor_validate_df_summary['total'] = tumor_validate_df_summary['mean'] * tumor_validate_df_summary['count']\n",
    "tumor_validate_df_summary['cumprop']= tumor_validate_df_summary.total.cumsum()/tumor_validate_df_summary['total'].sum()\n",
    "total_tumor_validate_patches = tumor_validate_df_summary.loc[True]['total'] \n",
    "tumor_validate_df_summary.reset_index().to_csv('/Z/personal-folders/interns/saket/github/pywsi/data/patch_df/tumor_validate_df_summary.tsv',\n",
    "                                               sep='\\t',\n",
    "                                               index=False,\n",
    "                                               header=True)\n",
    "\n",
    "tumor_validate_df_summary"
   ]
  },
  {
   "cell_type": "code",
   "execution_count": 14,
   "metadata": {},
   "outputs": [],
   "source": [
    "normal_train_df = normal_df[normal_df.uid.isin(normal_train_slides)]\n",
    "normal_validate_df = normal_df[normal_df.uid.isin(normal_validate_slides)]\n",
    "\n",
    "normal_train_df.reset_index().to_csv('/Z/personal-folders/interns/saket/github/pywsi/data/patch_df/normal_train_df.tsv',\n",
    "                                     sep='\\t',                                    \n",
    "                                     index=False,\n",
    "                                     header=True)\n",
    "normal_validate_df.reset_index().to_csv('/Z/personal-folders/interns/saket/github/pywsi/data/patch_df/normal_validate_df.tsv',\n",
    "                                     sep='\\t',                                    \n",
    "                                     index=False,\n",
    "                                     header=True)"
   ]
  },
  {
   "cell_type": "code",
   "execution_count": 15,
   "metadata": {},
   "outputs": [
    {
     "data": {
      "text/html": [
       "<div>\n",
       "<style scoped>\n",
       "    .dataframe tbody tr th:only-of-type {\n",
       "        vertical-align: middle;\n",
       "    }\n",
       "\n",
       "    .dataframe tbody tr th {\n",
       "        vertical-align: top;\n",
       "    }\n",
       "\n",
       "    .dataframe thead th {\n",
       "        text-align: right;\n",
       "    }\n",
       "</style>\n",
       "<table border=\"1\" class=\"dataframe\">\n",
       "  <thead>\n",
       "    <tr style=\"text-align: right;\">\n",
       "      <th></th>\n",
       "      <th>count</th>\n",
       "      <th>mean</th>\n",
       "      <th>std</th>\n",
       "      <th>min</th>\n",
       "      <th>25%</th>\n",
       "      <th>50%</th>\n",
       "      <th>75%</th>\n",
       "      <th>max</th>\n",
       "      <th>total</th>\n",
       "    </tr>\n",
       "  </thead>\n",
       "  <tbody>\n",
       "    <tr>\n",
       "      <th>uid</th>\n",
       "      <td>145.0</td>\n",
       "      <td>24312.482759</td>\n",
       "      <td>16195.726265</td>\n",
       "      <td>2272.0</td>\n",
       "      <td>12932.0</td>\n",
       "      <td>21031.0</td>\n",
       "      <td>31868.0</td>\n",
       "      <td>80995.0</td>\n",
       "      <td>3525310.0</td>\n",
       "    </tr>\n",
       "  </tbody>\n",
       "</table>\n",
       "</div>"
      ],
      "text/plain": [
       "     count          mean           std     min      25%      50%      75%  \\\n",
       "uid  145.0  24312.482759  16195.726265  2272.0  12932.0  21031.0  31868.0   \n",
       "\n",
       "         max      total  \n",
       "uid  80995.0  3525310.0  "
      ]
     },
     "execution_count": 15,
     "metadata": {},
     "output_type": "execute_result"
    }
   ],
   "source": [
    "normal_train_df_summary = normal_train_df['uid'].value_counts().describe()\n",
    "normal_train_df_summary['total'] = normal_train_df_summary['mean'] * normal_train_df_summary['count']\n",
    "normal_train_df_summary = pd.DataFrame(normal_train_df_summary).T\n",
    "total_normal_train_patches = normal_train_df_summary['total']\n",
    "normal_train_df_summary.to_csv('/Z/personal-folders/interns/saket/github/pywsi/data/patch_df/normal_train_df_summary.tsv',\n",
    "                                 sep='\\t',\n",
    "                                 index=False,\n",
    "                                 header=True)\n",
    "\n",
    "normal_train_df_summary"
   ]
  },
  {
   "cell_type": "code",
   "execution_count": 16,
   "metadata": {},
   "outputs": [
    {
     "data": {
      "text/html": [
       "<div>\n",
       "<style scoped>\n",
       "    .dataframe tbody tr th:only-of-type {\n",
       "        vertical-align: middle;\n",
       "    }\n",
       "\n",
       "    .dataframe tbody tr th {\n",
       "        vertical-align: top;\n",
       "    }\n",
       "\n",
       "    .dataframe thead th {\n",
       "        text-align: right;\n",
       "    }\n",
       "</style>\n",
       "<table border=\"1\" class=\"dataframe\">\n",
       "  <thead>\n",
       "    <tr style=\"text-align: right;\">\n",
       "      <th></th>\n",
       "      <th>count</th>\n",
       "      <th>mean</th>\n",
       "      <th>std</th>\n",
       "      <th>min</th>\n",
       "      <th>25%</th>\n",
       "      <th>50%</th>\n",
       "      <th>75%</th>\n",
       "      <th>max</th>\n",
       "      <th>total</th>\n",
       "    </tr>\n",
       "  </thead>\n",
       "  <tbody>\n",
       "    <tr>\n",
       "      <th>uid</th>\n",
       "      <td>13.0</td>\n",
       "      <td>20053.923077</td>\n",
       "      <td>13488.247437</td>\n",
       "      <td>2966.0</td>\n",
       "      <td>8735.0</td>\n",
       "      <td>16560.0</td>\n",
       "      <td>30871.0</td>\n",
       "      <td>41933.0</td>\n",
       "      <td>260701.0</td>\n",
       "    </tr>\n",
       "  </tbody>\n",
       "</table>\n",
       "</div>"
      ],
      "text/plain": [
       "     count          mean           std     min     25%      50%      75%  \\\n",
       "uid   13.0  20053.923077  13488.247437  2966.0  8735.0  16560.0  30871.0   \n",
       "\n",
       "         max     total  \n",
       "uid  41933.0  260701.0  "
      ]
     },
     "execution_count": 16,
     "metadata": {},
     "output_type": "execute_result"
    }
   ],
   "source": [
    "normal_validate_df_summary = normal_validate_df['uid'].value_counts().describe()\n",
    "normal_validate_df_summary['total'] = normal_validate_df_summary['mean'] * normal_validate_df_summary['count']\n",
    "normal_validate_df_summary = pd.DataFrame(normal_validate_df_summary).T\n",
    "total_normal_validate_patches = normal_validate_df_summary['total']\n",
    "normal_validate_df_summary.to_csv('/Z/personal-folders/interns/saket/github/pywsi/data/patch_df/normal_validate_df_summary.tsv',\n",
    "                                 sep='\\t',\n",
    "                                 index=False,\n",
    "                                 header=True)\n",
    "normal_validate_df_summary\n"
   ]
  },
  {
   "cell_type": "markdown",
   "metadata": {},
   "source": [
    "So we have a lot of normal patches and hence that will require subsampling.\n",
    "We will subsample so that we subsample as many normal patches from tumor samples such that they match up\n",
    "the counts of tumor patches (close to 225k) \n",
    "We start off training with an equal number of normal patches. Then given the tumor samples, we generate half of these normal patches from the valid tumor samples and the other half from the actual normal samples.\n",
    "\n",
    "\n",
    "\n",
    "\n",
    "\n"
   ]
  },
  {
   "cell_type": "code",
   "execution_count": 17,
   "metadata": {},
   "outputs": [],
   "source": [
    "normal_train_df_finalized = pd.DataFrame()\n",
    "\n",
    "relevant_tumor_normal_patches = tumor_train_df[(tumor_train_df.is_tumor==False) & (~tumor_train_df.uid.isin(tumor_slides_with_nonexhaustive_tumor_annotation))]\n",
    "\n",
    "patch_frac = len(relevant_tumor_normal_patches.index)/(total_tumor_train_patches/2)\n",
    "patch_frac = 1/patch_frac\n",
    "for seed, tumor_uid in enumerate(tumor_train_slides):\n",
    "    if tumor_uid in tumor_slides_with_nonexhaustive_tumor_annotation:\n",
    "        # Should not use these slides for generating normal patches\n",
    "        continue\n",
    "    # How many normal patches does this uid have?\n",
    "    tumor_train_uid_df = tumor_train_df[tumor_train_df.uid==tumor_uid]\n",
    "    tumor_train_uid_df_normal = tumor_train_uid_df[tumor_train_uid_df.is_tumor==False]\n",
    "    \n",
    "    normal_patches_in_uid = len(tumor_train_uid_df_normal.index)\n",
    "    tumor_patches_in_uid = len(tumor_train_uid_df[tumor_train_uid_df.is_tumor==True].index)\n",
    "    \n",
    "    \n",
    "    # subsample these proprotion of \n",
    "    selected_patches = tumor_train_uid_df_normal.sample(frac=patch_frac, random_state=seed+42)\n",
    "    normal_train_df_finalized = pd.concat([normal_train_df_finalized, selected_patches])"
   ]
  },
  {
   "cell_type": "code",
   "execution_count": 18,
   "metadata": {},
   "outputs": [
    {
     "data": {
      "text/plain": [
       "0.057552630680415974"
      ]
     },
     "execution_count": 18,
     "metadata": {},
     "output_type": "execute_result"
    }
   ],
   "source": [
    "patch_frac"
   ]
  },
  {
   "cell_type": "code",
   "execution_count": 19,
   "metadata": {},
   "outputs": [
    {
     "data": {
      "text/plain": [
       "133160"
      ]
     },
     "execution_count": 19,
     "metadata": {},
     "output_type": "execute_result"
    }
   ],
   "source": [
    "len(normal_train_df_finalized.index)"
   ]
  },
  {
   "cell_type": "code",
   "execution_count": 20,
   "metadata": {},
   "outputs": [
    {
     "name": "stderr",
     "output_type": "stream",
     "text": [
      "/home/saket/anaconda3/lib/python3.5/site-packages/ipykernel/__main__.py:13: FutureWarning: Sorting because non-concatenation axis is not aligned. A future version\n",
      "of pandas will change to not sort by default.\n",
      "\n",
      "To accept the future behavior, pass 'sort=True'.\n",
      "\n",
      "To retain the current behavior and silence the warning, pass sort=False\n",
      "\n"
     ]
    }
   ],
   "source": [
    "# Select the remaining half from the actual normal slides.\n",
    "patch_frac = len(normal_train_df.index)/(total_tumor_train_patches/2)\n",
    "patch_frac = 1/patch_frac\n",
    "\n",
    "for seed, normal_uid in enumerate(normal_train_slides):\n",
    "    \n",
    "    # How many normal patches does this uid have?\n",
    "    normal_train_uid_df = normal_train_df[normal_train_df.uid==normal_uid]\n",
    "    normal_patches_in_uid = len(normal_train_uid_df.index)\n",
    "    \n",
    "    # subsample these proprotion of \n",
    "    selected_patches = normal_train_uid_df.sample(frac=patch_frac, random_state=seed+42)\n",
    "    normal_train_df_finalized = pd.concat([normal_train_df_finalized, selected_patches])"
   ]
  },
  {
   "cell_type": "code",
   "execution_count": 21,
   "metadata": {},
   "outputs": [
    {
     "data": {
      "text/plain": [
       "266317"
      ]
     },
     "execution_count": 21,
     "metadata": {},
     "output_type": "execute_result"
    }
   ],
   "source": [
    "len(normal_train_df_finalized.index)"
   ]
  },
  {
   "cell_type": "code",
   "execution_count": 22,
   "metadata": {},
   "outputs": [
    {
     "data": {
      "text/plain": [
       "266321.0"
      ]
     },
     "execution_count": 22,
     "metadata": {},
     "output_type": "execute_result"
    }
   ],
   "source": [
    "total_tumor_train_patches"
   ]
  },
  {
   "cell_type": "code",
   "execution_count": 23,
   "metadata": {},
   "outputs": [
    {
     "data": {
      "text/plain": [
       "28533.0"
      ]
     },
     "execution_count": 23,
     "metadata": {},
     "output_type": "execute_result"
    }
   ],
   "source": [
    "total_tumor_validate_patches"
   ]
  },
  {
   "cell_type": "code",
   "execution_count": 24,
   "metadata": {},
   "outputs": [],
   "source": [
    "# Do the same thing for the validation\n",
    "normal_validate_df_finalized = pd.DataFrame()\n",
    "\n",
    "relevant_tumor_normal_patches = tumor_validate_df[(tumor_validate_df.is_tumor==False) & (~tumor_validate_df.uid.isin(tumor_slides_with_nonexhaustive_tumor_annotation))]\n",
    "\n",
    "patch_frac = len(relevant_tumor_normal_patches.index)/(total_tumor_validate_patches/2)\n",
    "patch_frac = 1/patch_frac\n",
    "for seed, tumor_uid in enumerate(tumor_validate_slides):\n",
    "    if tumor_uid in tumor_slides_with_nonexhaustive_tumor_annotation:\n",
    "        # Should not use these slides for generating normal patches\n",
    "        continue\n",
    "    # How many normal patches does this uid have?\n",
    "    tumor_validate_uid_df = tumor_validate_df[tumor_validate_df.uid==tumor_uid]\n",
    "    tumor_validate_uid_df_normal = tumor_validate_uid_df[tumor_validate_uid_df.is_tumor==False]\n",
    "    \n",
    "    normal_patches_in_uid = len(tumor_validate_uid_df_normal.index)\n",
    "    tumor_patches_in_uid = len(tumor_validate_uid_df[tumor_validate_uid_df.is_tumor==True].index)\n",
    "    \n",
    "    \n",
    "    # subsample these proprotion of \n",
    "    selected_patches = tumor_validate_uid_df_normal.sample(frac=patch_frac, random_state=seed+42)\n",
    "    normal_validate_df_finalized = pd.concat([normal_validate_df_finalized, selected_patches])"
   ]
  },
  {
   "cell_type": "code",
   "execution_count": 25,
   "metadata": {},
   "outputs": [
    {
     "name": "stdout",
     "output_type": "stream",
     "text": [
      "14265\n"
     ]
    }
   ],
   "source": [
    "print(len(normal_validate_df_finalized.index))"
   ]
  },
  {
   "cell_type": "code",
   "execution_count": 26,
   "metadata": {},
   "outputs": [
    {
     "data": {
      "text/plain": [
       "0.15786241465924555"
      ]
     },
     "execution_count": 26,
     "metadata": {},
     "output_type": "execute_result"
    }
   ],
   "source": [
    "patch_frac = len(relevant_tumor_normal_patches.index)/(total_tumor_validate_patches/2)\n",
    "patch_frac = 1/patch_frac\n",
    "patch_frac"
   ]
  },
  {
   "cell_type": "code",
   "execution_count": 27,
   "metadata": {},
   "outputs": [
    {
     "data": {
      "text/plain": [
       "28533.0"
      ]
     },
     "execution_count": 27,
     "metadata": {},
     "output_type": "execute_result"
    }
   ],
   "source": [
    "total_tumor_validate_patches"
   ]
  },
  {
   "cell_type": "code",
   "execution_count": 28,
   "metadata": {},
   "outputs": [
    {
     "name": "stderr",
     "output_type": "stream",
     "text": [
      "/home/saket/anaconda3/lib/python3.5/site-packages/ipykernel/__main__.py:13: FutureWarning: Sorting because non-concatenation axis is not aligned. A future version\n",
      "of pandas will change to not sort by default.\n",
      "\n",
      "To accept the future behavior, pass 'sort=True'.\n",
      "\n",
      "To retain the current behavior and silence the warning, pass sort=False\n",
      "\n"
     ]
    }
   ],
   "source": [
    "# Select the remaining half from the actual normal slides.\n",
    "patch_frac = len(normal_validate_df.index)/(total_tumor_validate_patches/2)\n",
    "patch_frac = 1/patch_frac\n",
    "\n",
    "for seed, normal_uid in enumerate(normal_validate_slides):\n",
    "    \n",
    "    # How many normal patches does this uid have?\n",
    "    normal_validate_uid_df = normal_validate_df[normal_validate_df.uid==normal_uid]\n",
    "    normal_patches_in_uid = len(normal_validate_uid_df.index)\n",
    "    \n",
    "    # subsample these proprotion of \n",
    "    selected_patches = normal_validate_uid_df.sample(frac=patch_frac, random_state=seed+42)\n",
    "    normal_validate_df_finalized = pd.concat([normal_validate_df_finalized, selected_patches])"
   ]
  },
  {
   "cell_type": "code",
   "execution_count": 29,
   "metadata": {},
   "outputs": [
    {
     "name": "stdout",
     "output_type": "stream",
     "text": [
      "28531\n"
     ]
    }
   ],
   "source": [
    "print(len(normal_validate_df_finalized.index))"
   ]
  },
  {
   "cell_type": "code",
   "execution_count": 30,
   "metadata": {},
   "outputs": [
    {
     "name": "stdout",
     "output_type": "stream",
     "text": [
      "187246\n"
     ]
    }
   ],
   "source": [
    "print(len(tumor_validate_df.index))"
   ]
  },
  {
   "cell_type": "code",
   "execution_count": 31,
   "metadata": {},
   "outputs": [],
   "source": [
    "\n",
    "normal_train_df_finalized.to_csv('/Z/personal-folders/interns/saket/github/pywsi/data/patch_df/normal_train_df_finalized.tsv',\n",
    "                                 sep='\\t',\n",
    "                                 index=False,\n",
    "                                 header=True)\n",
    "\n",
    "\n",
    "normal_validate_df_finalized.to_csv('/Z/personal-folders/interns/saket/github/pywsi/data/patch_df/normal_validate_df_finalized.tsv',\n",
    "                                    sep='\\t',\n",
    "                                    index=False,\n",
    "                                    header=True)"
   ]
  },
  {
   "cell_type": "code",
   "execution_count": 32,
   "metadata": {},
   "outputs": [
    {
     "name": "stderr",
     "output_type": "stream",
     "text": [
      "/home/saket/anaconda3/lib/python3.5/site-packages/ipykernel/__main__.py:8: FutureWarning: Sorting because non-concatenation axis is not aligned. A future version\n",
      "of pandas will change to not sort by default.\n",
      "\n",
      "To accept the future behavior, pass 'sort=True'.\n",
      "\n",
      "To retain the current behavior and silence the warning, pass sort=False\n",
      "\n",
      "/home/saket/anaconda3/lib/python3.5/site-packages/ipykernel/__main__.py:12: FutureWarning: Sorting because non-concatenation axis is not aligned. A future version\n",
      "of pandas will change to not sort by default.\n",
      "\n",
      "To accept the future behavior, pass 'sort=True'.\n",
      "\n",
      "To retain the current behavior and silence the warning, pass sort=False\n",
      "\n"
     ]
    }
   ],
   "source": [
    "# Let's just merge the datasets for training\n",
    "tumor_train_df_tumor = tumor_train_df[tumor_train_df.is_tumor==True]\n",
    "normal_train_df_finalized['is_tumor'] = False\n",
    "\n",
    "tumor_validate_df_tumor = tumor_validate_df[tumor_validate_df.is_tumor==True]\n",
    "normal_validate_df_finalized['is_tumor'] = False\n",
    "\n",
    "train_df = pd.concat([tumor_train_df_tumor, normal_train_df_finalized])\n",
    "# Shuffle before saving so that we do not have things together\n",
    "train_df = train_df.sample(frac=1, random_state=42)\n",
    "\n",
    "validate_df = pd.concat([tumor_validate_df_tumor, normal_validate_df_finalized])\n",
    "# Shuffle before saving so that we do not have things together\n",
    "validate_df = validate_df.sample(frac=1, random_state=42)\n",
    "\n",
    "\n",
    "train_df.to_csv('/Z/personal-folders/interns/saket/github/pywsi/data/patch_df/train_df.tsv',\n",
    "                sep='\\t',\n",
    "                index=False,\n",
    "                header=True)\n",
    "\n",
    "validate_df.to_csv('/Z/personal-folders/interns/saket/github/pywsi/data/patch_df/validate_df.tsv',\n",
    "                   sep='\\t',\n",
    "                   index=False,\n",
    "                   header=True)\n"
   ]
  },
  {
   "cell_type": "code",
   "execution_count": 33,
   "metadata": {},
   "outputs": [
    {
     "data": {
      "text/plain": [
       "532638"
      ]
     },
     "execution_count": 33,
     "metadata": {},
     "output_type": "execute_result"
    }
   ],
   "source": [
    "len(train_df.index)"
   ]
  },
  {
   "cell_type": "code",
   "execution_count": 34,
   "metadata": {},
   "outputs": [
    {
     "data": {
      "text/plain": [
       "187246"
      ]
     },
     "execution_count": 34,
     "metadata": {},
     "output_type": "execute_result"
    }
   ],
   "source": [
    "len(tumor_validate_df.index)"
   ]
  },
  {
   "cell_type": "code",
   "execution_count": 35,
   "metadata": {},
   "outputs": [
    {
     "data": {
      "text/plain": [
       "28531"
      ]
     },
     "execution_count": 35,
     "metadata": {},
     "output_type": "execute_result"
    }
   ],
   "source": [
    "len(normal_validate_df_finalized.index)"
   ]
  },
  {
   "cell_type": "code",
   "execution_count": 36,
   "metadata": {},
   "outputs": [
    {
     "data": {
      "text/plain": [
       "0.05472361057303194"
      ]
     },
     "execution_count": 36,
     "metadata": {},
     "output_type": "execute_result"
    }
   ],
   "source": [
    "patch_frac = len(normal_validate_df.index)/(total_tumor_validate_patches/2)\n",
    "patch_frac = 1/patch_frac\n",
    "patch_frac"
   ]
  },
  {
   "cell_type": "code",
   "execution_count": 37,
   "metadata": {},
   "outputs": [
    {
     "data": {
      "text/plain": [
       "57064"
      ]
     },
     "execution_count": 37,
     "metadata": {},
     "output_type": "execute_result"
    }
   ],
   "source": [
    "len(validate_df.index)"
   ]
  },
  {
   "cell_type": "code",
   "execution_count": null,
   "metadata": {},
   "outputs": [],
   "source": []
  }
 ],
 "metadata": {
  "kernelspec": {
   "display_name": "Python [default]",
   "language": "python",
   "name": "python3"
  },
  "language_info": {
   "codemirror_mode": {
    "name": "ipython",
    "version": 3
   },
   "file_extension": ".py",
   "mimetype": "text/x-python",
   "name": "python",
   "nbconvert_exporter": "python",
   "pygments_lexer": "ipython3",
   "version": "3.5.5"
  }
 },
 "nbformat": 4,
 "nbformat_minor": 2
}
