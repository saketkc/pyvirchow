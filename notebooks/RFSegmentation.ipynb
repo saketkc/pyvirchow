{
 "cells": [
  {
   "cell_type": "code",
   "execution_count": 25,
   "metadata": {},
   "outputs": [
    {
     "name": "stdout",
     "output_type": "stream",
     "text": [
      "Populating the interactive namespace from numpy and matplotlib\n"
     ]
    }
   ],
   "source": [
    "%pylab inline\n",
    "import pandas as pd\n",
    "import tensorflow as tf\n",
    "import glob\n",
    "from tensorflow.contrib.tensor_forest.python import tensor_forest\n",
    "from tensorflow.python.ops import resources\n",
    "from tqdm import tqdm_notebook\n",
    "from multiprocessing import Pool\n",
    "import os\n",
    "os.environ[\"CUDA_VISIBLE_DEVICES\"] = \"\"\n",
    "np.random.seed(42)\n",
    "from sklearn.metrics import precision_recall_curve\n",
    "from sklearn.metrics import average_precision_score\n",
    "import seaborn as sns\n",
    "sns.set_style('whitegrid')\n",
    "sns.set_context('paper', font_scale=2)\n",
    "BUFFER_SIZE= 100"
   ]
  },
  {
   "cell_type": "code",
   "execution_count": 2,
   "metadata": {},
   "outputs": [
    {
     "name": "stderr",
     "output_type": "stream",
     "text": [
      "Using TensorFlow backend.\n"
     ]
    }
   ],
   "source": [
    "from pywsi.io.operations import get_annotation_bounding_boxes\n",
    "from pywsi.io.operations import get_annotation_polygons\n",
    "from pywsi.io.operations import path_leaf\n",
    "from pywsi.io.operations import read_as_rgb\n",
    "from pywsi.io.operations import WSIReader\n",
    "from pywsi.io.tiling import get_all_patches_from_slide\n",
    "from pywsi.io.tiling import save_images_and_mask, generate_tiles, generate_tiles_fast\n",
    "\n",
    "from pywsi.morphology.patch_extractor import TissuePatch\n",
    "from pywsi.morphology.mask import get_common_interior_polygons\n",
    "from tqdm import tqdm\n",
    "from multiprocessing import Pool\n",
    "from pywsi.segmentation import label_nuclei, summarize_region_properties\n",
    "from pywsi.deep_model.model import slide_level_map\n",
    "\n",
    "from collections import defaultdict\n",
    "import joblib\n",
    "import numpy as np\n",
    "from six import iteritems\n"
   ]
  },
  {
   "cell_type": "code",
   "execution_count": 3,
   "metadata": {},
   "outputs": [],
   "source": [
    "train_samples = pd.read_table('/Z/personal-folders/interns/saket/github/pywsi/data/patch_df/train_df_segmented.tsv')\n",
    "\n",
    "is_tumor_idx = list(train_samples.columns).index('is_tumor')"
   ]
  },
  {
   "cell_type": "code",
   "execution_count": 4,
   "metadata": {},
   "outputs": [],
   "source": [
    "def order(frame,var):\n",
    "    if type(var) is str:\n",
    "        var = [var] #let the command take a string or list\n",
    "    varlist =[w for w in frame.columns if w not in var]\n",
    "    frame = frame[var+varlist]\n",
    "    return frame "
   ]
  },
  {
   "cell_type": "code",
   "execution_count": 5,
   "metadata": {},
   "outputs": [],
   "source": [
    "# Parameters\n",
    "num_steps = 500 # Total steps to train\n",
    "batch_size = 1#024 # The number of samples per batch\n",
    "num_classes = 2 # 2 classes\n",
    "num_features = 46 # columns in the feature\n",
    "num_trees = 100\n",
    "max_nodes = 10000\n",
    "\n",
    "def _parse_csv(rows_string_tensor):\n",
    "        \"\"\"Takes the string input tensor and returns tuple of (features, labels).\"\"\"\n",
    "        # Last dim is the label.        \n",
    "        num_columns = num_features + 1 \n",
    "        columns = tf.decode_csv(rows_string_tensor,\n",
    "                                record_defaults=[[0.0]] * num_columns , \n",
    "                                field_delim='\\t')\n",
    "        label = columns[0]\n",
    "        print(label)\n",
    "        #label = columns[is_tumor_idx]\n",
    "        #stack1 = tf.stack(columns[0: is_tumor_idx])\n",
    "        #stack2 = tf.stack(columns[is_tumor_idx+1:])\n",
    "        #return tf.stack([columns[x0: is_tumor_idx], columns[is_tumor_idx+1:]]), tf.cast(label, tf.int32)\n",
    "        return tf.cast(tf.stack(columns[1:]), tf.float32), tf.cast(label, tf.int32)\n",
    "        #return  tf.cast(label, tf.int32),  tf.cast(label, tf.int32)\n",
    "\n",
    "def input_fn(file_names, batch_size):   \n",
    "\n",
    "    \"\"\"The input_fn.\"\"\"\n",
    "    dataset = tf.data.TextLineDataset(file_names).skip(1)\n",
    "    # Skip the first line (which does not have data).\n",
    "    dataset = dataset.map(_parse_csv)\n",
    "    dataset = dataset.shuffle(buffer_size=BUFFER_SIZE)\n",
    "\n",
    "    dataset = dataset.batch(batch_size)\n",
    "    iterator = tf.data.Iterator.from_structure(dataset.output_types,\n",
    "                                               dataset.output_shapes)\n",
    "    next_batch = iterator.get_next()\n",
    "    init_op = iterator.make_initializer(dataset)\n",
    "    return init_op, next_batch"
   ]
  },
  {
   "cell_type": "code",
   "execution_count": 6,
   "metadata": {},
   "outputs": [
    {
     "name": "stdout",
     "output_type": "stream",
     "text": [
      "INFO:tensorflow:Constructing forest with params = \n",
      "INFO:tensorflow:{'checkpoint_stats': False, 'inference_tree_paths': False, 'num_trees': 100, 'num_features': 46, 'dominate_fraction': 0.99, 'num_splits_to_consider': 10, 'finish_type': 0, 'valid_leaf_threshold': 1, 'max_nodes': 10000, 'bagged_features': None, 'feature_bagging_fraction': 1.0, 'early_finish_check_every_samples': 0, 'regression': False, 'collate_examples': False, 'dominate_method': 'bootstrap', 'split_pruning_name': 'none', 'split_after_samples': 250, 'num_classes': 2, 'model_name': 'all_dense', 'use_running_stats_method': False, 'num_outputs': 1, 'initialize_average_splits': False, 'bagging_fraction': 1.0, 'pruning_type': 0, 'split_name': 'less_or_equal', 'max_fertile_nodes': 0, 'num_output_columns': 3, 'split_finish_name': 'basic', 'stats_model_type': 0, 'base_random_seed': 0, 'split_type': 0, 'prune_every_samples': 0, 'param_file': None, 'leaf_model_type': 0, 'bagged_num_features': 46}\n"
     ]
    }
   ],
   "source": [
    "X = tf.placeholder(tf.float32, shape=[None, num_features])\n",
    "# For random forest, labels must be integers (the class id)\n",
    "Y = tf.placeholder(tf.int32, shape=[None])\n",
    "\n",
    "# Random Forest Parameters\n",
    "hparams = tensor_forest.ForestHParams(num_classes=num_classes,\n",
    "                                      num_features=num_features,\n",
    "                                      num_trees=num_trees,\n",
    "                                      max_nodes=max_nodes).fill()\n",
    "\n",
    "# Build the Random Forest\n",
    "forest_graph = tensor_forest.RandomForestGraphs(hparams)\n",
    "# Get training graph and loss\n",
    "train_op = forest_graph.training_graph(X, Y)\n",
    "loss_op = forest_graph.training_loss(X, Y)\n",
    "\n",
    "# Measure the accuracy\n",
    "infer_op, _, _ = forest_graph.inference_graph(X)\n",
    "correct_prediction = tf.equal(tf.argmax(infer_op, 1), tf.cast(Y, tf.int64))\n",
    "accuracy_op = tf.reduce_mean(tf.cast(correct_prediction, tf.float32))\n",
    "\n",
    "# Initialize the variables (i.e. assign their default value) and forest resources\n",
    "init_vars = tf.group(tf.global_variables_initializer(),\n",
    "                     resources.initialize_resources(resources.shared_resources()))\n",
    "\n",
    "# Start TensorFlow session\n",
    "sess = tf.Session()\n",
    "\n",
    "# Run the initializer\n",
    "sess.run(init_vars)"
   ]
  },
  {
   "cell_type": "code",
   "execution_count": 7,
   "metadata": {},
   "outputs": [
    {
     "data": {
      "text/html": [
       "<div>\n",
       "<style scoped>\n",
       "    .dataframe tbody tr th:only-of-type {\n",
       "        vertical-align: middle;\n",
       "    }\n",
       "\n",
       "    .dataframe tbody tr th {\n",
       "        vertical-align: top;\n",
       "    }\n",
       "\n",
       "    .dataframe thead th {\n",
       "        text-align: right;\n",
       "    }\n",
       "</style>\n",
       "<table border=\"1\" class=\"dataframe\">\n",
       "  <thead>\n",
       "    <tr style=\"text-align: right;\">\n",
       "      <th></th>\n",
       "      <th>is_tumor</th>\n",
       "      <th>area</th>\n",
       "      <th>bbox_area</th>\n",
       "      <th>compactness</th>\n",
       "      <th>convex_area</th>\n",
       "      <th>eccentricity</th>\n",
       "      <th>equivalent_diameter</th>\n",
       "      <th>extent</th>\n",
       "      <th>fractal_dimension</th>\n",
       "      <th>inertia_tensor_eigvals_1</th>\n",
       "      <th>...</th>\n",
       "      <th>moments_hu_6</th>\n",
       "      <th>moments_hu_7</th>\n",
       "      <th>nuclei</th>\n",
       "      <th>nuclei_intensity_over_entire_image</th>\n",
       "      <th>orientation</th>\n",
       "      <th>perimeter</th>\n",
       "      <th>solidity</th>\n",
       "      <th>texture</th>\n",
       "      <th>total_nuclei_area</th>\n",
       "      <th>total_nuclei_area_ratio</th>\n",
       "    </tr>\n",
       "  </thead>\n",
       "  <tbody>\n",
       "    <tr>\n",
       "      <th>393330</th>\n",
       "      <td>1</td>\n",
       "      <td>232.352941</td>\n",
       "      <td>452.505882</td>\n",
       "      <td>26.859563</td>\n",
       "      <td>308.188235</td>\n",
       "      <td>0.746728</td>\n",
       "      <td>16.416288</td>\n",
       "      <td>0.523728</td>\n",
       "      <td>0.750724</td>\n",
       "      <td>34.891337</td>\n",
       "      <td>...</td>\n",
       "      <td>0.000035</td>\n",
       "      <td>-7.292257e-08</td>\n",
       "      <td>85.0</td>\n",
       "      <td>0.633790</td>\n",
       "      <td>-0.088111</td>\n",
       "      <td>74.092669</td>\n",
       "      <td>0.751866</td>\n",
       "      <td>0.017898</td>\n",
       "      <td>19750.0</td>\n",
       "      <td>0.301361</td>\n",
       "    </tr>\n",
       "    <tr>\n",
       "      <th>436020</th>\n",
       "      <td>0</td>\n",
       "      <td>341.187500</td>\n",
       "      <td>626.729167</td>\n",
       "      <td>21.956809</td>\n",
       "      <td>410.354167</td>\n",
       "      <td>0.743097</td>\n",
       "      <td>19.882045</td>\n",
       "      <td>0.584278</td>\n",
       "      <td>0.841438</td>\n",
       "      <td>56.259127</td>\n",
       "      <td>...</td>\n",
       "      <td>0.006177</td>\n",
       "      <td>1.722803e-04</td>\n",
       "      <td>48.0</td>\n",
       "      <td>0.612885</td>\n",
       "      <td>0.002459</td>\n",
       "      <td>81.503288</td>\n",
       "      <td>0.832998</td>\n",
       "      <td>0.054708</td>\n",
       "      <td>16377.0</td>\n",
       "      <td>0.249893</td>\n",
       "    </tr>\n",
       "    <tr>\n",
       "      <th>41932</th>\n",
       "      <td>0</td>\n",
       "      <td>193.629630</td>\n",
       "      <td>293.518519</td>\n",
       "      <td>19.240284</td>\n",
       "      <td>222.320988</td>\n",
       "      <td>0.595010</td>\n",
       "      <td>15.458614</td>\n",
       "      <td>0.657741</td>\n",
       "      <td>0.822592</td>\n",
       "      <td>21.745826</td>\n",
       "      <td>...</td>\n",
       "      <td>0.000012</td>\n",
       "      <td>1.537746e-06</td>\n",
       "      <td>81.0</td>\n",
       "      <td>0.418691</td>\n",
       "      <td>-0.043396</td>\n",
       "      <td>58.475510</td>\n",
       "      <td>0.863457</td>\n",
       "      <td>0.008698</td>\n",
       "      <td>15684.0</td>\n",
       "      <td>0.239319</td>\n",
       "    </tr>\n",
       "    <tr>\n",
       "      <th>286992</th>\n",
       "      <td>1</td>\n",
       "      <td>205.880952</td>\n",
       "      <td>418.690476</td>\n",
       "      <td>28.511625</td>\n",
       "      <td>280.702381</td>\n",
       "      <td>0.778724</td>\n",
       "      <td>15.549251</td>\n",
       "      <td>0.493391</td>\n",
       "      <td>0.745458</td>\n",
       "      <td>36.163828</td>\n",
       "      <td>...</td>\n",
       "      <td>0.000402</td>\n",
       "      <td>5.901593e-06</td>\n",
       "      <td>84.0</td>\n",
       "      <td>0.738734</td>\n",
       "      <td>0.086906</td>\n",
       "      <td>72.252051</td>\n",
       "      <td>0.727469</td>\n",
       "      <td>0.051429</td>\n",
       "      <td>17294.0</td>\n",
       "      <td>0.263885</td>\n",
       "    </tr>\n",
       "    <tr>\n",
       "      <th>431148</th>\n",
       "      <td>1</td>\n",
       "      <td>226.983607</td>\n",
       "      <td>453.409836</td>\n",
       "      <td>28.336328</td>\n",
       "      <td>296.573770</td>\n",
       "      <td>0.756925</td>\n",
       "      <td>16.299006</td>\n",
       "      <td>0.498546</td>\n",
       "      <td>0.765108</td>\n",
       "      <td>37.931332</td>\n",
       "      <td>...</td>\n",
       "      <td>0.000842</td>\n",
       "      <td>-2.782167e-06</td>\n",
       "      <td>61.0</td>\n",
       "      <td>0.753937</td>\n",
       "      <td>0.220599</td>\n",
       "      <td>74.209229</td>\n",
       "      <td>0.754098</td>\n",
       "      <td>0.064188</td>\n",
       "      <td>13846.0</td>\n",
       "      <td>0.211273</td>\n",
       "    </tr>\n",
       "  </tbody>\n",
       "</table>\n",
       "<p>5 rows × 47 columns</p>\n",
       "</div>"
      ],
      "text/plain": [
       "        is_tumor        area   bbox_area  compactness  convex_area  \\\n",
       "393330         1  232.352941  452.505882    26.859563   308.188235   \n",
       "436020         0  341.187500  626.729167    21.956809   410.354167   \n",
       "41932          0  193.629630  293.518519    19.240284   222.320988   \n",
       "286992         1  205.880952  418.690476    28.511625   280.702381   \n",
       "431148         1  226.983607  453.409836    28.336328   296.573770   \n",
       "\n",
       "        eccentricity  equivalent_diameter    extent  fractal_dimension  \\\n",
       "393330      0.746728            16.416288  0.523728           0.750724   \n",
       "436020      0.743097            19.882045  0.584278           0.841438   \n",
       "41932       0.595010            15.458614  0.657741           0.822592   \n",
       "286992      0.778724            15.549251  0.493391           0.745458   \n",
       "431148      0.756925            16.299006  0.498546           0.765108   \n",
       "\n",
       "        inertia_tensor_eigvals_1           ...             moments_hu_6  \\\n",
       "393330                 34.891337           ...                 0.000035   \n",
       "436020                 56.259127           ...                 0.006177   \n",
       "41932                  21.745826           ...                 0.000012   \n",
       "286992                 36.163828           ...                 0.000402   \n",
       "431148                 37.931332           ...                 0.000842   \n",
       "\n",
       "        moments_hu_7  nuclei  nuclei_intensity_over_entire_image  orientation  \\\n",
       "393330 -7.292257e-08    85.0                            0.633790    -0.088111   \n",
       "436020  1.722803e-04    48.0                            0.612885     0.002459   \n",
       "41932   1.537746e-06    81.0                            0.418691    -0.043396   \n",
       "286992  5.901593e-06    84.0                            0.738734     0.086906   \n",
       "431148 -2.782167e-06    61.0                            0.753937     0.220599   \n",
       "\n",
       "        perimeter  solidity   texture  total_nuclei_area  \\\n",
       "393330  74.092669  0.751866  0.017898            19750.0   \n",
       "436020  81.503288  0.832998  0.054708            16377.0   \n",
       "41932   58.475510  0.863457  0.008698            15684.0   \n",
       "286992  72.252051  0.727469  0.051429            17294.0   \n",
       "431148  74.209229  0.754098  0.064188            13846.0   \n",
       "\n",
       "        total_nuclei_area_ratio  \n",
       "393330                 0.301361  \n",
       "436020                 0.249893  \n",
       "41932                  0.239319  \n",
       "286992                 0.263885  \n",
       "431148                 0.211273  \n",
       "\n",
       "[5 rows x 47 columns]"
      ]
     },
     "execution_count": 7,
     "metadata": {},
     "output_type": "execute_result"
    }
   ],
   "source": [
    "train_samples = pd.read_table('/Z/personal-folders/interns/saket/github/pywsi/data/patch_df/train_df_segmented.tsv')\n",
    "train_samples = train_samples.drop(columns='0')\n",
    "\n",
    "validation_samples = pd.read_table('/Z/personal-folders/interns/saket/github/pywsi/data/patch_df/validate_df_with_mask_segmented.tsv')\n",
    "validation_samples = validation_samples.drop(columns='0')\n",
    "\n",
    "\n",
    "train_samples_labels = pd.read_table(\n",
    "    '/Z/personal-folders/interns/saket/github/pywsi/data/patch_df/train_df_with_mask.tsv'\n",
    ")\n",
    "validation_samples_labels = pd.read_table(\n",
    "    '/Z/personal-folders/interns/saket/github/pywsi/data/patch_df/validate_df_with_mask.tsv'\n",
    ")\n",
    "train_samples = order(train_samples, ['is_tumor'])\n",
    "train_samples.is_tumor = train_samples.is_tumor.astype('int32')\n",
    "\n",
    "train_samples.to_csv('/Z/personal-folders/interns/saket/github/pywsi/data/patch_df/train_df_segmented_with_labels.tsv',\n",
    "                    index=False,\n",
    "                    header=True,\n",
    "                    sep='\\t')\n",
    "\n",
    "validation_samples = order(validation_samples, ['is_tumor'])\n",
    "validation_samples.is_tumor = validation_samples.is_tumor.astype('int32')\n",
    "validation_samples.to_csv('/Z/personal-folders/interns/saket/github/pywsi/data/patch_df/validate_df_segmented_with_labels.tsv',\n",
    "                    index=False,\n",
    "                    header=True,\n",
    "                    sep='\\t')\n",
    "\n",
    "\n",
    "# Sample only half the points\n",
    "train_samples_tumor = train_samples[train_samples.is_tumor==True].sample(frac=0.45, random_state=42)\n",
    "train_samples_normal = train_samples[train_samples.is_tumor==False].sample(frac=0.45, random_state=43)\n",
    "\n",
    "validation_samples_tumor = validation_samples[validation_samples.is_tumor==True].sample(frac=0.45, random_state=42)\n",
    "validation_samples_normal = validation_samples[validation_samples.is_tumor==False].sample(frac=0.45, random_state=43)\n",
    "\n",
    "\n",
    "train_samples = pd.concat([train_samples_tumor, train_samples_normal]).sample(frac=1, random_state=42)\n",
    "validation_samples = pd.concat([validation_samples_tumor, validation_samples_normal]).sample(frac=1, random_state=43)\n",
    "train_samples = train_samples.dropna()\n",
    "validation_samples = validation_samples.dropna()\n",
    "\n",
    "\n",
    "train_samples.to_csv('/Z/personal-folders/interns/saket/github/pywsi/data/patch_df/train_df_segmented_with_labels_subsampled.tsv',\n",
    "                    index=False,\n",
    "                    header=True,\n",
    "                    sep='\\t')\n",
    "\n",
    "\n",
    "validation_samples.to_csv('/Z/personal-folders/interns/saket/github/pywsi/data/patch_df/validate_df_segmented_with_labels_subsampled.tsv',\n",
    "                    index=False,\n",
    "                    header=True,\n",
    "                    sep='\\t')\n",
    "\n",
    "train_samples.head()"
   ]
  },
  {
   "cell_type": "code",
   "execution_count": 8,
   "metadata": {},
   "outputs": [
    {
     "data": {
      "text/plain": [
       "25675"
      ]
     },
     "execution_count": 8,
     "metadata": {},
     "output_type": "execute_result"
    }
   ],
   "source": [
    "len(validation_samples.index)"
   ]
  },
  {
   "cell_type": "code",
   "execution_count": 9,
   "metadata": {},
   "outputs": [
    {
     "name": "stdout",
     "output_type": "stream",
     "text": [
      "Tensor(\"DecodeCSV:0\", shape=(), dtype=float32)\n"
     ]
    }
   ],
   "source": [
    "training_init_op, training_next_batch =  input_fn(['/Z/personal-folders/interns/saket/github/pywsi/data/patch_df/train_df_segmented_with_labels_subsampled.tsv'],\n",
    "                                                  1024)\n",
    "\n"
   ]
  },
  {
   "cell_type": "code",
   "execution_count": 10,
   "metadata": {},
   "outputs": [
    {
     "name": "stdout",
     "output_type": "stream",
     "text": [
      "Step 0, Loss: -1344.739990, Acc: 0.848684\n",
      "Step 1, Loss: -2725.000000, Acc: 0.856360\n",
      "Step 2, Loss: -4103.399902, Acc: 0.864035\n",
      "Step 3, Loss: -5471.580078, Acc: 0.859649\n",
      "Step 4, Loss: -6832.540039, Acc: 0.865132\n",
      "Step 5, Loss: -8182.600098, Acc: 0.867325\n",
      "Step 6, Loss: -9512.740234, Acc: 0.867325\n",
      "Step 7, Loss: -10001.000000, Acc: 0.871711\n",
      "Step 8, Loss: -10001.000000, Acc: 0.870614\n",
      "Step 9, Loss: -10001.000000, Acc: 0.869518\n",
      "Step 10, Loss: -10001.000000, Acc: 0.869518\n",
      "Step 11, Loss: -10001.000000, Acc: 0.869518\n",
      "Step 12, Loss: -10001.000000, Acc: 0.867325\n",
      "Step 13, Loss: -10001.000000, Acc: 0.872807\n",
      "Step 14, Loss: -10001.000000, Acc: 0.871711\n",
      "Step 15, Loss: -10001.000000, Acc: 0.868421\n",
      "Step 16, Loss: -10001.000000, Acc: 0.869518\n",
      "Step 17, Loss: -10001.000000, Acc: 0.869518\n",
      "Step 18, Loss: -10001.000000, Acc: 0.871711\n",
      "Step 19, Loss: -10001.000000, Acc: 0.871711\n",
      "Step 20, Loss: -10001.000000, Acc: 0.870614\n",
      "Step 21, Loss: -10001.000000, Acc: 0.869518\n"
     ]
    },
    {
     "ename": "KeyboardInterrupt",
     "evalue": "",
     "output_type": "error",
     "traceback": [
      "\u001b[0;31m---------------------------------------------------------------------------\u001b[0m",
      "\u001b[0;31mKeyboardInterrupt\u001b[0m                         Traceback (most recent call last)",
      "\u001b[0;32m<ipython-input-10-2be8de44dde5>\u001b[0m in \u001b[0;36m<module>\u001b[0;34m()\u001b[0m\n\u001b[1;32m      3\u001b[0m     \u001b[0;32mwhile\u001b[0m \u001b[0;32mTrue\u001b[0m\u001b[0;34m:\u001b[0m\u001b[0;34m\u001b[0m\u001b[0m\n\u001b[1;32m      4\u001b[0m         \u001b[0;32mtry\u001b[0m\u001b[0;34m:\u001b[0m\u001b[0;34m\u001b[0m\u001b[0m\n\u001b[0;32m----> 5\u001b[0;31m             \u001b[0mtraining_features_batch\u001b[0m\u001b[0;34m,\u001b[0m \u001b[0mtraining_label_batch\u001b[0m \u001b[0;34m=\u001b[0m \u001b[0msess\u001b[0m\u001b[0;34m.\u001b[0m\u001b[0mrun\u001b[0m\u001b[0;34m(\u001b[0m\u001b[0mtraining_next_batch\u001b[0m\u001b[0;34m)\u001b[0m\u001b[0;34m\u001b[0m\u001b[0m\n\u001b[0m\u001b[1;32m      6\u001b[0m         \u001b[0;32mexcept\u001b[0m \u001b[0mtf\u001b[0m\u001b[0;34m.\u001b[0m\u001b[0merrors\u001b[0m\u001b[0;34m.\u001b[0m\u001b[0mOutOfRangeError\u001b[0m\u001b[0;34m:\u001b[0m\u001b[0;34m\u001b[0m\u001b[0m\n\u001b[1;32m      7\u001b[0m             \u001b[0;32mbreak\u001b[0m\u001b[0;34m\u001b[0m\u001b[0m\n",
      "\u001b[0;32m~/anaconda3/lib/python3.5/site-packages/tensorflow/python/client/session.py\u001b[0m in \u001b[0;36mrun\u001b[0;34m(self, fetches, feed_dict, options, run_metadata)\u001b[0m\n\u001b[1;32m    898\u001b[0m     \u001b[0;32mtry\u001b[0m\u001b[0;34m:\u001b[0m\u001b[0;34m\u001b[0m\u001b[0m\n\u001b[1;32m    899\u001b[0m       result = self._run(None, fetches, feed_dict, options_ptr,\n\u001b[0;32m--> 900\u001b[0;31m                          run_metadata_ptr)\n\u001b[0m\u001b[1;32m    901\u001b[0m       \u001b[0;32mif\u001b[0m \u001b[0mrun_metadata\u001b[0m\u001b[0;34m:\u001b[0m\u001b[0;34m\u001b[0m\u001b[0m\n\u001b[1;32m    902\u001b[0m         \u001b[0mproto_data\u001b[0m \u001b[0;34m=\u001b[0m \u001b[0mtf_session\u001b[0m\u001b[0;34m.\u001b[0m\u001b[0mTF_GetBuffer\u001b[0m\u001b[0;34m(\u001b[0m\u001b[0mrun_metadata_ptr\u001b[0m\u001b[0;34m)\u001b[0m\u001b[0;34m\u001b[0m\u001b[0m\n",
      "\u001b[0;32m~/anaconda3/lib/python3.5/site-packages/tensorflow/python/client/session.py\u001b[0m in \u001b[0;36m_run\u001b[0;34m(self, handle, fetches, feed_dict, options, run_metadata)\u001b[0m\n\u001b[1;32m   1133\u001b[0m     \u001b[0;32mif\u001b[0m \u001b[0mfinal_fetches\u001b[0m \u001b[0;32mor\u001b[0m \u001b[0mfinal_targets\u001b[0m \u001b[0;32mor\u001b[0m \u001b[0;34m(\u001b[0m\u001b[0mhandle\u001b[0m \u001b[0;32mand\u001b[0m \u001b[0mfeed_dict_tensor\u001b[0m\u001b[0;34m)\u001b[0m\u001b[0;34m:\u001b[0m\u001b[0;34m\u001b[0m\u001b[0m\n\u001b[1;32m   1134\u001b[0m       results = self._do_run(handle, final_targets, final_fetches,\n\u001b[0;32m-> 1135\u001b[0;31m                              feed_dict_tensor, options, run_metadata)\n\u001b[0m\u001b[1;32m   1136\u001b[0m     \u001b[0;32melse\u001b[0m\u001b[0;34m:\u001b[0m\u001b[0;34m\u001b[0m\u001b[0m\n\u001b[1;32m   1137\u001b[0m       \u001b[0mresults\u001b[0m \u001b[0;34m=\u001b[0m \u001b[0;34m[\u001b[0m\u001b[0;34m]\u001b[0m\u001b[0;34m\u001b[0m\u001b[0m\n",
      "\u001b[0;32m~/anaconda3/lib/python3.5/site-packages/tensorflow/python/client/session.py\u001b[0m in \u001b[0;36m_do_run\u001b[0;34m(self, handle, target_list, fetch_list, feed_dict, options, run_metadata)\u001b[0m\n\u001b[1;32m   1314\u001b[0m     \u001b[0;32mif\u001b[0m \u001b[0mhandle\u001b[0m \u001b[0;32mis\u001b[0m \u001b[0;32mNone\u001b[0m\u001b[0;34m:\u001b[0m\u001b[0;34m\u001b[0m\u001b[0m\n\u001b[1;32m   1315\u001b[0m       return self._do_call(_run_fn, feeds, fetches, targets, options,\n\u001b[0;32m-> 1316\u001b[0;31m                            run_metadata)\n\u001b[0m\u001b[1;32m   1317\u001b[0m     \u001b[0;32melse\u001b[0m\u001b[0;34m:\u001b[0m\u001b[0;34m\u001b[0m\u001b[0m\n\u001b[1;32m   1318\u001b[0m       \u001b[0;32mreturn\u001b[0m \u001b[0mself\u001b[0m\u001b[0;34m.\u001b[0m\u001b[0m_do_call\u001b[0m\u001b[0;34m(\u001b[0m\u001b[0m_prun_fn\u001b[0m\u001b[0;34m,\u001b[0m \u001b[0mhandle\u001b[0m\u001b[0;34m,\u001b[0m \u001b[0mfeeds\u001b[0m\u001b[0;34m,\u001b[0m \u001b[0mfetches\u001b[0m\u001b[0;34m)\u001b[0m\u001b[0;34m\u001b[0m\u001b[0m\n",
      "\u001b[0;32m~/anaconda3/lib/python3.5/site-packages/tensorflow/python/client/session.py\u001b[0m in \u001b[0;36m_do_call\u001b[0;34m(self, fn, *args)\u001b[0m\n\u001b[1;32m   1320\u001b[0m   \u001b[0;32mdef\u001b[0m \u001b[0m_do_call\u001b[0m\u001b[0;34m(\u001b[0m\u001b[0mself\u001b[0m\u001b[0;34m,\u001b[0m \u001b[0mfn\u001b[0m\u001b[0;34m,\u001b[0m \u001b[0;34m*\u001b[0m\u001b[0margs\u001b[0m\u001b[0;34m)\u001b[0m\u001b[0;34m:\u001b[0m\u001b[0;34m\u001b[0m\u001b[0m\n\u001b[1;32m   1321\u001b[0m     \u001b[0;32mtry\u001b[0m\u001b[0;34m:\u001b[0m\u001b[0;34m\u001b[0m\u001b[0m\n\u001b[0;32m-> 1322\u001b[0;31m       \u001b[0;32mreturn\u001b[0m \u001b[0mfn\u001b[0m\u001b[0;34m(\u001b[0m\u001b[0;34m*\u001b[0m\u001b[0margs\u001b[0m\u001b[0;34m)\u001b[0m\u001b[0;34m\u001b[0m\u001b[0m\n\u001b[0m\u001b[1;32m   1323\u001b[0m     \u001b[0;32mexcept\u001b[0m \u001b[0merrors\u001b[0m\u001b[0;34m.\u001b[0m\u001b[0mOpError\u001b[0m \u001b[0;32mas\u001b[0m \u001b[0me\u001b[0m\u001b[0;34m:\u001b[0m\u001b[0;34m\u001b[0m\u001b[0m\n\u001b[1;32m   1324\u001b[0m       \u001b[0mmessage\u001b[0m \u001b[0;34m=\u001b[0m \u001b[0mcompat\u001b[0m\u001b[0;34m.\u001b[0m\u001b[0mas_text\u001b[0m\u001b[0;34m(\u001b[0m\u001b[0me\u001b[0m\u001b[0;34m.\u001b[0m\u001b[0mmessage\u001b[0m\u001b[0;34m)\u001b[0m\u001b[0;34m\u001b[0m\u001b[0m\n",
      "\u001b[0;32m~/anaconda3/lib/python3.5/site-packages/tensorflow/python/client/session.py\u001b[0m in \u001b[0;36m_run_fn\u001b[0;34m(feed_dict, fetch_list, target_list, options, run_metadata)\u001b[0m\n\u001b[1;32m   1305\u001b[0m       \u001b[0mself\u001b[0m\u001b[0;34m.\u001b[0m\u001b[0m_extend_graph\u001b[0m\u001b[0;34m(\u001b[0m\u001b[0;34m)\u001b[0m\u001b[0;34m\u001b[0m\u001b[0m\n\u001b[1;32m   1306\u001b[0m       return self._call_tf_sessionrun(\n\u001b[0;32m-> 1307\u001b[0;31m           options, feed_dict, fetch_list, target_list, run_metadata)\n\u001b[0m\u001b[1;32m   1308\u001b[0m \u001b[0;34m\u001b[0m\u001b[0m\n\u001b[1;32m   1309\u001b[0m     \u001b[0;32mdef\u001b[0m \u001b[0m_prun_fn\u001b[0m\u001b[0;34m(\u001b[0m\u001b[0mhandle\u001b[0m\u001b[0;34m,\u001b[0m \u001b[0mfeed_dict\u001b[0m\u001b[0;34m,\u001b[0m \u001b[0mfetch_list\u001b[0m\u001b[0;34m)\u001b[0m\u001b[0;34m:\u001b[0m\u001b[0;34m\u001b[0m\u001b[0m\n",
      "\u001b[0;32m~/anaconda3/lib/python3.5/site-packages/tensorflow/python/client/session.py\u001b[0m in \u001b[0;36m_call_tf_sessionrun\u001b[0;34m(self, options, feed_dict, fetch_list, target_list, run_metadata)\u001b[0m\n\u001b[1;32m   1407\u001b[0m       return tf_session.TF_SessionRun_wrapper(\n\u001b[1;32m   1408\u001b[0m           \u001b[0mself\u001b[0m\u001b[0;34m.\u001b[0m\u001b[0m_session\u001b[0m\u001b[0;34m,\u001b[0m \u001b[0moptions\u001b[0m\u001b[0;34m,\u001b[0m \u001b[0mfeed_dict\u001b[0m\u001b[0;34m,\u001b[0m \u001b[0mfetch_list\u001b[0m\u001b[0;34m,\u001b[0m \u001b[0mtarget_list\u001b[0m\u001b[0;34m,\u001b[0m\u001b[0;34m\u001b[0m\u001b[0m\n\u001b[0;32m-> 1409\u001b[0;31m           run_metadata)\n\u001b[0m\u001b[1;32m   1410\u001b[0m     \u001b[0;32melse\u001b[0m\u001b[0;34m:\u001b[0m\u001b[0;34m\u001b[0m\u001b[0m\n\u001b[1;32m   1411\u001b[0m       \u001b[0;32mwith\u001b[0m \u001b[0merrors\u001b[0m\u001b[0;34m.\u001b[0m\u001b[0mraise_exception_on_not_ok_status\u001b[0m\u001b[0;34m(\u001b[0m\u001b[0;34m)\u001b[0m \u001b[0;32mas\u001b[0m \u001b[0mstatus\u001b[0m\u001b[0;34m:\u001b[0m\u001b[0;34m\u001b[0m\u001b[0m\n",
      "\u001b[0;31mKeyboardInterrupt\u001b[0m: "
     ]
    }
   ],
   "source": [
    "for epoch in range(num_steps):\n",
    "    sess.run(training_init_op)    \n",
    "    while True:\n",
    "        try:\n",
    "            training_features_batch, training_label_batch = sess.run(training_next_batch)\n",
    "        except tf.errors.OutOfRangeError:\n",
    "            break\n",
    "        _, l = sess.run([train_op, loss_op], \n",
    "                        feed_dict={X: training_features_batch,\n",
    "                                   Y: training_label_batch})\n",
    "    acc = sess.run(accuracy_op, \n",
    "                   feed_dict={X: training_features_batch, \n",
    "                              Y: training_label_batch})\n",
    "    print('Step %i, Loss: %f, Acc: %f' % (epoch, l, acc))"
   ]
  },
  {
   "cell_type": "code",
   "execution_count": 11,
   "metadata": {},
   "outputs": [
    {
     "name": "stdout",
     "output_type": "stream",
     "text": [
      "Tensor(\"DecodeCSV:0\", shape=(), dtype=float32)\n"
     ]
    }
   ],
   "source": [
    "validation_init_op, validation_next_batch =  input_fn(['/Z/personal-folders/interns/saket/github/pywsi/data/patch_df/validate_df_segmented_with_labels_subsampled.tsv'],\n",
    "                                                  batch_size)\n"
   ]
  },
  {
   "cell_type": "code",
   "execution_count": 12,
   "metadata": {},
   "outputs": [],
   "source": [
    "validation_acc = []\n",
    "validation_labels = []\n",
    "sess.run(validation_init_op)    \n",
    "while True:\n",
    "    try:\n",
    "        validation_features_batch,  validation_label_batch = sess.run(validation_next_batch)\n",
    "        validation_labels.append(validation_label_batch)\n",
    "    except tf.errors.OutOfRangeError:\n",
    "        break\n",
    "    acc = sess.run(accuracy_op, \n",
    "                   feed_dict={X: validation_features_batch, \n",
    "                              Y: validation_label_batch})\n",
    "    validation_acc.append(acc)"
   ]
  },
  {
   "cell_type": "code",
   "execution_count": 13,
   "metadata": {},
   "outputs": [
    {
     "data": {
      "text/plain": [
       "(array([ 5098.,     0.,     0.,     0.,     0.,     0.,     0.,     0.,\n",
       "            0., 20577.]),\n",
       " array([0. , 0.1, 0.2, 0.3, 0.4, 0.5, 0.6, 0.7, 0.8, 0.9, 1. ]),\n",
       " <a list of 10 Patch objects>)"
      ]
     },
     "execution_count": 13,
     "metadata": {},
     "output_type": "execute_result"
    },
    {
     "data": {
      "image/png": "[encoded data removed]",
      "text/plain": [
       "<Figure size 432x288 with 1 Axes>"
      ]
     },
     "metadata": {},
     "output_type": "display_data"
    }
   ],
   "source": [
    "#len(validation_acc)\n",
    "plt.hist(validation_acc)"
   ]
  },
  {
   "cell_type": "code",
   "execution_count": 18,
   "metadata": {},
   "outputs": [
    {
     "data": {
      "text/plain": [
       "0.926964"
      ]
     },
     "execution_count": 18,
     "metadata": {},
     "output_type": "execute_result"
    }
   ],
   "source": [
    "acc[0][1]"
   ]
  },
  {
   "cell_type": "code",
   "execution_count": 15,
   "metadata": {},
   "outputs": [
    {
     "data": {
      "text/plain": [
       "array([1], dtype=int32)"
      ]
     },
     "execution_count": 15,
     "metadata": {},
     "output_type": "execute_result"
    }
   ],
   "source": [
    "validation_label_batch"
   ]
  },
  {
   "cell_type": "code",
   "execution_count": 19,
   "metadata": {},
   "outputs": [],
   "source": [
    "validation_prob = []\n",
    "validation_labels = []\n",
    "sess.run(validation_init_op)    \n",
    "while True:\n",
    "    try:\n",
    "        validation_features_batch,  validation_label_batch = sess.run(validation_next_batch)\n",
    "        validation_labels.append(validation_label_batch[0])\n",
    "    except tf.errors.OutOfRangeError:\n",
    "        break\n",
    "    acc = sess.run(infer_op, \n",
    "                   feed_dict={X: validation_features_batch})\n",
    "    validation_prob.append(acc[0][1])"
   ]
  },
  {
   "cell_type": "code",
   "execution_count": 22,
   "metadata": {},
   "outputs": [],
   "source": [
    "average_precision = average_precision_score(validation_labels, validation_prob)\n",
    "\n",
    "precision, recall, _ = precision_recall_curve(validation_labels, validation_prob)\n"
   ]
  },
  {
   "cell_type": "code",
   "execution_count": 27,
   "metadata": {},
   "outputs": [
    {
     "data": {
      "image/png": "[encoded data removed]",
      "text/plain": [
       "<Figure size 576x576 with 1 Axes>"
      ]
     },
     "metadata": {},
     "output_type": "display_data"
    }
   ],
   "source": [
    "fig, ax = plt.subplots(figsize=(8, 8))\n",
    "\n",
    "ax.step(recall, precision, color='b', alpha=0.2,\n",
    "         where='post')\n",
    "ax.fill_between(recall, precision, step='post', alpha=0.2,\n",
    "                 color='b')\n",
    "\n",
    "ax.set_xlabel('Recall')\n",
    "ax.set_ylabel('Precision')\n",
    "ax.set_ylim([0.0, 1.05])\n",
    "ax.set_xlim([0.0, 1.0])\n",
    "ax.set_title('2-class Precision-Recall curve: AP={0:0.2f}'.format(\n",
    "          average_precision))\n",
    "fig.tight_layout()\n",
    "fig.savefig('presentation_images/random_forest_PRAUC.pdf')"
   ]
  },
  {
   "cell_type": "markdown",
   "metadata": {},
   "source": [
    "# Patch stuff"
   ]
  },
  {
   "cell_type": "code",
   "execution_count": null,
   "metadata": {},
   "outputs": [],
   "source": []
  },
  {
   "cell_type": "code",
   "execution_count": 28,
   "metadata": {},
   "outputs": [
    {
     "name": "stdout",
     "output_type": "stream",
     "text": [
      "   is_tissue  is_tumor        uid  \\\n",
      "0      False     False  tumor_005   \n",
      "1      False     False  tumor_005   \n",
      "2      False     False  tumor_005   \n",
      "3      False     False  tumor_005   \n",
      "4      False     False  tumor_005   \n",
      "\n",
      "                                          slide_path  \\\n",
      "0  /Z/personal-folders/interns/saket/histopath_da...   \n",
      "1  /Z/personal-folders/interns/saket/histopath_da...   \n",
      "2  /Z/personal-folders/interns/saket/histopath_da...   \n",
      "3  /Z/personal-folders/interns/saket/histopath_da...   \n",
      "4  /Z/personal-folders/interns/saket/histopath_da...   \n",
      "\n",
      "                                       json_filepath tile_loc row col  \\\n",
      "0  /Z/personal-folders/interns/saket/histopath_da...   (0, 0)   0   0   \n",
      "1  /Z/personal-folders/interns/saket/histopath_da...   (0, 1)   0   1   \n",
      "2  /Z/personal-folders/interns/saket/histopath_da...   (0, 2)   0   2   \n",
      "3  /Z/personal-folders/interns/saket/histopath_da...   (0, 3)   0   3   \n",
      "4  /Z/personal-folders/interns/saket/histopath_da...   (0, 4)   0   4   \n",
      "\n",
      "                img_path               mask_path  \n",
      "0  /tmp/white.img.pickle  /tmp/white.mask.pickle  \n",
      "1  /tmp/white.img.pickle  /tmp/white.mask.pickle  \n",
      "2  /tmp/white.img.pickle  /tmp/white.mask.pickle  \n",
      "3  /tmp/white.img.pickle  /tmp/white.mask.pickle  \n",
      "4  /tmp/white.img.pickle  /tmp/white.mask.pickle  \n"
     ]
    }
   ],
   "source": [
    "wsi = '/Z/personal-folders/interns/saket/histopath_data/CAMELYON16/training/tumor/tumor_005.tif'\n",
    "json_filepath = '/Z/personal-folders/interns/saket/histopath_data/CAMELYON16/training/lesion_annotations_json/tumor_005.json'\n",
    "savedir = '/Z/personal-folders/interns/saket/github/pywsi/data/wsi_heatmap_rf/'\n",
    "os.makedirs(savedir, exist_ok=True)\n",
    "img_mask_dir = '/Z/personal-folders/interns/saket/github/pywsi/data/patch_img_and_mask/'\n",
    "basename = path_leaf(wsi).replace('.tif', '')\n",
    "#if basename!= 'tumor_110':\n",
    "#    continue\n",
    "patchsize = 256\n",
    "saveto = os.path.join(savedir, basename + '.joblib.pickle')\n",
    "saveto_original = os.path.join(savedir,\n",
    "                               basename + '.original.joblib.pickle')\n",
    "\n",
    "all_samples =  pd.read_table('/Z/personal-folders/interns/saket/github/pywsi/data/patch_df/tumor_005.tsv')\n",
    "if 'img_path' not in all_samples.columns:\n",
    "    assert img_mask_dir is not None, 'Need to provide directory if img_path column is missing'\n",
    "    tile_loc = all_samples.tile_loc.astype(str)\n",
    "    tile_loc = tile_loc.str.replace(' ', '').str.replace(\n",
    "        ')', '').str.replace('(', '')\n",
    "\n",
    "    all_samples[['row', 'col']] = tile_loc.str.split(',', expand=True)\n",
    "    all_samples['img_path'] = img_mask_dir + '/' + all_samples[[\n",
    "        'uid', 'row', 'col'\n",
    "    ]].apply(\n",
    "        lambda x: '_'.join(x.values.tolist()),\n",
    "        axis=1) + '.img.joblib.pickle'\n",
    "\n",
    "    all_samples['mask_path'] = img_mask_dir + '/' + all_samples[[\n",
    "        'uid', 'row', 'col'\n",
    "    ]].apply(\n",
    "        lambda x: '_'.join(x.values.tolist()),\n",
    "        axis=1) + '.mask.joblib.pickle'\n",
    "    \n",
    "if not os.path.isfile('/tmp/white.img.pickle'):\n",
    "    white_img = np.ones(\n",
    "        [patchsize, patchsize, 3], dtype=np.uint8) * 255\n",
    "    joblib.dump(white_img, '/tmp/white.img.pickle')\n",
    "\n",
    "# Definitely not a tumor and hence all black\n",
    "if not os.path.isfile('/tmp/white.mask.pickle'):\n",
    "    white_img_mask = np.ones(\n",
    "        [patchsize, patchsize], dtype=np.uint8) * 0\n",
    "    joblib.dump(white_img_mask, '/tmp/white.mask.pickle')\n",
    "\n",
    "all_samples.loc[all_samples.is_tissue == False,\n",
    "                'img_path'] = '/tmp/white.img.pickle'\n",
    "all_samples.loc[all_samples.is_tissue == False,\n",
    "                'mask_path'] = '/tmp/white.mask.pickle'\n",
    "for idx, row in all_samples.iterrows():\n",
    "    f = row['img_path']\n",
    "    if not os.path.isfile(f):\n",
    "        row['savedir'] = img_mask_dir\n",
    "        row['patch_size'] = patchsize\n",
    "        row['index'] = idx\n",
    "        save_images_and_mask(row)\n",
    "print(all_samples.head())"
   ]
  },
  {
   "cell_type": "code",
   "execution_count": null,
   "metadata": {},
   "outputs": [],
   "source": [
    "all_samples.to_csv('/Z/personal-folders/interns/saket/github/pywsi/data/patch_df/tumor_005_with_mask.tsv',\n",
    "                  index=False,\n",
    "                  header=True, sep='\\t')"
   ]
  },
  {
   "cell_type": "code",
   "execution_count": null,
   "metadata": {},
   "outputs": [],
   "source": [
    "testing_init_op, testing_next_batch =  input_fn(['/Z/personal-folders/interns/saket/github/pywsi/data/patch_df/tumor_005_with_mask_segmented.tsv'],\n",
    "                                                batch_size)\n"
   ]
  },
  {
   "cell_type": "code",
   "execution_count": 29,
   "metadata": {},
   "outputs": [
    {
     "data": {
      "text/html": [
       "<div>\n",
       "<style scoped>\n",
       "    .dataframe tbody tr th:only-of-type {\n",
       "        vertical-align: middle;\n",
       "    }\n",
       "\n",
       "    .dataframe tbody tr th {\n",
       "        vertical-align: top;\n",
       "    }\n",
       "\n",
       "    .dataframe thead th {\n",
       "        text-align: right;\n",
       "    }\n",
       "</style>\n",
       "<table border=\"1\" class=\"dataframe\">\n",
       "  <thead>\n",
       "    <tr style=\"text-align: right;\">\n",
       "      <th></th>\n",
       "      <th>is_tissue</th>\n",
       "      <th>is_tumor</th>\n",
       "      <th>uid</th>\n",
       "      <th>slide_path</th>\n",
       "      <th>json_filepath</th>\n",
       "      <th>tile_loc</th>\n",
       "      <th>row</th>\n",
       "      <th>col</th>\n",
       "      <th>img_path</th>\n",
       "      <th>mask_path</th>\n",
       "      <th>savedir</th>\n",
       "      <th>patch_size</th>\n",
       "      <th>segmented_png</th>\n",
       "      <th>segmented_tsv</th>\n",
       "    </tr>\n",
       "  </thead>\n",
       "  <tbody>\n",
       "    <tr>\n",
       "      <th>0</th>\n",
       "      <td>False</td>\n",
       "      <td>False</td>\n",
       "      <td>tumor_005</td>\n",
       "      <td>/Z/personal-folders/interns/saket/histopath_da...</td>\n",
       "      <td>/Z/personal-folders/interns/saket/histopath_da...</td>\n",
       "      <td>(0, 0)</td>\n",
       "      <td>0</td>\n",
       "      <td>0</td>\n",
       "      <td>/tmp/white.img.pickle</td>\n",
       "      <td>/tmp/white.mask.pickle</td>\n",
       "      <td>data/patch_segmented_tumor005</td>\n",
       "      <td>256</td>\n",
       "      <td>NaN</td>\n",
       "      <td>NaN</td>\n",
       "    </tr>\n",
       "    <tr>\n",
       "      <th>1</th>\n",
       "      <td>False</td>\n",
       "      <td>False</td>\n",
       "      <td>tumor_005</td>\n",
       "      <td>/Z/personal-folders/interns/saket/histopath_da...</td>\n",
       "      <td>/Z/personal-folders/interns/saket/histopath_da...</td>\n",
       "      <td>(0, 1)</td>\n",
       "      <td>0</td>\n",
       "      <td>1</td>\n",
       "      <td>/tmp/white.img.pickle</td>\n",
       "      <td>/tmp/white.mask.pickle</td>\n",
       "      <td>data/patch_segmented_tumor005</td>\n",
       "      <td>256</td>\n",
       "      <td>NaN</td>\n",
       "      <td>NaN</td>\n",
       "    </tr>\n",
       "    <tr>\n",
       "      <th>2</th>\n",
       "      <td>False</td>\n",
       "      <td>False</td>\n",
       "      <td>tumor_005</td>\n",
       "      <td>/Z/personal-folders/interns/saket/histopath_da...</td>\n",
       "      <td>/Z/personal-folders/interns/saket/histopath_da...</td>\n",
       "      <td>(0, 2)</td>\n",
       "      <td>0</td>\n",
       "      <td>2</td>\n",
       "      <td>/tmp/white.img.pickle</td>\n",
       "      <td>/tmp/white.mask.pickle</td>\n",
       "      <td>data/patch_segmented_tumor005</td>\n",
       "      <td>256</td>\n",
       "      <td>NaN</td>\n",
       "      <td>NaN</td>\n",
       "    </tr>\n",
       "    <tr>\n",
       "      <th>3</th>\n",
       "      <td>False</td>\n",
       "      <td>False</td>\n",
       "      <td>tumor_005</td>\n",
       "      <td>/Z/personal-folders/interns/saket/histopath_da...</td>\n",
       "      <td>/Z/personal-folders/interns/saket/histopath_da...</td>\n",
       "      <td>(0, 3)</td>\n",
       "      <td>0</td>\n",
       "      <td>3</td>\n",
       "      <td>/tmp/white.img.pickle</td>\n",
       "      <td>/tmp/white.mask.pickle</td>\n",
       "      <td>data/patch_segmented_tumor005</td>\n",
       "      <td>256</td>\n",
       "      <td>NaN</td>\n",
       "      <td>NaN</td>\n",
       "    </tr>\n",
       "    <tr>\n",
       "      <th>4</th>\n",
       "      <td>False</td>\n",
       "      <td>False</td>\n",
       "      <td>tumor_005</td>\n",
       "      <td>/Z/personal-folders/interns/saket/histopath_da...</td>\n",
       "      <td>/Z/personal-folders/interns/saket/histopath_da...</td>\n",
       "      <td>(0, 4)</td>\n",
       "      <td>0</td>\n",
       "      <td>4</td>\n",
       "      <td>/tmp/white.img.pickle</td>\n",
       "      <td>/tmp/white.mask.pickle</td>\n",
       "      <td>data/patch_segmented_tumor005</td>\n",
       "      <td>256</td>\n",
       "      <td>NaN</td>\n",
       "      <td>NaN</td>\n",
       "    </tr>\n",
       "  </tbody>\n",
       "</table>\n",
       "</div>"
      ],
      "text/plain": [
       "   is_tissue  is_tumor        uid  \\\n",
       "0      False     False  tumor_005   \n",
       "1      False     False  tumor_005   \n",
       "2      False     False  tumor_005   \n",
       "3      False     False  tumor_005   \n",
       "4      False     False  tumor_005   \n",
       "\n",
       "                                          slide_path  \\\n",
       "0  /Z/personal-folders/interns/saket/histopath_da...   \n",
       "1  /Z/personal-folders/interns/saket/histopath_da...   \n",
       "2  /Z/personal-folders/interns/saket/histopath_da...   \n",
       "3  /Z/personal-folders/interns/saket/histopath_da...   \n",
       "4  /Z/personal-folders/interns/saket/histopath_da...   \n",
       "\n",
       "                                       json_filepath tile_loc  row  col  \\\n",
       "0  /Z/personal-folders/interns/saket/histopath_da...   (0, 0)    0    0   \n",
       "1  /Z/personal-folders/interns/saket/histopath_da...   (0, 1)    0    1   \n",
       "2  /Z/personal-folders/interns/saket/histopath_da...   (0, 2)    0    2   \n",
       "3  /Z/personal-folders/interns/saket/histopath_da...   (0, 3)    0    3   \n",
       "4  /Z/personal-folders/interns/saket/histopath_da...   (0, 4)    0    4   \n",
       "\n",
       "                img_path               mask_path  \\\n",
       "0  /tmp/white.img.pickle  /tmp/white.mask.pickle   \n",
       "1  /tmp/white.img.pickle  /tmp/white.mask.pickle   \n",
       "2  /tmp/white.img.pickle  /tmp/white.mask.pickle   \n",
       "3  /tmp/white.img.pickle  /tmp/white.mask.pickle   \n",
       "4  /tmp/white.img.pickle  /tmp/white.mask.pickle   \n",
       "\n",
       "                         savedir  patch_size segmented_png segmented_tsv  \n",
       "0  data/patch_segmented_tumor005         256           NaN           NaN  \n",
       "1  data/patch_segmented_tumor005         256           NaN           NaN  \n",
       "2  data/patch_segmented_tumor005         256           NaN           NaN  \n",
       "3  data/patch_segmented_tumor005         256           NaN           NaN  \n",
       "4  data/patch_segmented_tumor005         256           NaN           NaN  "
      ]
     },
     "execution_count": 29,
     "metadata": {},
     "output_type": "execute_result"
    }
   ],
   "source": [
    "tumor005_segdf = pd.read_table('/Z/personal-folders/interns/saket/github/pywsi/data/patch_df/tumor_005_segmented.fixed.segmented.tsv')\n",
    "tumor005_segdf.head()"
   ]
  },
  {
   "cell_type": "code",
   "execution_count": 30,
   "metadata": {},
   "outputs": [
    {
     "data": {
      "text/plain": [
       "327756"
      ]
     },
     "execution_count": 30,
     "metadata": {},
     "output_type": "execute_result"
    }
   ],
   "source": [
    "n_samples = len(tumor005_segdf.index)\n",
    "n_samples"
   ]
  },
  {
   "cell_type": "code",
   "execution_count": 32,
   "metadata": {},
   "outputs": [
    {
     "name": "stdout",
     "output_type": "stream",
     "text": [
      "Total: 327756\n"
     ]
    }
   ],
   "source": [
    "slide = WSIReader(wsi, 40)\n",
    "n_cols = int(slide.dimensions[0] / patchsize)\n",
    "n_rows = int(slide.dimensions[1] / patchsize)\n",
    "assert n_rows * n_cols == n_samples, 'Some division error;'\n",
    "print('Total: {}'.format(n_samples))\n"
   ]
  },
  {
   "cell_type": "code",
   "execution_count": 33,
   "metadata": {},
   "outputs": [],
   "source": [
    "\"\"\"\n",
    "def generate_rows(samples, num_samples, batch_size=32):\n",
    "    while True:  # Loop forever so the generator never terminates        \n",
    "        for offset in range(0, num_samples, batch_size):\n",
    "            batch_samples = samples.iloc[offset:offset + batch_size]\n",
    "            is_tissue = batch_samples.is_tissue.tolist()\n",
    "            is_tumor = batch_samples.is_tumor.astype('int32').tolist()\n",
    "            features = []            \n",
    "            batch_samples = batch_samples.copy().drop(columns=['is_tissue', 'is_tumor'])\n",
    "            for _, batch_sample in batch_samples.iterrows():\n",
    "                row = batch_samples.values                \n",
    "                features.append(row)                \n",
    "            X_train = np.array(features)\n",
    "            y_train = np.array(labels)\n",
    "            \n",
    "            yield X_train, y_train\n",
    "\"\"\"\n",
    "def generate_rows(samples, num_samples, batch_size=1):\n",
    "    while True:  # Loop forever so the generator never terminates        \n",
    "        for offset in range(0, num_samples, batch_size):\n",
    "            batch_samples = samples.iloc[offset:offset + batch_size]\n",
    "            #is_tissue = batch_samples.is_tissue.tolist()\n",
    "            #is_tumor = batch_samples.is_tumor.astype('int32').tolist()\n",
    "            features = []            \n",
    "            labels = []\n",
    "            #batch_samples = batch_samples.copy().drop(columns=['is_tissue', 'is_tumor'])\n",
    "            for _, batch_sample in batch_samples.iterrows():\n",
    "                row = batch_sample.values                \n",
    "                label = int(batch_sample.is_tumor)\n",
    "                if batch_sample.is_tissue:\n",
    "                    feature = pd.read_table(os.path.join('/Z/personal-folders/interns/saket/github/pywsi', batch_sample.segmented_tsv))\n",
    "                    feature = feature.drop(columns=['is_tumor', 'is_tissue'])\n",
    "                    assert len(feature.columns) == 46\n",
    "                    features.append(feature.loc[0].values)  \n",
    "                else:\n",
    "                    values = [0.0]*46\n",
    "                    features.append(values)  \n",
    "                labels.append(label)\n",
    "            X_train = np.array(features, dtype=np.float32)\n",
    "            y_train = np.array(labels)\n",
    "            #print(X_train)\n",
    "            #print(y_train)\n",
    "            yield X_train,  y_train"
   ]
  },
  {
   "cell_type": "code",
   "execution_count": 55,
   "metadata": {},
   "outputs": [
    {
     "data": {
      "application/vnd.jupyter.widget-view+json": {
       "model_id": "50922e1c710f473f8f7df8f75f52947f",
       "version_major": 2,
       "version_minor": 0
      },
      "text/plain": [
       "HBox(children=(IntProgress(value=0, max=327756), HTML(value='')))"
      ]
     },
     "metadata": {},
     "output_type": "display_data"
    },
    {
     "name": "stdout",
     "output_type": "stream",
     "text": [
      "\n"
     ]
    }
   ],
   "source": [
    "predicted_thumbnails = list()\n",
    "batch_size = 1\n",
    "\"\"\"\n",
    "sess.run(testing_init_op)    \n",
    "while True:\n",
    "    try:\n",
    "        testing_features_batch,  testing_label_batch = sess.run(testing_next_batch)\n",
    "    except tf.errors.OutOfRangeError:\n",
    "        break\n",
    "    preds = sess.run(infer_op, \n",
    "                   feed_dict={X: testing_features_batch})\n",
    "    predicted_thumbnails.append(preds)\n",
    "\"\"\" \n",
    "true_labels = []\n",
    "for offset in tqdm_notebook(list(range(0, n_samples, batch_size))):\n",
    "    batch_samples = tumor005_segdf.iloc[offset:offset + batch_size]\n",
    "    X_test, true_label = next(\n",
    "        generate_rows(batch_samples, batch_size))\n",
    "    true_labels.append(true_label)\n",
    "    if batch_samples.is_tissue.nunique(\n",
    "    ) == 1 and batch_samples.iloc[0].is_tissue == False:\n",
    "        # all patches in this row do not have tissue, skip them all\n",
    "        #predicted_thumbnails.append(\n",
    "        #    np.zeros(batch_size, dtype=np.float32))\n",
    "        predicted_thumbnails.append(0)\n",
    "    else:\n",
    "        preds = sess.run(infer_op, \n",
    "                          feed_dict={X: X_test})\n",
    "        predicted_thumbnails.append(preds[0][1])\n",
    "predicted_thumbnails = np.asarray(predicted_thumbnails)"
   ]
  },
  {
   "cell_type": "code",
   "execution_count": 56,
   "metadata": {},
   "outputs": [
    {
     "data": {
      "text/plain": [
       "['/Z/personal-folders/interns/saket/github/pywsi/data/wsi_heatmap_rf/tumor_005.job.pickle']"
      ]
     },
     "execution_count": 56,
     "metadata": {},
     "output_type": "execute_result"
    }
   ],
   "source": [
    "savedir = '/Z/personal-folders/interns/saket/github/pywsi/data/wsi_heatmap_rf'\n",
    "saveto = os.path.join(savedir, 'tumor_005.job.pickle')\n",
    "os.makedirs(savedir, exist_ok=True)\n",
    "output_thumbnail_preds = predicted_thumbnails.reshape(\n",
    "                n_rows, n_cols)\n",
    "\n",
    "joblib.dump(output_thumbnail_preds, saveto)"
   ]
  },
  {
   "cell_type": "code",
   "execution_count": 61,
   "metadata": {},
   "outputs": [
    {
     "data": {
      "image/png": "[encoded data removed]",
      "text/plain": [
       "<Figure size 432x288 with 2 Axes>"
      ]
     },
     "metadata": {},
     "output_type": "display_data"
    }
   ],
   "source": [
    "fig, ax = plt.subplots()\n",
    "sns.set_style('white')\n",
    "x = ax.imshow(output_thumbnail_preds, cmap='coolwarm')\n",
    "plt.colorbar(x)\n",
    "fig.tight_layout()\n"
   ]
  },
  {
   "cell_type": "code",
   "execution_count": 64,
   "metadata": {},
   "outputs": [
    {
     "data": {
      "image/png": "[encoded data removed]",
      "text/plain": [
       "<Figure size 432x288 with 1 Axes>"
      ]
     },
     "metadata": {},
     "output_type": "display_data"
    }
   ],
   "source": [
    "fig, ax = plt.subplots()\n",
    "sns.set_style('white')\n",
    "x = ax.imshow(output_thumbnail_preds > 0.5, cmap='gray')\n",
    "#plt.colorbar(x)\n",
    "fig.tight_layout()\n"
   ]
  },
  {
   "cell_type": "code",
   "execution_count": null,
   "metadata": {},
   "outputs": [],
   "source": []
  }
 ],
 "metadata": {
  "kernelspec": {
   "display_name": "Python [default]",
   "language": "python",
   "name": "python3"
  },
  "language_info": {
   "codemirror_mode": {
    "name": "ipython",
    "version": 3
   },
   "file_extension": ".py",
   "mimetype": "text/x-python",
   "name": "python",
   "nbconvert_exporter": "python",
   "pygments_lexer": "ipython3",
   "version": "3.5.5"
  }
 },
 "nbformat": 4,
 "nbformat_minor": 2
}
