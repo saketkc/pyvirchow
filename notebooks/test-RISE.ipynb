{
 "cells": [
  {
   "cell_type": "code",
   "execution_count": 9,
   "metadata": {
    "slideshow": {
     "slide_type": "slide"
    }
   },
   "outputs": [
    {
     "name": "stdout",
     "output_type": "stream",
     "text": [
      "Populating the interactive namespace from numpy and matplotlib\n"
     ]
    },
    {
     "name": "stderr",
     "output_type": "stream",
     "text": [
      "/home/saket/anaconda3/lib/python3.5/site-packages/IPython/core/magics/pylab.py:160: UserWarning: pylab import has clobbered these variables: ['interactive']\n",
      "`%matplotlib` prevents importing * from pylab and numpy\n",
      "  \"\\n`%matplotlib` prevents importing * from pylab and numpy\"\n"
     ]
    }
   ],
   "source": [
    "% pylab inline\n",
    "from numpy import linalg as LA\n",
    "from ipywidgets import interact, interactive, fixed, interact_manual\n",
    "import ipywidgets as widgets\n",
    "\n",
    "def plot_gaussian(shrinkage):\n",
    "    np.random.seed(42)\n",
    "    mean = [0, 0]\n",
    "    cov = [[2, 0], [0, 2]]\n",
    "\n",
    "    fig = plt.figure(figsize=(16, 8))\n",
    "    x = np.random.multivariate_normal(mean, cov, 100)\n",
    "    y = x/shrinkage + x/LA.norm(x, 2, axis=1)[:, None]\n",
    "    ax = plt.subplot(121)\n",
    "    ax.scatter(x[:,0], x[:,1])\n",
    "    ax = plt.subplot(122)\n",
    "    ax.scatter(y[:,0], y[:,1])\n",
    "   "
   ]
  },
  {
   "cell_type": "markdown",
   "metadata": {
    "slideshow": {
     "slide_type": "slide"
    }
   },
   "source": [
    "$$Z \\sim \\mathcal{N}(0, \\sigma^2)$$"
   ]
  },
  {
   "cell_type": "code",
   "execution_count": 8,
   "metadata": {
    "nbpresent": {
     "id": "72fb3aeb-3968-4299-a136-e1ecaa7174ae"
    },
    "slideshow": {
     "slide_type": "slide"
    }
   },
   "outputs": [
    {
     "data": {
      "application/vnd.jupyter.widget-view+json": {
       "model_id": "725a5ba7aaed4b8fb8a6d469b9f75dde",
       "version_major": 2,
       "version_minor": 0
      },
      "text/plain": [
       "interactive(children=(IntSlider(value=1, description='shrinkage', max=300, min=1), Output()), _dom_classes=('w…"
      ]
     },
     "metadata": {},
     "output_type": "display_data"
    },
    {
     "data": {
      "text/plain": [
       "<function __main__.plot_gaussian(shrinkage)>"
      ]
     },
     "execution_count": 8,
     "metadata": {},
     "output_type": "execute_result"
    }
   ],
   "source": [
    "interact(plot_gaussian, shrinkage=widgets.IntSlider(min=1, max=300,\n",
    "                                                    step=1,value=1))"
   ]
  },
  {
   "cell_type": "code",
   "execution_count": 4,
   "metadata": {
    "nbpresent": {
     "id": "686066f5-7c3b-42b0-8dc8-ce01a270a72e"
    },
    "slideshow": {
     "slide_type": "slide"
    }
   },
   "outputs": [],
   "source": [
    "b=2"
   ]
  },
  {
   "cell_type": "code",
   "execution_count": null,
   "metadata": {
    "nbpresent": {
     "id": "c1be4ea5-67bf-40b1-995b-f23b4705750e"
    },
    "slideshow": {
     "slide_type": "slide"
    }
   },
   "outputs": [],
   "source": [
    "c =3 "
   ]
  },
  {
   "cell_type": "code",
   "execution_count": null,
   "metadata": {
    "nbpresent": {
     "id": "79047501-8f0d-4520-9fce-c05af1859358"
    },
    "slideshow": {
     "slide_type": "slide"
    }
   },
   "outputs": [],
   "source": []
  }
 ],
 "metadata": {
  "anaconda-cloud": {},
  "celltoolbar": "Slideshow",
  "kernelspec": {
   "display_name": "Python [default]",
   "language": "python",
   "name": "python3"
  },
  "language_info": {
   "codemirror_mode": {
    "name": "ipython",
    "version": 3
   },
   "file_extension": ".py",
   "mimetype": "text/x-python",
   "name": "python",
   "nbconvert_exporter": "python",
   "pygments_lexer": "ipython3",
   "version": "3.5.5"
  },
  "nbpresent": {
   "slides": {
    "0721253c-7636-4833-8744-99c81e5975f7": {
     "id": "0721253c-7636-4833-8744-99c81e5975f7",
     "prev": "78956bab-016e-44ca-bee4-4f58d3dcf8ce",
     "regions": {
      "1e5551e9-2075-44ad-bcad-2e9cd1ce319f": {
       "attrs": {
        "height": 0.8,
        "width": 0.8,
        "x": 0.1,
        "y": 0.1
       },
       "content": {
        "cell": "c1be4ea5-67bf-40b1-995b-f23b4705750e",
        "part": "whole"
       },
       "id": "1e5551e9-2075-44ad-bcad-2e9cd1ce319f"
      }
     }
    },
    "2b812b88-55f2-451c-9258-80d433f820b9": {
     "id": "2b812b88-55f2-451c-9258-80d433f820b9",
     "layout": "grid",
     "prev": null,
     "regions": {
      "28a6ada0-5282-4694-a8aa-524497446037": {
       "attrs": {
        "height": 0.8333333333333334,
        "pad": 0.01,
        "width": 0.8333333333333334,
        "x": 0.1664370078740158,
        "y": 0.08333333333333333
       },
       "content": {
        "cell": "72fb3aeb-3968-4299-a136-e1ecaa7174ae",
        "part": "whole"
       },
       "id": "28a6ada0-5282-4694-a8aa-524497446037"
      }
     }
    },
    "78956bab-016e-44ca-bee4-4f58d3dcf8ce": {
     "id": "78956bab-016e-44ca-bee4-4f58d3dcf8ce",
     "prev": "2b812b88-55f2-451c-9258-80d433f820b9",
     "regions": {
      "8ab31f02-5b3e-4214-8ecb-f9da089a238e": {
       "attrs": {
        "height": 0.8,
        "width": 0.8,
        "x": 0.1,
        "y": 0.1
       },
       "content": {
        "cell": "686066f5-7c3b-42b0-8dc8-ce01a270a72e",
        "part": "whole"
       },
       "id": "8ab31f02-5b3e-4214-8ecb-f9da089a238e"
      }
     }
    },
    "ec9c0c97-d18b-4a3e-95ec-4f82d1461c90": {
     "id": "ec9c0c97-d18b-4a3e-95ec-4f82d1461c90",
     "prev": "0721253c-7636-4833-8744-99c81e5975f7",
     "regions": {
      "6a2312e3-26fb-4be4-981a-334dcd00fe84": {
       "attrs": {
        "height": 0.8,
        "width": 0.8,
        "x": 0.1,
        "y": 0.1
       },
       "content": {
        "cell": "79047501-8f0d-4520-9fce-c05af1859358",
        "part": "whole"
       },
       "id": "6a2312e3-26fb-4be4-981a-334dcd00fe84"
      }
     }
    }
   },
   "themes": {}
  }
 },
 "nbformat": 4,
 "nbformat_minor": 2
}
