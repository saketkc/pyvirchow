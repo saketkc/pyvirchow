{
 "cells": [
  {
   "cell_type": "code",
   "execution_count": 1,
   "metadata": {},
   "outputs": [
    {
     "name": "stdout",
     "output_type": "stream",
     "text": [
      "Populating the interactive namespace from numpy and matplotlib\n"
     ]
    },
    {
     "name": "stderr",
     "output_type": "stream",
     "text": [
      "/home/saket/anaconda3/lib/python3.5/importlib/_bootstrap.py:222: RuntimeWarning: numpy.dtype size changed, may indicate binary incompatibility. Expected 96, got 88\n",
      "  return f(*args, **kwds)\n"
     ]
    }
   ],
   "source": [
    "%pylab inline\n",
    "import pandas as pd\n",
    "import os\n",
    "import glob\n",
    "from tqdm import tqdm_notebook\n",
    "from multiprocessing import Pool"
   ]
  },
  {
   "cell_type": "code",
   "execution_count": 2,
   "metadata": {},
   "outputs": [],
   "source": [
    "test_tumor_segmented_tsv_dir = '/Z/personal-folders/interns/saket/histopath_data/baidu_images/test_normal_tumor_level0/normal/'\n",
    "test_normal_segmented_tsv_dir = '/Z/personal-folders/interns/saket/histopath_data/baidu_images/test_normal_level0_segmented/level_0/'\n",
    "\n",
    "\n",
    "test_normal_segmented_tsv = glob.glob(test_normal_segmented_tsv_dir+'/*.tsv')\n",
    "test_tumor_segmented_tsv = glob.glob(test_tumor_segmented_tsv_dir+'/*.tsv')\n"
   ]
  },
  {
   "cell_type": "code",
   "execution_count": 2,
   "metadata": {},
   "outputs": [],
   "source": [
    "df = pd.DataFrame()\n",
    "y = []\n",
    "\n",
    "def load_df(path):\n",
    "    temp_df = pd.read_table(path)\n",
    "    if len(temp_df.index):\n",
    "        return temp_df\n",
    "    return None"
   ]
  },
  {
   "cell_type": "code",
   "execution_count": 4,
   "metadata": {},
   "outputs": [
    {
     "data": {
      "application/vnd.jupyter.widget-view+json": {
       "model_id": "f15ade8ed01444109d63cf98de9b332e",
       "version_major": 2,
       "version_minor": 0
      },
      "text/plain": [
       "HBox(children=(IntProgress(value=0, max=289), HTML(value='')))"
      ]
     },
     "metadata": {},
     "output_type": "display_data"
    },
    {
     "name": "stdout",
     "output_type": "stream",
     "text": [
      "\n"
     ]
    }
   ],
   "source": [
    "with tqdm_notebook(total=len(test_normal_segmented_tsv)) as pbar:\n",
    "    with Pool(processes=32) as p:\n",
    "        for i, temp_df in enumerate(p.imap_unordered(load_df, test_normal_segmented_tsv)):\n",
    "            if temp_df is not None:\n",
    "                df = pd.concat((df, temp_df))\n",
    "                y.append(0)\n",
    "            pbar.update()"
   ]
  },
  {
   "cell_type": "code",
   "execution_count": 5,
   "metadata": {},
   "outputs": [
    {
     "data": {
      "application/vnd.jupyter.widget-view+json": {
       "model_id": "46a929347a7949ba9712b0571157701b",
       "version_major": 2,
       "version_minor": 0
      },
      "text/plain": [
       "HBox(children=(IntProgress(value=0, max=11870), HTML(value='')))"
      ]
     },
     "metadata": {},
     "output_type": "display_data"
    },
    {
     "name": "stdout",
     "output_type": "stream",
     "text": [
      "\n"
     ]
    }
   ],
   "source": [
    "with tqdm_notebook(total=len(test_tumor_segmented_tsv)) as pbar:\n",
    "    with Pool(processes=32) as p:\n",
    "        for i, temp_df in enumerate(p.imap_unordered(load_df, test_tumor_segmented_tsv)):\n",
    "            if temp_df is not None:\n",
    "                df = pd.concat((df, temp_df))\n",
    "                y.append(1)\n",
    "            pbar.update()"
   ]
  },
  {
   "cell_type": "code",
   "execution_count": 6,
   "metadata": {},
   "outputs": [],
   "source": [
    "df_with_labels = df.copy()\n",
    "df_with_labels['label'] = y\n",
    "df_with_labels = df_with_labels.dropna()\n",
    "df_with_labels.to_csv('test_normal_tumor_segmened_with_labels.csv', header=True, index=False)"
   ]
  },
  {
   "cell_type": "markdown",
   "metadata": {},
   "source": [
    "# Train"
   ]
  },
  {
   "cell_type": "code",
   "execution_count": 3,
   "metadata": {},
   "outputs": [],
   "source": [
    "df = pd.DataFrame()\n",
    "y = []\n",
    "\n",
    "def load_df(path):\n",
    "    temp_df = pd.read_table(path)\n",
    "    if len(temp_df.index):\n",
    "        return temp_df\n",
    "    return None"
   ]
  },
  {
   "cell_type": "code",
   "execution_count": null,
   "metadata": {},
   "outputs": [],
   "source": [
    "train_tumor_segmented_tsv_dir = '/Z/personal-folders/interns/saket/histopath_data/baidu_images/le'\n",
    "train_normal_segmented_tsv_dir = '/Z/personal-folders/interns/saket/histopath_data/baidu_images/test_normal_level0_segmented/level_0/'\n",
    "\n",
    "\n",
    "train_normal_segmented_tsv = glob.glob(test_normal_segmented_tsv_dir+'/*.tsv')\n",
    "train_tumor_segmented_tsv = glob.glob(test_tumor_segmented_tsv_dir+'/*.tsv')\n"
   ]
  }
 ],
 "metadata": {
  "kernelspec": {
   "display_name": "Python [default]",
   "language": "python",
   "name": "python3"
  },
  "language_info": {
   "codemirror_mode": {
    "name": "ipython",
    "version": 3
   },
   "file_extension": ".py",
   "mimetype": "text/x-python",
   "name": "python",
   "nbconvert_exporter": "python",
   "pygments_lexer": "ipython3",
   "version": "3.5.5"
  }
 },
 "nbformat": 4,
 "nbformat_minor": 2
}
